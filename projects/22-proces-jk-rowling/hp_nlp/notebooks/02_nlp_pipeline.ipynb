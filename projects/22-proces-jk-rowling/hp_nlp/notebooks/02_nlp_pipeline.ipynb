{
 "cells": [
  {
   "cell_type": "markdown",
   "metadata": {},
   "source": [
    "# 🧠 Notebook 2 - Pipeline NLP Complet\n",
    "\n",
    "Ce notebook applique les techniques NLP avancées sur le corpus Harry Potter.\n",
    "\n",
    "## Objectifs\n",
    "1. Tokenisation et POS tagging avec spaCy\n",
    "2. Named Entity Recognition (NER)\n",
    "3. Résolution de coréférence\n",
    "4. Attribution de locuteur pour les dialogues\n",
    "5. Index d'entités principales\n",
    "\n",
    "## Entrées\n",
    "- `data/sentences.parquet` : corpus segmenté\n",
    "\n",
    "## Sorties\n",
    "- `data/nlp_processed.parquet` : texte avec annotations NLP\n",
    "- `data/entities_index.parquet` : index des entités nommées"
   ]
  },
  {
   "cell_type": "code",
   "execution_count": 1,
   "metadata": {
    "execution": {
     "iopub.execute_input": "2025-10-16T14:31:09.488218Z",
     "iopub.status.busy": "2025-10-16T14:31:09.488218Z",
     "iopub.status.idle": "2025-10-16T14:31:11.702998Z",
     "shell.execute_reply": "2025-10-16T14:31:11.702998Z"
    }
   },
   "outputs": [
    {
     "name": "stdout",
     "output_type": "stream",
     "text": [
      "📁 Data directory: C:\\Users\\julie\\src\\School\\Workshop\\workshop-poudlard-epsi\\projects\\22-proces-jk-rowling\\hp_nlp\\data\n"
     ]
    }
   ],
   "source": [
    "# Imports\n",
    "import os\n",
    "import re\n",
    "import json\n",
    "from pathlib import Path\n",
    "from typing import Dict, List, Tuple, Optional\n",
    "import pandas as pd\n",
    "import numpy as np\n",
    "from tqdm import tqdm\n",
    "import spacy\n",
    "from collections import defaultdict, Counter\n",
    "\n",
    "# Configuration\n",
    "NOTEBOOK_DIR = Path().absolute()\n",
    "PROJECT_ROOT = NOTEBOOK_DIR.parent\n",
    "DATA_DIR = PROJECT_ROOT / \"data\"\n",
    "\n",
    "print(f\"📁 Data directory: {DATA_DIR}\")"
   ]
  },
  {
   "cell_type": "markdown",
   "metadata": {},
   "source": [
    "## 1. Charger le modèle spaCy\n",
    "\n",
    "Nous utilisons `fr_core_news_lg` pour une meilleure précision en français."
   ]
  },
  {
   "cell_type": "code",
   "execution_count": 2,
   "metadata": {
    "execution": {
     "iopub.execute_input": "2025-10-16T14:31:11.716529Z",
     "iopub.status.busy": "2025-10-16T14:31:11.716529Z",
     "iopub.status.idle": "2025-10-16T14:31:14.958223Z",
     "shell.execute_reply": "2025-10-16T14:31:14.958223Z"
    }
   },
   "outputs": [
    {
     "name": "stdout",
     "output_type": "stream",
     "text": [
      "✅ Modèle fr_core_news_lg chargé\n",
      "\n",
      "📋 Pipeline components: ['tok2vec', 'morphologizer', 'parser', 'attribute_ruler', 'lemmatizer', 'ner']\n"
     ]
    }
   ],
   "source": [
    "# Charger le modèle français\n",
    "# Note: Installer avec: python -m spacy download fr_core_news_lg\n",
    "try:\n",
    "    nlp = spacy.load(\"fr_core_news_lg\")\n",
    "    print(\"✅ Modèle fr_core_news_lg chargé\")\n",
    "except OSError:\n",
    "    print(\"⚠️  Modèle fr_core_news_lg non trouvé, essai avec fr_core_news_sm\")\n",
    "    try:\n",
    "        nlp = spacy.load(\"fr_core_news_sm\")\n",
    "        print(\"✅ Modèle fr_core_news_sm chargé\")\n",
    "    except OSError:\n",
    "        print(\"❌ Aucun modèle français trouvé. Installez avec:\")\n",
    "        print(\"   python -m spacy download fr_core_news_lg\")\n",
    "        raise\n",
    "\n",
    "# Configuration du pipeline\n",
    "print(f\"\\n📋 Pipeline components: {nlp.pipe_names}\")"
   ]
  },
  {
   "cell_type": "code",
   "execution_count": 3,
   "metadata": {
    "execution": {
     "iopub.execute_input": "2025-10-16T14:31:14.958223Z",
     "iopub.status.busy": "2025-10-16T14:31:14.958223Z",
     "iopub.status.idle": "2025-10-16T14:31:15.020878Z",
     "shell.execute_reply": "2025-10-16T14:31:15.020878Z"
    }
   },
   "outputs": [
    {
     "name": "stdout",
     "output_type": "stream",
     "text": [
      "📊 Données chargées: (58654, 5)\n",
      "\n",
      "📖 Livres: [\"L'École des Sorciers\" 'La Chambre des Secrets' \"Le Prisonnier d'Azkaban\"\n",
      " 'La Coupe de Feu' \"L'Ordre du Phénix\" 'Le Prince de Sang-Mêlé'\n",
      " 'Les Reliques de la Mort']\n"
     ]
    }
   ],
   "source": [
    "# Charger les données\n",
    "df = pd.read_parquet(DATA_DIR / 'sentences.parquet')\n",
    "print(f\"📊 Données chargées: {df.shape}\")\n",
    "print(f\"\\n📖 Livres: {df['book_title'].unique()}\")"
   ]
  },
  {
   "cell_type": "markdown",
   "metadata": {},
   "source": [
    "## 2. Named Entity Recognition (NER)\n",
    "\n",
    "Extraction des personnages et lieux mentionnés."
   ]
  },
  {
   "cell_type": "code",
   "execution_count": 4,
   "metadata": {
    "execution": {
     "iopub.execute_input": "2025-10-16T14:31:15.022452Z",
     "iopub.status.busy": "2025-10-16T14:31:15.022452Z",
     "iopub.status.idle": "2025-10-16T14:31:15.026548Z",
     "shell.execute_reply": "2025-10-16T14:31:15.026548Z"
    }
   },
   "outputs": [],
   "source": [
    "# Personnages principaux à tracker (canonique)\n",
    "MAIN_CHARACTERS = {\n",
    "    'Harry': ['Harry', 'Potter', 'Harry Potter'],\n",
    "    'Hermione': ['Hermione', 'Granger', 'Hermione Granger'],\n",
    "    'Ron': ['Ron', 'Ronald', 'Weasley', 'Ron Weasley'],\n",
    "    'Dumbledore': ['Dumbledore', 'Albus', 'directeur'],\n",
    "    'Rogue': ['Rogue', 'Severus', 'Snape', 'professeur Rogue'],\n",
    "    'Voldemort': ['Voldemort', 'Vous-Savez-Qui', 'Seigneur des Ténèbres'],\n",
    "    'Hagrid': ['Hagrid', 'Rubeus'],\n",
    "    'McGonagall': ['McGonagall', 'professeur McGonagall'],\n",
    "    'Sirius': ['Sirius', 'Black', 'Sirius Black'],\n",
    "    'Draco': ['Draco', 'Malfoy', 'Draco Malfoy']\n",
    "}\n",
    "\n",
    "\n",
    "def normalize_character_name(text: str) -> Optional[str]:\n",
    "    \"\"\"Normalise un nom de personnage vers sa forme canonique.\"\"\"\n",
    "    text_lower = text.lower()\n",
    "    \n",
    "    for canonical, variants in MAIN_CHARACTERS.items():\n",
    "        for variant in variants:\n",
    "            if variant.lower() in text_lower:\n",
    "                return canonical\n",
    "    \n",
    "    return None"
   ]
  },
  {
   "cell_type": "code",
   "execution_count": 5,
   "metadata": {
    "execution": {
     "iopub.execute_input": "2025-10-16T14:31:15.027576Z",
     "iopub.status.busy": "2025-10-16T14:31:15.027576Z",
     "iopub.status.idle": "2025-10-16T14:31:15.050870Z",
     "shell.execute_reply": "2025-10-16T14:31:15.050870Z"
    }
   },
   "outputs": [
    {
     "name": "stdout",
     "output_type": "stream",
     "text": [
      "\n",
      "🔍 Test extraction d'entités:\n",
      "Texte: Toute\n",
      "allusion\tà\tsa\tsoeur\tla\tmettait\tdans\tun\ttel\tétat\t!...\n",
      "Entités: {'persons': [], 'locations': [], 'organizations': []}\n"
     ]
    }
   ],
   "source": [
    "# Fonction pour extraire les entités d'une phrase\n",
    "def extract_entities(text: str, nlp_model) -> Dict:\n",
    "    \"\"\"Extrait les entités nommées d'un texte.\"\"\"\n",
    "    doc = nlp_model(text)\n",
    "    \n",
    "    entities = {\n",
    "        'persons': [],\n",
    "        'locations': [],\n",
    "        'organizations': []\n",
    "    }\n",
    "    \n",
    "    for ent in doc.ents:\n",
    "        if ent.label_ == 'PER':\n",
    "            normalized = normalize_character_name(ent.text)\n",
    "            if normalized:\n",
    "                entities['persons'].append(normalized)\n",
    "            else:\n",
    "                entities['persons'].append(ent.text)\n",
    "        elif ent.label_ == 'LOC':\n",
    "            entities['locations'].append(ent.text)\n",
    "        elif ent.label_ == 'ORG':\n",
    "            entities['organizations'].append(ent.text)\n",
    "    \n",
    "    return entities\n",
    "\n",
    "\n",
    "# Test sur un échantillon\n",
    "sample_text = df.iloc[100]['text']\n",
    "sample_entities = extract_entities(sample_text, nlp)\n",
    "print(\"\\n🔍 Test extraction d'entités:\")\n",
    "print(f\"Texte: {sample_text[:200]}...\")\n",
    "print(f\"Entités: {sample_entities}\")"
   ]
  },
  {
   "cell_type": "markdown",
   "metadata": {},
   "source": [
    "## 3. Attribution de locuteur\n",
    "\n",
    "Détection du personnage qui parle dans les dialogues."
   ]
  },
  {
   "cell_type": "code",
   "execution_count": 6,
   "metadata": {
    "execution": {
     "iopub.execute_input": "2025-10-16T14:31:15.052380Z",
     "iopub.status.busy": "2025-10-16T14:31:15.052380Z",
     "iopub.status.idle": "2025-10-16T14:31:15.056401Z",
     "shell.execute_reply": "2025-10-16T14:31:15.056401Z"
    }
   },
   "outputs": [
    {
     "name": "stdout",
     "output_type": "stream",
     "text": [
      "\n",
      "🗣️  Test détection de locuteur:\n",
      "  '« Mais c'est impossible ! » dit Hermione....' -> Dialogue: True, Locuteur: Hermione\n",
      "  'Harry répondit calmement : « Je sais. »...' -> Dialogue: True, Locuteur: Harry\n",
      "  '— Tu es sûr ? demanda Ron....' -> Dialogue: True, Locuteur: Ron\n",
      "  'Il faisait beau ce jour-là....' -> Dialogue: False, Locuteur: None\n"
     ]
    }
   ],
   "source": [
    "def detect_speaker(text: str) -> Optional[str]:\n",
    "    \"\"\"Détecte le locuteur dans une phrase contenant du dialogue.\n",
    "    \n",
    "    Utilise des heuristiques basées sur les patterns de dialogue français:\n",
    "    - « dialogue » dit X\n",
    "    - X dit : « dialogue »\n",
    "    - — dialogue, dit X\n",
    "    \"\"\"\n",
    "    # Pattern: dit/déclara/répondit + nom\n",
    "    patterns = [\n",
    "        r'(?:dit|déclara|répondit|s\\'écria|demanda|murmura|hurla)\\s+([A-ZÀ-Ü][a-zà-ü]+)',\n",
    "        r'([A-ZÀ-Ü][a-zà-ü]+)\\s+(?:dit|déclara|répondit|s\\'écria|demanda|murmura|hurla)',\n",
    "    ]\n",
    "    \n",
    "    for pattern in patterns:\n",
    "        match = re.search(pattern, text)\n",
    "        if match:\n",
    "            speaker = match.group(1)\n",
    "            # Normaliser vers personnage principal si possible\n",
    "            normalized = normalize_character_name(speaker)\n",
    "            return normalized if normalized else speaker\n",
    "    \n",
    "    return None\n",
    "\n",
    "\n",
    "def is_dialogue(text: str) -> bool:\n",
    "    \"\"\"Détecte si une phrase contient du dialogue.\"\"\"\n",
    "    dialogue_markers = ['«', '»', '—', 'dit', 'déclara', 'répondit', \"s'écria\"]\n",
    "    return any(marker in text for marker in dialogue_markers)\n",
    "\n",
    "\n",
    "# Test\n",
    "test_sentences = [\n",
    "    '« Mais c\\'est impossible ! » dit Hermione.',\n",
    "    'Harry répondit calmement : « Je sais. »',\n",
    "    '— Tu es sûr ? demanda Ron.',\n",
    "    'Il faisait beau ce jour-là.'\n",
    "]\n",
    "\n",
    "print(\"\\n🗣️  Test détection de locuteur:\")\n",
    "for sent in test_sentences:\n",
    "    speaker = detect_speaker(sent)\n",
    "    is_dial = is_dialogue(sent)\n",
    "    print(f\"  '{sent[:50]}...' -> Dialogue: {is_dial}, Locuteur: {speaker}\")"
   ]
  },
  {
   "cell_type": "markdown",
   "metadata": {},
   "source": [
    "## 4. Traitement du corpus complet\n",
    "\n",
    "Application du pipeline NLP sur toutes les phrases."
   ]
  },
  {
   "cell_type": "code",
   "execution_count": 7,
   "metadata": {
    "execution": {
     "iopub.execute_input": "2025-10-16T14:31:15.058408Z",
     "iopub.status.busy": "2025-10-16T14:31:15.057407Z",
     "iopub.status.idle": "2025-10-16T14:31:15.064401Z",
     "shell.execute_reply": "2025-10-16T14:31:15.064401Z"
    }
   },
   "outputs": [
    {
     "name": "stdout",
     "output_type": "stream",
     "text": [
      "📊 Traitement de 58,654 phrases (corpus complet, 7 livres)...\n",
      "⏳ Cela peut prendre 10-30 minutes selon votre machine...\n",
      "📚 Livres à traiter: 7\n",
      "\n"
     ]
    }
   ],
   "source": [
    "# Traiter le corpus complet (tous les livres)\n",
    "# Note: Pour tests rapides, décommentez la ligne suivante pour limiter à 5000 phrases\n",
    "# SAMPLE_SIZE = 5000\n",
    "# df_sample = df.head(SAMPLE_SIZE).copy()\n",
    "\n",
    "df_sample = df.copy()  # Traiter toutes les phrases de tous les livres\n",
    "\n",
    "print(f\"📊 Traitement de {len(df_sample):,} phrases (corpus complet, 7 livres)...\")\n",
    "print(\"⏳ Cela peut prendre 10-30 minutes selon votre machine...\")\n",
    "print(f\"📚 Livres à traiter: {df_sample['book_title'].nunique()}\")\n",
    "print()"
   ]
  },
  {
   "cell_type": "code",
   "execution_count": 8,
   "metadata": {
    "execution": {
     "iopub.execute_input": "2025-10-16T14:31:15.065405Z",
     "iopub.status.busy": "2025-10-16T14:31:15.065405Z",
     "iopub.status.idle": "2025-10-16T14:36:23.383651Z",
     "shell.execute_reply": "2025-10-16T14:36:23.383651Z"
    }
   },
   "outputs": [
    {
     "name": "stderr",
     "output_type": "stream",
     "text": [
      "\r",
      "Processing batches:   0%|                                                                                                          | 0/587 [00:00<?, ?it/s]"
     ]
    },
    {
     "name": "stderr",
     "output_type": "stream",
     "text": [
      "\r",
      "Processing batches:   0%|▏                                                                                                 | 1/587 [00:00<05:30,  1.77it/s]"
     ]
    },
    {
     "name": "stderr",
     "output_type": "stream",
     "text": [
      "\r",
      "Processing batches:   0%|▎                                                                                                 | 2/587 [00:01<05:07,  1.90it/s]"
     ]
    },
    {
     "name": "stderr",
     "output_type": "stream",
     "text": [
      "\r",
      "Processing batches:   1%|▌                                                                                                 | 3/587 [00:01<04:53,  1.99it/s]"
     ]
    },
    {
     "name": "stderr",
     "output_type": "stream",
     "text": [
      "\r",
      "Processing batches:   1%|▋                                                                                                 | 4/587 [00:02<04:58,  1.95it/s]"
     ]
    },
    {
     "name": "stderr",
     "output_type": "stream",
     "text": [
      "\r",
      "Processing batches:   1%|▊                                                                                                 | 5/587 [00:02<05:01,  1.93it/s]"
     ]
    },
    {
     "name": "stderr",
     "output_type": "stream",
     "text": [
      "\r",
      "Processing batches:   1%|█                                                                                                 | 6/587 [00:03<05:01,  1.92it/s]"
     ]
    },
    {
     "name": "stderr",
     "output_type": "stream",
     "text": [
      "\r",
      "Processing batches:   1%|█▏                                                                                                | 7/587 [00:03<04:54,  1.97it/s]"
     ]
    },
    {
     "name": "stderr",
     "output_type": "stream",
     "text": [
      "\r",
      "Processing batches:   1%|█▎                                                                                                | 8/587 [00:04<04:43,  2.04it/s]"
     ]
    },
    {
     "name": "stderr",
     "output_type": "stream",
     "text": [
      "\r",
      "Processing batches:   2%|█▌                                                                                                | 9/587 [00:04<04:40,  2.06it/s]"
     ]
    },
    {
     "name": "stderr",
     "output_type": "stream",
     "text": [
      "\r",
      "Processing batches:   2%|█▋                                                                                               | 10/587 [00:04<04:29,  2.14it/s]"
     ]
    },
    {
     "name": "stderr",
     "output_type": "stream",
     "text": [
      "\r",
      "Processing batches:   2%|█▊                                                                                               | 11/587 [00:05<04:25,  2.17it/s]"
     ]
    },
    {
     "name": "stderr",
     "output_type": "stream",
     "text": [
      "\r",
      "Processing batches:   2%|█▉                                                                                               | 12/587 [00:05<04:36,  2.08it/s]"
     ]
    },
    {
     "name": "stderr",
     "output_type": "stream",
     "text": [
      "\r",
      "Processing batches:   2%|██▏                                                                                              | 13/587 [00:06<04:35,  2.08it/s]"
     ]
    },
    {
     "name": "stderr",
     "output_type": "stream",
     "text": [
      "\r",
      "Processing batches:   2%|██▎                                                                                              | 14/587 [00:06<04:38,  2.06it/s]"
     ]
    },
    {
     "name": "stderr",
     "output_type": "stream",
     "text": [
      "\r",
      "Processing batches:   3%|██▍                                                                                              | 15/587 [00:07<04:28,  2.13it/s]"
     ]
    },
    {
     "name": "stderr",
     "output_type": "stream",
     "text": [
      "\r",
      "Processing batches:   3%|██▋                                                                                              | 16/587 [00:07<04:26,  2.14it/s]"
     ]
    },
    {
     "name": "stderr",
     "output_type": "stream",
     "text": [
      "\r",
      "Processing batches:   3%|██▊                                                                                              | 17/587 [00:08<04:27,  2.13it/s]"
     ]
    },
    {
     "name": "stderr",
     "output_type": "stream",
     "text": [
      "\r",
      "Processing batches:   3%|██▉                                                                                              | 18/587 [00:08<04:24,  2.15it/s]"
     ]
    },
    {
     "name": "stderr",
     "output_type": "stream",
     "text": [
      "\r",
      "Processing batches:   3%|███▏                                                                                             | 19/587 [00:09<04:24,  2.15it/s]"
     ]
    },
    {
     "name": "stderr",
     "output_type": "stream",
     "text": [
      "\r",
      "Processing batches:   3%|███▎                                                                                             | 20/587 [00:09<04:16,  2.21it/s]"
     ]
    },
    {
     "name": "stderr",
     "output_type": "stream",
     "text": [
      "\r",
      "Processing batches:   4%|███▍                                                                                             | 21/587 [00:10<04:22,  2.16it/s]"
     ]
    },
    {
     "name": "stderr",
     "output_type": "stream",
     "text": [
      "\r",
      "Processing batches:   4%|███▋                                                                                             | 22/587 [00:10<04:29,  2.10it/s]"
     ]
    },
    {
     "name": "stderr",
     "output_type": "stream",
     "text": [
      "\r",
      "Processing batches:   4%|███▊                                                                                             | 23/587 [00:11<04:29,  2.09it/s]"
     ]
    },
    {
     "name": "stderr",
     "output_type": "stream",
     "text": [
      "\r",
      "Processing batches:   4%|███▉                                                                                             | 24/587 [00:11<04:19,  2.17it/s]"
     ]
    },
    {
     "name": "stderr",
     "output_type": "stream",
     "text": [
      "\r",
      "Processing batches:   4%|████▏                                                                                            | 25/587 [00:11<04:13,  2.21it/s]"
     ]
    },
    {
     "name": "stderr",
     "output_type": "stream",
     "text": [
      "\r",
      "Processing batches:   4%|████▎                                                                                            | 26/587 [00:12<04:15,  2.20it/s]"
     ]
    },
    {
     "name": "stderr",
     "output_type": "stream",
     "text": [
      "\r",
      "Processing batches:   5%|████▍                                                                                            | 27/587 [00:12<04:12,  2.22it/s]"
     ]
    },
    {
     "name": "stderr",
     "output_type": "stream",
     "text": [
      "\r",
      "Processing batches:   5%|████▋                                                                                            | 28/587 [00:13<04:15,  2.19it/s]"
     ]
    },
    {
     "name": "stderr",
     "output_type": "stream",
     "text": [
      "\r",
      "Processing batches:   5%|████▊                                                                                            | 29/587 [00:13<04:08,  2.24it/s]"
     ]
    },
    {
     "name": "stderr",
     "output_type": "stream",
     "text": [
      "\r",
      "Processing batches:   5%|████▉                                                                                            | 30/587 [00:14<04:10,  2.23it/s]"
     ]
    },
    {
     "name": "stderr",
     "output_type": "stream",
     "text": [
      "\r",
      "Processing batches:   5%|█████                                                                                            | 31/587 [00:14<04:13,  2.19it/s]"
     ]
    },
    {
     "name": "stderr",
     "output_type": "stream",
     "text": [
      "\r",
      "Processing batches:   5%|█████▎                                                                                           | 32/587 [00:15<04:07,  2.25it/s]"
     ]
    },
    {
     "name": "stderr",
     "output_type": "stream",
     "text": [
      "\r",
      "Processing batches:   6%|█████▍                                                                                           | 33/587 [00:15<03:59,  2.31it/s]"
     ]
    },
    {
     "name": "stderr",
     "output_type": "stream",
     "text": [
      "\r",
      "Processing batches:   6%|█████▌                                                                                           | 34/587 [00:15<04:01,  2.29it/s]"
     ]
    },
    {
     "name": "stderr",
     "output_type": "stream",
     "text": [
      "\r",
      "Processing batches:   6%|█████▊                                                                                           | 35/587 [00:16<04:04,  2.26it/s]"
     ]
    },
    {
     "name": "stderr",
     "output_type": "stream",
     "text": [
      "\r",
      "Processing batches:   6%|█████▉                                                                                           | 36/587 [00:16<03:53,  2.36it/s]"
     ]
    },
    {
     "name": "stderr",
     "output_type": "stream",
     "text": [
      "\r",
      "Processing batches:   6%|██████                                                                                           | 37/587 [00:17<03:57,  2.32it/s]"
     ]
    },
    {
     "name": "stderr",
     "output_type": "stream",
     "text": [
      "\r",
      "Processing batches:   6%|██████▎                                                                                          | 38/587 [00:17<03:50,  2.38it/s]"
     ]
    },
    {
     "name": "stderr",
     "output_type": "stream",
     "text": [
      "\r",
      "Processing batches:   7%|██████▍                                                                                          | 39/587 [00:18<03:49,  2.39it/s]"
     ]
    },
    {
     "name": "stderr",
     "output_type": "stream",
     "text": [
      "\r",
      "Processing batches:   7%|██████▌                                                                                          | 40/587 [00:18<03:46,  2.41it/s]"
     ]
    },
    {
     "name": "stderr",
     "output_type": "stream",
     "text": [
      "\r",
      "Processing batches:   7%|██████▊                                                                                          | 41/587 [00:18<03:40,  2.48it/s]"
     ]
    },
    {
     "name": "stderr",
     "output_type": "stream",
     "text": [
      "\r",
      "Processing batches:   7%|██████▉                                                                                          | 42/587 [00:19<03:44,  2.43it/s]"
     ]
    },
    {
     "name": "stderr",
     "output_type": "stream",
     "text": [
      "\r",
      "Processing batches:   7%|███████                                                                                          | 43/587 [00:19<03:47,  2.39it/s]"
     ]
    },
    {
     "name": "stderr",
     "output_type": "stream",
     "text": [
      "\r",
      "Processing batches:   7%|███████▎                                                                                         | 44/587 [00:20<03:51,  2.35it/s]"
     ]
    },
    {
     "name": "stderr",
     "output_type": "stream",
     "text": [
      "\r",
      "Processing batches:   8%|███████▍                                                                                         | 45/587 [00:20<04:04,  2.22it/s]"
     ]
    },
    {
     "name": "stderr",
     "output_type": "stream",
     "text": [
      "\r",
      "Processing batches:   8%|███████▌                                                                                         | 46/587 [00:21<03:56,  2.29it/s]"
     ]
    },
    {
     "name": "stderr",
     "output_type": "stream",
     "text": [
      "\r",
      "Processing batches:   8%|███████▊                                                                                         | 47/587 [00:21<03:45,  2.39it/s]"
     ]
    },
    {
     "name": "stderr",
     "output_type": "stream",
     "text": [
      "\r",
      "Processing batches:   8%|███████▉                                                                                         | 48/587 [00:21<03:42,  2.42it/s]"
     ]
    },
    {
     "name": "stderr",
     "output_type": "stream",
     "text": [
      "\r",
      "Processing batches:   8%|████████                                                                                         | 49/587 [00:22<03:42,  2.42it/s]"
     ]
    },
    {
     "name": "stderr",
     "output_type": "stream",
     "text": [
      "\r",
      "Processing batches:   9%|████████▎                                                                                        | 50/587 [00:22<03:57,  2.26it/s]"
     ]
    },
    {
     "name": "stderr",
     "output_type": "stream",
     "text": [
      "\r",
      "Processing batches:   9%|████████▍                                                                                        | 51/587 [00:23<04:02,  2.21it/s]"
     ]
    },
    {
     "name": "stderr",
     "output_type": "stream",
     "text": [
      "\r",
      "Processing batches:   9%|████████▌                                                                                        | 52/587 [00:23<04:01,  2.22it/s]"
     ]
    },
    {
     "name": "stderr",
     "output_type": "stream",
     "text": [
      "\r",
      "Processing batches:   9%|████████▊                                                                                        | 53/587 [00:24<04:08,  2.15it/s]"
     ]
    },
    {
     "name": "stderr",
     "output_type": "stream",
     "text": [
      "\r",
      "Processing batches:   9%|████████▉                                                                                        | 54/587 [00:24<04:07,  2.15it/s]"
     ]
    },
    {
     "name": "stderr",
     "output_type": "stream",
     "text": [
      "\r",
      "Processing batches:   9%|█████████                                                                                        | 55/587 [00:25<04:16,  2.07it/s]"
     ]
    },
    {
     "name": "stderr",
     "output_type": "stream",
     "text": [
      "\r",
      "Processing batches:  10%|█████████▎                                                                                       | 56/587 [00:25<04:19,  2.05it/s]"
     ]
    },
    {
     "name": "stderr",
     "output_type": "stream",
     "text": [
      "\r",
      "Processing batches:  10%|█████████▍                                                                                       | 57/587 [00:26<04:23,  2.01it/s]"
     ]
    },
    {
     "name": "stderr",
     "output_type": "stream",
     "text": [
      "\r",
      "Processing batches:  10%|█████████▌                                                                                       | 58/587 [00:26<04:21,  2.02it/s]"
     ]
    },
    {
     "name": "stderr",
     "output_type": "stream",
     "text": [
      "\r",
      "Processing batches:  10%|█████████▋                                                                                       | 59/587 [00:27<04:27,  1.97it/s]"
     ]
    },
    {
     "name": "stderr",
     "output_type": "stream",
     "text": [
      "\r",
      "Processing batches:  10%|█████████▉                                                                                       | 60/587 [00:27<04:20,  2.02it/s]"
     ]
    },
    {
     "name": "stderr",
     "output_type": "stream",
     "text": [
      "\r",
      "Processing batches:  10%|██████████                                                                                       | 61/587 [00:28<04:16,  2.05it/s]"
     ]
    },
    {
     "name": "stderr",
     "output_type": "stream",
     "text": [
      "\r",
      "Processing batches:  11%|██████████▏                                                                                      | 62/587 [00:28<04:09,  2.11it/s]"
     ]
    },
    {
     "name": "stderr",
     "output_type": "stream",
     "text": [
      "\r",
      "Processing batches:  11%|██████████▍                                                                                      | 63/587 [00:29<04:07,  2.12it/s]"
     ]
    },
    {
     "name": "stderr",
     "output_type": "stream",
     "text": [
      "\r",
      "Processing batches:  11%|██████████▌                                                                                      | 64/587 [00:29<04:07,  2.11it/s]"
     ]
    },
    {
     "name": "stderr",
     "output_type": "stream",
     "text": [
      "\r",
      "Processing batches:  11%|██████████▋                                                                                      | 65/587 [00:29<04:01,  2.16it/s]"
     ]
    },
    {
     "name": "stderr",
     "output_type": "stream",
     "text": [
      "\r",
      "Processing batches:  11%|██████████▉                                                                                      | 66/587 [00:30<03:57,  2.19it/s]"
     ]
    },
    {
     "name": "stderr",
     "output_type": "stream",
     "text": [
      "\r",
      "Processing batches:  11%|███████████                                                                                      | 67/587 [00:30<03:55,  2.21it/s]"
     ]
    },
    {
     "name": "stderr",
     "output_type": "stream",
     "text": [
      "\r",
      "Processing batches:  12%|███████████▏                                                                                     | 68/587 [00:31<03:57,  2.19it/s]"
     ]
    },
    {
     "name": "stderr",
     "output_type": "stream",
     "text": [
      "\r",
      "Processing batches:  12%|███████████▍                                                                                     | 69/587 [00:31<04:03,  2.13it/s]"
     ]
    },
    {
     "name": "stderr",
     "output_type": "stream",
     "text": [
      "\r",
      "Processing batches:  12%|███████████▌                                                                                     | 70/587 [00:32<03:56,  2.19it/s]"
     ]
    },
    {
     "name": "stderr",
     "output_type": "stream",
     "text": [
      "\r",
      "Processing batches:  12%|███████████▋                                                                                     | 71/587 [00:32<03:57,  2.18it/s]"
     ]
    },
    {
     "name": "stderr",
     "output_type": "stream",
     "text": [
      "\r",
      "Processing batches:  12%|███████████▉                                                                                     | 72/587 [00:33<03:58,  2.16it/s]"
     ]
    },
    {
     "name": "stderr",
     "output_type": "stream",
     "text": [
      "\r",
      "Processing batches:  12%|████████████                                                                                     | 73/587 [00:33<04:06,  2.09it/s]"
     ]
    },
    {
     "name": "stderr",
     "output_type": "stream",
     "text": [
      "\r",
      "Processing batches:  13%|████████████▏                                                                                    | 74/587 [00:34<04:00,  2.13it/s]"
     ]
    },
    {
     "name": "stderr",
     "output_type": "stream",
     "text": [
      "\r",
      "Processing batches:  13%|████████████▍                                                                                    | 75/587 [00:34<04:00,  2.13it/s]"
     ]
    },
    {
     "name": "stderr",
     "output_type": "stream",
     "text": [
      "\r",
      "Processing batches:  13%|████████████▌                                                                                    | 76/587 [00:35<03:59,  2.13it/s]"
     ]
    },
    {
     "name": "stderr",
     "output_type": "stream",
     "text": [
      "\r",
      "Processing batches:  13%|████████████▋                                                                                    | 77/587 [00:35<03:49,  2.22it/s]"
     ]
    },
    {
     "name": "stderr",
     "output_type": "stream",
     "text": [
      "\r",
      "Processing batches:  13%|████████████▉                                                                                    | 78/587 [00:35<03:47,  2.23it/s]"
     ]
    },
    {
     "name": "stderr",
     "output_type": "stream",
     "text": [
      "\r",
      "Processing batches:  13%|█████████████                                                                                    | 79/587 [00:36<03:46,  2.25it/s]"
     ]
    },
    {
     "name": "stderr",
     "output_type": "stream",
     "text": [
      "\r",
      "Processing batches:  14%|█████████████▏                                                                                   | 80/587 [00:36<03:49,  2.21it/s]"
     ]
    },
    {
     "name": "stderr",
     "output_type": "stream",
     "text": [
      "\r",
      "Processing batches:  14%|█████████████▍                                                                                   | 81/587 [00:37<03:41,  2.28it/s]"
     ]
    },
    {
     "name": "stderr",
     "output_type": "stream",
     "text": [
      "\r",
      "Processing batches:  14%|█████████████▌                                                                                   | 82/587 [00:37<03:47,  2.22it/s]"
     ]
    },
    {
     "name": "stderr",
     "output_type": "stream",
     "text": [
      "\r",
      "Processing batches:  14%|█████████████▋                                                                                   | 83/587 [00:38<03:50,  2.19it/s]"
     ]
    },
    {
     "name": "stderr",
     "output_type": "stream",
     "text": [
      "\r",
      "Processing batches:  14%|█████████████▉                                                                                   | 84/587 [00:38<03:43,  2.25it/s]"
     ]
    },
    {
     "name": "stderr",
     "output_type": "stream",
     "text": [
      "\r",
      "Processing batches:  14%|██████████████                                                                                   | 85/587 [00:39<03:44,  2.24it/s]"
     ]
    },
    {
     "name": "stderr",
     "output_type": "stream",
     "text": [
      "\r",
      "Processing batches:  15%|██████████████▏                                                                                  | 86/587 [00:39<03:41,  2.26it/s]"
     ]
    },
    {
     "name": "stderr",
     "output_type": "stream",
     "text": [
      "\r",
      "Processing batches:  15%|██████████████▍                                                                                  | 87/587 [00:39<03:44,  2.23it/s]"
     ]
    },
    {
     "name": "stderr",
     "output_type": "stream",
     "text": [
      "\r",
      "Processing batches:  15%|██████████████▌                                                                                  | 88/587 [00:40<03:42,  2.24it/s]"
     ]
    },
    {
     "name": "stderr",
     "output_type": "stream",
     "text": [
      "\r",
      "Processing batches:  15%|██████████████▋                                                                                  | 89/587 [00:40<03:37,  2.29it/s]"
     ]
    },
    {
     "name": "stderr",
     "output_type": "stream",
     "text": [
      "\r",
      "Processing batches:  15%|██████████████▊                                                                                  | 90/587 [00:41<03:36,  2.29it/s]"
     ]
    },
    {
     "name": "stderr",
     "output_type": "stream",
     "text": [
      "\r",
      "Processing batches:  16%|███████████████                                                                                  | 91/587 [00:41<03:29,  2.37it/s]"
     ]
    },
    {
     "name": "stderr",
     "output_type": "stream",
     "text": [
      "\r",
      "Processing batches:  16%|███████████████▏                                                                                 | 92/587 [00:42<03:28,  2.37it/s]"
     ]
    },
    {
     "name": "stderr",
     "output_type": "stream",
     "text": [
      "\r",
      "Processing batches:  16%|███████████████▎                                                                                 | 93/587 [00:42<03:24,  2.41it/s]"
     ]
    },
    {
     "name": "stderr",
     "output_type": "stream",
     "text": [
      "\r",
      "Processing batches:  16%|███████████████▌                                                                                 | 94/587 [00:42<03:32,  2.32it/s]"
     ]
    },
    {
     "name": "stderr",
     "output_type": "stream",
     "text": [
      "\r",
      "Processing batches:  16%|███████████████▋                                                                                 | 95/587 [00:43<03:26,  2.38it/s]"
     ]
    },
    {
     "name": "stderr",
     "output_type": "stream",
     "text": [
      "\r",
      "Processing batches:  16%|███████████████▊                                                                                 | 96/587 [00:43<03:18,  2.47it/s]"
     ]
    },
    {
     "name": "stderr",
     "output_type": "stream",
     "text": [
      "\r",
      "Processing batches:  17%|████████████████                                                                                 | 97/587 [00:44<03:20,  2.45it/s]"
     ]
    },
    {
     "name": "stderr",
     "output_type": "stream",
     "text": [
      "\r",
      "Processing batches:  17%|████████████████▏                                                                                | 98/587 [00:44<03:20,  2.44it/s]"
     ]
    },
    {
     "name": "stderr",
     "output_type": "stream",
     "text": [
      "\r",
      "Processing batches:  17%|████████████████▎                                                                                | 99/587 [00:44<03:29,  2.32it/s]"
     ]
    },
    {
     "name": "stderr",
     "output_type": "stream",
     "text": [
      "\r",
      "Processing batches:  17%|████████████████▎                                                                               | 100/587 [00:45<03:34,  2.27it/s]"
     ]
    },
    {
     "name": "stderr",
     "output_type": "stream",
     "text": [
      "\r",
      "Processing batches:  17%|████████████████▌                                                                               | 101/587 [00:45<03:30,  2.31it/s]"
     ]
    },
    {
     "name": "stderr",
     "output_type": "stream",
     "text": [
      "\r",
      "Processing batches:  17%|████████████████▋                                                                               | 102/587 [00:46<03:42,  2.17it/s]"
     ]
    },
    {
     "name": "stderr",
     "output_type": "stream",
     "text": [
      "\r",
      "Processing batches:  18%|████████████████▊                                                                               | 103/587 [00:46<03:44,  2.15it/s]"
     ]
    },
    {
     "name": "stderr",
     "output_type": "stream",
     "text": [
      "\r",
      "Processing batches:  18%|█████████████████                                                                               | 104/587 [00:47<03:48,  2.11it/s]"
     ]
    },
    {
     "name": "stderr",
     "output_type": "stream",
     "text": [
      "\r",
      "Processing batches:  18%|█████████████████▏                                                                              | 105/587 [00:47<03:42,  2.17it/s]"
     ]
    },
    {
     "name": "stderr",
     "output_type": "stream",
     "text": [
      "\r",
      "Processing batches:  18%|█████████████████▎                                                                              | 106/587 [00:48<03:44,  2.14it/s]"
     ]
    },
    {
     "name": "stderr",
     "output_type": "stream",
     "text": [
      "\r",
      "Processing batches:  18%|█████████████████▍                                                                              | 107/587 [00:48<03:46,  2.12it/s]"
     ]
    },
    {
     "name": "stderr",
     "output_type": "stream",
     "text": [
      "\r",
      "Processing batches:  18%|█████████████████▋                                                                              | 108/587 [00:49<03:50,  2.08it/s]"
     ]
    },
    {
     "name": "stderr",
     "output_type": "stream",
     "text": [
      "\r",
      "Processing batches:  19%|█████████████████▊                                                                              | 109/587 [00:49<03:48,  2.09it/s]"
     ]
    },
    {
     "name": "stderr",
     "output_type": "stream",
     "text": [
      "\r",
      "Processing batches:  19%|█████████████████▉                                                                              | 110/587 [00:50<03:49,  2.08it/s]"
     ]
    },
    {
     "name": "stderr",
     "output_type": "stream",
     "text": [
      "\r",
      "Processing batches:  19%|██████████████████▏                                                                             | 111/587 [00:50<03:38,  2.17it/s]"
     ]
    },
    {
     "name": "stderr",
     "output_type": "stream",
     "text": [
      "\r",
      "Processing batches:  19%|██████████████████▎                                                                             | 112/587 [00:51<03:42,  2.13it/s]"
     ]
    },
    {
     "name": "stderr",
     "output_type": "stream",
     "text": [
      "\r",
      "Processing batches:  19%|██████████████████▍                                                                             | 113/587 [00:51<03:40,  2.15it/s]"
     ]
    },
    {
     "name": "stderr",
     "output_type": "stream",
     "text": [
      "\r",
      "Processing batches:  19%|██████████████████▋                                                                             | 114/587 [00:52<03:42,  2.13it/s]"
     ]
    },
    {
     "name": "stderr",
     "output_type": "stream",
     "text": [
      "\r",
      "Processing batches:  20%|██████████████████▊                                                                             | 115/587 [00:52<03:37,  2.17it/s]"
     ]
    },
    {
     "name": "stderr",
     "output_type": "stream",
     "text": [
      "\r",
      "Processing batches:  20%|██████████████████▉                                                                             | 116/587 [00:52<03:38,  2.16it/s]"
     ]
    },
    {
     "name": "stderr",
     "output_type": "stream",
     "text": [
      "\r",
      "Processing batches:  20%|███████████████████▏                                                                            | 117/587 [00:53<03:35,  2.18it/s]"
     ]
    },
    {
     "name": "stderr",
     "output_type": "stream",
     "text": [
      "\r",
      "Processing batches:  20%|███████████████████▎                                                                            | 118/587 [00:53<03:29,  2.24it/s]"
     ]
    },
    {
     "name": "stderr",
     "output_type": "stream",
     "text": [
      "\r",
      "Processing batches:  20%|███████████████████▍                                                                            | 119/587 [00:54<03:37,  2.16it/s]"
     ]
    },
    {
     "name": "stderr",
     "output_type": "stream",
     "text": [
      "\r",
      "Processing batches:  20%|███████████████████▋                                                                            | 120/587 [00:54<03:36,  2.16it/s]"
     ]
    },
    {
     "name": "stderr",
     "output_type": "stream",
     "text": [
      "\r",
      "Processing batches:  21%|███████████████████▊                                                                            | 121/587 [00:55<03:32,  2.19it/s]"
     ]
    },
    {
     "name": "stderr",
     "output_type": "stream",
     "text": [
      "\r",
      "Processing batches:  21%|███████████████████▉                                                                            | 122/587 [00:55<03:33,  2.18it/s]"
     ]
    },
    {
     "name": "stderr",
     "output_type": "stream",
     "text": [
      "\r",
      "Processing batches:  21%|████████████████████                                                                            | 123/587 [00:56<03:32,  2.18it/s]"
     ]
    },
    {
     "name": "stderr",
     "output_type": "stream",
     "text": [
      "\r",
      "Processing batches:  21%|████████████████████▎                                                                           | 124/587 [00:56<03:29,  2.21it/s]"
     ]
    },
    {
     "name": "stderr",
     "output_type": "stream",
     "text": [
      "\r",
      "Processing batches:  21%|████████████████████▍                                                                           | 125/587 [00:57<03:28,  2.22it/s]"
     ]
    },
    {
     "name": "stderr",
     "output_type": "stream",
     "text": [
      "\r",
      "Processing batches:  21%|████████████████████▌                                                                           | 126/587 [00:57<03:32,  2.17it/s]"
     ]
    },
    {
     "name": "stderr",
     "output_type": "stream",
     "text": [
      "\r",
      "Processing batches:  22%|████████████████████▊                                                                           | 127/587 [00:57<03:28,  2.20it/s]"
     ]
    },
    {
     "name": "stderr",
     "output_type": "stream",
     "text": [
      "\r",
      "Processing batches:  22%|████████████████████▉                                                                           | 128/587 [00:58<03:29,  2.19it/s]"
     ]
    },
    {
     "name": "stderr",
     "output_type": "stream",
     "text": [
      "\r",
      "Processing batches:  22%|█████████████████████                                                                           | 129/587 [00:58<03:24,  2.24it/s]"
     ]
    },
    {
     "name": "stderr",
     "output_type": "stream",
     "text": [
      "\r",
      "Processing batches:  22%|█████████████████████▎                                                                          | 130/587 [00:59<03:24,  2.23it/s]"
     ]
    },
    {
     "name": "stderr",
     "output_type": "stream",
     "text": [
      "\r",
      "Processing batches:  22%|█████████████████████▍                                                                          | 131/587 [00:59<03:23,  2.24it/s]"
     ]
    },
    {
     "name": "stderr",
     "output_type": "stream",
     "text": [
      "\r",
      "Processing batches:  22%|█████████████████████▌                                                                          | 132/587 [01:00<03:25,  2.22it/s]"
     ]
    },
    {
     "name": "stderr",
     "output_type": "stream",
     "text": [
      "\r",
      "Processing batches:  23%|█████████████████████▊                                                                          | 133/587 [01:00<03:23,  2.23it/s]"
     ]
    },
    {
     "name": "stderr",
     "output_type": "stream",
     "text": [
      "\r",
      "Processing batches:  23%|█████████████████████▉                                                                          | 134/587 [01:01<03:22,  2.24it/s]"
     ]
    },
    {
     "name": "stderr",
     "output_type": "stream",
     "text": [
      "\r",
      "Processing batches:  23%|██████████████████████                                                                          | 135/587 [01:01<03:26,  2.18it/s]"
     ]
    },
    {
     "name": "stderr",
     "output_type": "stream",
     "text": [
      "\r",
      "Processing batches:  23%|██████████████████████▏                                                                         | 136/587 [01:01<03:21,  2.24it/s]"
     ]
    },
    {
     "name": "stderr",
     "output_type": "stream",
     "text": [
      "\r",
      "Processing batches:  23%|██████████████████████▍                                                                         | 137/587 [01:02<03:16,  2.29it/s]"
     ]
    },
    {
     "name": "stderr",
     "output_type": "stream",
     "text": [
      "\r",
      "Processing batches:  24%|██████████████████████▌                                                                         | 138/587 [01:02<03:17,  2.27it/s]"
     ]
    },
    {
     "name": "stderr",
     "output_type": "stream",
     "text": [
      "\r",
      "Processing batches:  24%|██████████████████████▋                                                                         | 139/587 [01:03<03:14,  2.30it/s]"
     ]
    },
    {
     "name": "stderr",
     "output_type": "stream",
     "text": [
      "\r",
      "Processing batches:  24%|██████████████████████▉                                                                         | 140/587 [01:03<03:15,  2.29it/s]"
     ]
    },
    {
     "name": "stderr",
     "output_type": "stream",
     "text": [
      "\r",
      "Processing batches:  24%|███████████████████████                                                                         | 141/587 [01:04<03:09,  2.35it/s]"
     ]
    },
    {
     "name": "stderr",
     "output_type": "stream",
     "text": [
      "\r",
      "Processing batches:  24%|███████████████████████▏                                                                        | 142/587 [01:04<03:17,  2.25it/s]"
     ]
    },
    {
     "name": "stderr",
     "output_type": "stream",
     "text": [
      "\r",
      "Processing batches:  24%|███████████████████████▍                                                                        | 143/587 [01:05<03:15,  2.27it/s]"
     ]
    },
    {
     "name": "stderr",
     "output_type": "stream",
     "text": [
      "\r",
      "Processing batches:  25%|███████████████████████▌                                                                        | 144/587 [01:05<03:09,  2.34it/s]"
     ]
    },
    {
     "name": "stderr",
     "output_type": "stream",
     "text": [
      "\r",
      "Processing batches:  25%|███████████████████████▋                                                                        | 145/587 [01:05<03:06,  2.37it/s]"
     ]
    },
    {
     "name": "stderr",
     "output_type": "stream",
     "text": [
      "\r",
      "Processing batches:  25%|███████████████████████▉                                                                        | 146/587 [01:06<03:13,  2.28it/s]"
     ]
    },
    {
     "name": "stderr",
     "output_type": "stream",
     "text": [
      "\r",
      "Processing batches:  25%|████████████████████████                                                                        | 147/587 [01:06<03:07,  2.34it/s]"
     ]
    },
    {
     "name": "stderr",
     "output_type": "stream",
     "text": [
      "\r",
      "Processing batches:  25%|████████████████████████▏                                                                       | 148/587 [01:07<03:01,  2.42it/s]"
     ]
    },
    {
     "name": "stderr",
     "output_type": "stream",
     "text": [
      "\r",
      "Processing batches:  25%|████████████████████████▎                                                                       | 149/587 [01:07<03:01,  2.42it/s]"
     ]
    },
    {
     "name": "stderr",
     "output_type": "stream",
     "text": [
      "\r",
      "Processing batches:  26%|████████████████████████▌                                                                       | 150/587 [01:07<02:57,  2.47it/s]"
     ]
    },
    {
     "name": "stderr",
     "output_type": "stream",
     "text": [
      "\r",
      "Processing batches:  26%|████████████████████████▋                                                                       | 151/587 [01:08<03:01,  2.41it/s]"
     ]
    },
    {
     "name": "stderr",
     "output_type": "stream",
     "text": [
      "\r",
      "Processing batches:  26%|████████████████████████▊                                                                       | 152/587 [01:08<03:04,  2.36it/s]"
     ]
    },
    {
     "name": "stderr",
     "output_type": "stream",
     "text": [
      "\r",
      "Processing batches:  26%|█████████████████████████                                                                       | 153/587 [01:09<03:01,  2.39it/s]"
     ]
    },
    {
     "name": "stderr",
     "output_type": "stream",
     "text": [
      "\r",
      "Processing batches:  26%|█████████████████████████▏                                                                      | 154/587 [01:09<03:02,  2.37it/s]"
     ]
    },
    {
     "name": "stderr",
     "output_type": "stream",
     "text": [
      "\r",
      "Processing batches:  26%|█████████████████████████▎                                                                      | 155/587 [01:10<02:57,  2.44it/s]"
     ]
    },
    {
     "name": "stderr",
     "output_type": "stream",
     "text": [
      "\r",
      "Processing batches:  27%|█████████████████████████▌                                                                      | 156/587 [01:10<02:57,  2.43it/s]"
     ]
    },
    {
     "name": "stderr",
     "output_type": "stream",
     "text": [
      "\r",
      "Processing batches:  27%|█████████████████████████▋                                                                      | 157/587 [01:10<02:51,  2.50it/s]"
     ]
    },
    {
     "name": "stderr",
     "output_type": "stream",
     "text": [
      "\r",
      "Processing batches:  27%|█████████████████████████▊                                                                      | 158/587 [01:11<02:46,  2.58it/s]"
     ]
    },
    {
     "name": "stderr",
     "output_type": "stream",
     "text": [
      "\r",
      "Processing batches:  27%|██████████████████████████                                                                      | 159/587 [01:11<02:50,  2.51it/s]"
     ]
    },
    {
     "name": "stderr",
     "output_type": "stream",
     "text": [
      "\r",
      "Processing batches:  27%|██████████████████████████▏                                                                     | 160/587 [01:11<02:48,  2.53it/s]"
     ]
    },
    {
     "name": "stderr",
     "output_type": "stream",
     "text": [
      "\r",
      "Processing batches:  27%|██████████████████████████▎                                                                     | 161/587 [01:12<02:43,  2.61it/s]"
     ]
    },
    {
     "name": "stderr",
     "output_type": "stream",
     "text": [
      "\r",
      "Processing batches:  28%|██████████████████████████▍                                                                     | 162/587 [01:12<02:38,  2.68it/s]"
     ]
    },
    {
     "name": "stderr",
     "output_type": "stream",
     "text": [
      "\r",
      "Processing batches:  28%|██████████████████████████▋                                                                     | 163/587 [01:13<02:34,  2.75it/s]"
     ]
    },
    {
     "name": "stderr",
     "output_type": "stream",
     "text": [
      "\r",
      "Processing batches:  28%|██████████████████████████▊                                                                     | 164/587 [01:13<02:36,  2.71it/s]"
     ]
    },
    {
     "name": "stderr",
     "output_type": "stream",
     "text": [
      "\r",
      "Processing batches:  28%|██████████████████████████▉                                                                     | 165/587 [01:13<02:40,  2.63it/s]"
     ]
    },
    {
     "name": "stderr",
     "output_type": "stream",
     "text": [
      "\r",
      "Processing batches:  28%|███████████████████████████▏                                                                    | 166/587 [01:14<02:42,  2.58it/s]"
     ]
    },
    {
     "name": "stderr",
     "output_type": "stream",
     "text": [
      "\r",
      "Processing batches:  28%|███████████████████████████▎                                                                    | 167/587 [01:14<02:54,  2.41it/s]"
     ]
    },
    {
     "name": "stderr",
     "output_type": "stream",
     "text": [
      "\r",
      "Processing batches:  29%|███████████████████████████▍                                                                    | 168/587 [01:15<03:03,  2.28it/s]"
     ]
    },
    {
     "name": "stderr",
     "output_type": "stream",
     "text": [
      "\r",
      "Processing batches:  29%|███████████████████████████▋                                                                    | 169/587 [01:15<03:06,  2.24it/s]"
     ]
    },
    {
     "name": "stderr",
     "output_type": "stream",
     "text": [
      "\r",
      "Processing batches:  29%|███████████████████████████▊                                                                    | 170/587 [01:16<03:10,  2.19it/s]"
     ]
    },
    {
     "name": "stderr",
     "output_type": "stream",
     "text": [
      "\r",
      "Processing batches:  29%|███████████████████████████▉                                                                    | 171/587 [01:16<03:13,  2.15it/s]"
     ]
    },
    {
     "name": "stderr",
     "output_type": "stream",
     "text": [
      "\r",
      "Processing batches:  29%|████████████████████████████▏                                                                   | 172/587 [01:17<03:13,  2.15it/s]"
     ]
    },
    {
     "name": "stderr",
     "output_type": "stream",
     "text": [
      "\r",
      "Processing batches:  29%|████████████████████████████▎                                                                   | 173/587 [01:17<03:05,  2.24it/s]"
     ]
    },
    {
     "name": "stderr",
     "output_type": "stream",
     "text": [
      "\r",
      "Processing batches:  30%|████████████████████████████▍                                                                   | 174/587 [01:17<03:06,  2.21it/s]"
     ]
    },
    {
     "name": "stderr",
     "output_type": "stream",
     "text": [
      "\r",
      "Processing batches:  30%|████████████████████████████▌                                                                   | 175/587 [01:18<03:14,  2.11it/s]"
     ]
    },
    {
     "name": "stderr",
     "output_type": "stream",
     "text": [
      "\r",
      "Processing batches:  30%|████████████████████████████▊                                                                   | 176/587 [01:18<03:17,  2.08it/s]"
     ]
    },
    {
     "name": "stderr",
     "output_type": "stream",
     "text": [
      "\r",
      "Processing batches:  30%|████████████████████████████▉                                                                   | 177/587 [01:19<03:16,  2.09it/s]"
     ]
    },
    {
     "name": "stderr",
     "output_type": "stream",
     "text": [
      "\r",
      "Processing batches:  30%|█████████████████████████████                                                                   | 178/587 [01:19<03:09,  2.16it/s]"
     ]
    },
    {
     "name": "stderr",
     "output_type": "stream",
     "text": [
      "\r",
      "Processing batches:  30%|█████████████████████████████▎                                                                  | 179/587 [01:20<03:16,  2.07it/s]"
     ]
    },
    {
     "name": "stderr",
     "output_type": "stream",
     "text": [
      "\r",
      "Processing batches:  31%|█████████████████████████████▍                                                                  | 180/587 [01:20<03:16,  2.07it/s]"
     ]
    },
    {
     "name": "stderr",
     "output_type": "stream",
     "text": [
      "\r",
      "Processing batches:  31%|█████████████████████████████▌                                                                  | 181/587 [01:21<03:14,  2.08it/s]"
     ]
    },
    {
     "name": "stderr",
     "output_type": "stream",
     "text": [
      "\r",
      "Processing batches:  31%|█████████████████████████████▊                                                                  | 182/587 [01:21<03:12,  2.10it/s]"
     ]
    },
    {
     "name": "stderr",
     "output_type": "stream",
     "text": [
      "\r",
      "Processing batches:  31%|█████████████████████████████▉                                                                  | 183/587 [01:22<03:10,  2.12it/s]"
     ]
    },
    {
     "name": "stderr",
     "output_type": "stream",
     "text": [
      "\r",
      "Processing batches:  31%|██████████████████████████████                                                                  | 184/587 [01:22<03:10,  2.12it/s]"
     ]
    },
    {
     "name": "stderr",
     "output_type": "stream",
     "text": [
      "\r",
      "Processing batches:  32%|██████████████████████████████▎                                                                 | 185/587 [01:23<03:07,  2.14it/s]"
     ]
    },
    {
     "name": "stderr",
     "output_type": "stream",
     "text": [
      "\r",
      "Processing batches:  32%|██████████████████████████████▍                                                                 | 186/587 [01:23<02:58,  2.25it/s]"
     ]
    },
    {
     "name": "stderr",
     "output_type": "stream",
     "text": [
      "\r",
      "Processing batches:  32%|██████████████████████████████▌                                                                 | 187/587 [01:24<03:00,  2.22it/s]"
     ]
    },
    {
     "name": "stderr",
     "output_type": "stream",
     "text": [
      "\r",
      "Processing batches:  32%|██████████████████████████████▋                                                                 | 188/587 [01:24<02:59,  2.22it/s]"
     ]
    },
    {
     "name": "stderr",
     "output_type": "stream",
     "text": [
      "\r",
      "Processing batches:  32%|██████████████████████████████▉                                                                 | 189/587 [01:24<03:02,  2.18it/s]"
     ]
    },
    {
     "name": "stderr",
     "output_type": "stream",
     "text": [
      "\r",
      "Processing batches:  32%|███████████████████████████████                                                                 | 190/587 [01:25<03:01,  2.19it/s]"
     ]
    },
    {
     "name": "stderr",
     "output_type": "stream",
     "text": [
      "\r",
      "Processing batches:  33%|███████████████████████████████▏                                                                | 191/587 [01:25<03:04,  2.15it/s]"
     ]
    },
    {
     "name": "stderr",
     "output_type": "stream",
     "text": [
      "\r",
      "Processing batches:  33%|███████████████████████████████▍                                                                | 192/587 [01:26<03:05,  2.13it/s]"
     ]
    },
    {
     "name": "stderr",
     "output_type": "stream",
     "text": [
      "\r",
      "Processing batches:  33%|███████████████████████████████▌                                                                | 193/587 [01:26<03:07,  2.10it/s]"
     ]
    },
    {
     "name": "stderr",
     "output_type": "stream",
     "text": [
      "\r",
      "Processing batches:  33%|███████████████████████████████▋                                                                | 194/587 [01:27<03:13,  2.03it/s]"
     ]
    },
    {
     "name": "stderr",
     "output_type": "stream",
     "text": [
      "\r",
      "Processing batches:  33%|███████████████████████████████▉                                                                | 195/587 [01:27<03:14,  2.01it/s]"
     ]
    },
    {
     "name": "stderr",
     "output_type": "stream",
     "text": [
      "\r",
      "Processing batches:  33%|████████████████████████████████                                                                | 196/587 [01:28<03:22,  1.93it/s]"
     ]
    },
    {
     "name": "stderr",
     "output_type": "stream",
     "text": [
      "\r",
      "Processing batches:  34%|████████████████████████████████▏                                                               | 197/587 [01:28<03:11,  2.03it/s]"
     ]
    },
    {
     "name": "stderr",
     "output_type": "stream",
     "text": [
      "\r",
      "Processing batches:  34%|████████████████████████████████▍                                                               | 198/587 [01:29<03:09,  2.05it/s]"
     ]
    },
    {
     "name": "stderr",
     "output_type": "stream",
     "text": [
      "\r",
      "Processing batches:  34%|████████████████████████████████▌                                                               | 199/587 [01:29<03:09,  2.05it/s]"
     ]
    },
    {
     "name": "stderr",
     "output_type": "stream",
     "text": [
      "\r",
      "Processing batches:  34%|████████████████████████████████▋                                                               | 200/587 [01:30<03:07,  2.07it/s]"
     ]
    },
    {
     "name": "stderr",
     "output_type": "stream",
     "text": [
      "\r",
      "Processing batches:  34%|████████████████████████████████▊                                                               | 201/587 [01:30<03:08,  2.05it/s]"
     ]
    },
    {
     "name": "stderr",
     "output_type": "stream",
     "text": [
      "\r",
      "Processing batches:  34%|█████████████████████████████████                                                               | 202/587 [01:31<03:10,  2.02it/s]"
     ]
    },
    {
     "name": "stderr",
     "output_type": "stream",
     "text": [
      "\r",
      "Processing batches:  35%|█████████████████████████████████▏                                                              | 203/587 [01:31<03:09,  2.02it/s]"
     ]
    },
    {
     "name": "stderr",
     "output_type": "stream",
     "text": [
      "\r",
      "Processing batches:  35%|█████████████████████████████████▎                                                              | 204/587 [01:32<03:11,  2.00it/s]"
     ]
    },
    {
     "name": "stderr",
     "output_type": "stream",
     "text": [
      "\r",
      "Processing batches:  35%|█████████████████████████████████▌                                                              | 205/587 [01:32<03:04,  2.07it/s]"
     ]
    },
    {
     "name": "stderr",
     "output_type": "stream",
     "text": [
      "\r",
      "Processing batches:  35%|█████████████████████████████████▋                                                              | 206/587 [01:33<03:01,  2.10it/s]"
     ]
    },
    {
     "name": "stderr",
     "output_type": "stream",
     "text": [
      "\r",
      "Processing batches:  35%|█████████████████████████████████▊                                                              | 207/587 [01:33<02:57,  2.14it/s]"
     ]
    },
    {
     "name": "stderr",
     "output_type": "stream",
     "text": [
      "\r",
      "Processing batches:  35%|██████████████████████████████████                                                              | 208/587 [01:34<02:54,  2.17it/s]"
     ]
    },
    {
     "name": "stderr",
     "output_type": "stream",
     "text": [
      "\r",
      "Processing batches:  36%|██████████████████████████████████▏                                                             | 209/587 [01:34<02:55,  2.15it/s]"
     ]
    },
    {
     "name": "stderr",
     "output_type": "stream",
     "text": [
      "\r",
      "Processing batches:  36%|██████████████████████████████████▎                                                             | 210/587 [01:35<02:48,  2.24it/s]"
     ]
    },
    {
     "name": "stderr",
     "output_type": "stream",
     "text": [
      "\r",
      "Processing batches:  36%|██████████████████████████████████▌                                                             | 211/587 [01:35<02:50,  2.20it/s]"
     ]
    },
    {
     "name": "stderr",
     "output_type": "stream",
     "text": [
      "\r",
      "Processing batches:  36%|██████████████████████████████████▋                                                             | 212/587 [01:35<02:52,  2.18it/s]"
     ]
    },
    {
     "name": "stderr",
     "output_type": "stream",
     "text": [
      "\r",
      "Processing batches:  36%|██████████████████████████████████▊                                                             | 213/587 [01:36<02:46,  2.24it/s]"
     ]
    },
    {
     "name": "stderr",
     "output_type": "stream",
     "text": [
      "\r",
      "Processing batches:  36%|██████████████████████████████████▉                                                             | 214/587 [01:36<02:44,  2.27it/s]"
     ]
    },
    {
     "name": "stderr",
     "output_type": "stream",
     "text": [
      "\r",
      "Processing batches:  37%|███████████████████████████████████▏                                                            | 215/587 [01:37<02:43,  2.28it/s]"
     ]
    },
    {
     "name": "stderr",
     "output_type": "stream",
     "text": [
      "\r",
      "Processing batches:  37%|███████████████████████████████████▎                                                            | 216/587 [01:37<02:43,  2.28it/s]"
     ]
    },
    {
     "name": "stderr",
     "output_type": "stream",
     "text": [
      "\r",
      "Processing batches:  37%|███████████████████████████████████▍                                                            | 217/587 [01:38<02:38,  2.33it/s]"
     ]
    },
    {
     "name": "stderr",
     "output_type": "stream",
     "text": [
      "\r",
      "Processing batches:  37%|███████████████████████████████████▋                                                            | 218/587 [01:38<02:36,  2.36it/s]"
     ]
    },
    {
     "name": "stderr",
     "output_type": "stream",
     "text": [
      "\r",
      "Processing batches:  37%|███████████████████████████████████▊                                                            | 219/587 [01:38<02:35,  2.37it/s]"
     ]
    },
    {
     "name": "stderr",
     "output_type": "stream",
     "text": [
      "\r",
      "Processing batches:  37%|███████████████████████████████████▉                                                            | 220/587 [01:39<02:33,  2.40it/s]"
     ]
    },
    {
     "name": "stderr",
     "output_type": "stream",
     "text": [
      "\r",
      "Processing batches:  38%|████████████████████████████████████▏                                                           | 221/587 [01:39<02:38,  2.30it/s]"
     ]
    },
    {
     "name": "stderr",
     "output_type": "stream",
     "text": [
      "\r",
      "Processing batches:  38%|████████████████████████████████████▎                                                           | 222/587 [01:40<02:43,  2.23it/s]"
     ]
    },
    {
     "name": "stderr",
     "output_type": "stream",
     "text": [
      "\r",
      "Processing batches:  38%|████████████████████████████████████▍                                                           | 223/587 [01:40<02:46,  2.19it/s]"
     ]
    },
    {
     "name": "stderr",
     "output_type": "stream",
     "text": [
      "\r",
      "Processing batches:  38%|████████████████████████████████████▋                                                           | 224/587 [01:41<02:53,  2.09it/s]"
     ]
    },
    {
     "name": "stderr",
     "output_type": "stream",
     "text": [
      "\r",
      "Processing batches:  38%|████████████████████████████████████▊                                                           | 225/587 [01:41<02:49,  2.14it/s]"
     ]
    },
    {
     "name": "stderr",
     "output_type": "stream",
     "text": [
      "\r",
      "Processing batches:  39%|████████████████████████████████████▉                                                           | 226/587 [01:42<02:52,  2.10it/s]"
     ]
    },
    {
     "name": "stderr",
     "output_type": "stream",
     "text": [
      "\r",
      "Processing batches:  39%|█████████████████████████████████████                                                           | 227/587 [01:42<02:50,  2.11it/s]"
     ]
    },
    {
     "name": "stderr",
     "output_type": "stream",
     "text": [
      "\r",
      "Processing batches:  39%|█████████████████████████████████████▎                                                          | 228/587 [01:43<02:48,  2.13it/s]"
     ]
    },
    {
     "name": "stderr",
     "output_type": "stream",
     "text": [
      "\r",
      "Processing batches:  39%|█████████████████████████████████████▍                                                          | 229/587 [01:43<02:41,  2.22it/s]"
     ]
    },
    {
     "name": "stderr",
     "output_type": "stream",
     "text": [
      "\r",
      "Processing batches:  39%|█████████████████████████████████████▌                                                          | 230/587 [01:44<02:41,  2.21it/s]"
     ]
    },
    {
     "name": "stderr",
     "output_type": "stream",
     "text": [
      "\r",
      "Processing batches:  39%|█████████████████████████████████████▊                                                          | 231/587 [01:44<02:45,  2.15it/s]"
     ]
    },
    {
     "name": "stderr",
     "output_type": "stream",
     "text": [
      "\r",
      "Processing batches:  40%|█████████████████████████████████████▉                                                          | 232/587 [01:44<02:43,  2.17it/s]"
     ]
    },
    {
     "name": "stderr",
     "output_type": "stream",
     "text": [
      "\r",
      "Processing batches:  40%|██████████████████████████████████████                                                          | 233/587 [01:45<02:40,  2.21it/s]"
     ]
    },
    {
     "name": "stderr",
     "output_type": "stream",
     "text": [
      "\r",
      "Processing batches:  40%|██████████████████████████████████████▎                                                         | 234/587 [01:45<02:43,  2.15it/s]"
     ]
    },
    {
     "name": "stderr",
     "output_type": "stream",
     "text": [
      "\r",
      "Processing batches:  40%|██████████████████████████████████████▍                                                         | 235/587 [01:46<02:39,  2.20it/s]"
     ]
    },
    {
     "name": "stderr",
     "output_type": "stream",
     "text": [
      "\r",
      "Processing batches:  40%|██████████████████████████████████████▌                                                         | 236/587 [01:46<02:37,  2.22it/s]"
     ]
    },
    {
     "name": "stderr",
     "output_type": "stream",
     "text": [
      "\r",
      "Processing batches:  40%|██████████████████████████████████████▊                                                         | 237/587 [01:47<02:43,  2.14it/s]"
     ]
    },
    {
     "name": "stderr",
     "output_type": "stream",
     "text": [
      "\r",
      "Processing batches:  41%|██████████████████████████████████████▉                                                         | 238/587 [01:47<02:42,  2.15it/s]"
     ]
    },
    {
     "name": "stderr",
     "output_type": "stream",
     "text": [
      "\r",
      "Processing batches:  41%|███████████████████████████████████████                                                         | 239/587 [01:48<02:40,  2.17it/s]"
     ]
    },
    {
     "name": "stderr",
     "output_type": "stream",
     "text": [
      "\r",
      "Processing batches:  41%|███████████████████████████████████████▎                                                        | 240/587 [01:48<02:32,  2.27it/s]"
     ]
    },
    {
     "name": "stderr",
     "output_type": "stream",
     "text": [
      "\r",
      "Processing batches:  41%|███████████████████████████████████████▍                                                        | 241/587 [01:49<02:34,  2.24it/s]"
     ]
    },
    {
     "name": "stderr",
     "output_type": "stream",
     "text": [
      "\r",
      "Processing batches:  41%|███████████████████████████████████████▌                                                        | 242/587 [01:49<02:41,  2.13it/s]"
     ]
    },
    {
     "name": "stderr",
     "output_type": "stream",
     "text": [
      "\r",
      "Processing batches:  41%|███████████████████████████████████████▋                                                        | 243/587 [01:50<02:42,  2.12it/s]"
     ]
    },
    {
     "name": "stderr",
     "output_type": "stream",
     "text": [
      "\r",
      "Processing batches:  42%|███████████████████████████████████████▉                                                        | 244/587 [01:50<02:39,  2.16it/s]"
     ]
    },
    {
     "name": "stderr",
     "output_type": "stream",
     "text": [
      "\r",
      "Processing batches:  42%|████████████████████████████████████████                                                        | 245/587 [01:50<02:40,  2.14it/s]"
     ]
    },
    {
     "name": "stderr",
     "output_type": "stream",
     "text": [
      "\r",
      "Processing batches:  42%|████████████████████████████████████████▏                                                       | 246/587 [01:51<02:35,  2.19it/s]"
     ]
    },
    {
     "name": "stderr",
     "output_type": "stream",
     "text": [
      "\r",
      "Processing batches:  42%|████████████████████████████████████████▍                                                       | 247/587 [01:51<02:37,  2.16it/s]"
     ]
    },
    {
     "name": "stderr",
     "output_type": "stream",
     "text": [
      "\r",
      "Processing batches:  42%|████████████████████████████████████████▌                                                       | 248/587 [01:52<02:34,  2.20it/s]"
     ]
    },
    {
     "name": "stderr",
     "output_type": "stream",
     "text": [
      "\r",
      "Processing batches:  42%|████████████████████████████████████████▋                                                       | 249/587 [01:52<02:30,  2.24it/s]"
     ]
    },
    {
     "name": "stderr",
     "output_type": "stream",
     "text": [
      "\r",
      "Processing batches:  43%|████████████████████████████████████████▉                                                       | 250/587 [01:53<02:29,  2.26it/s]"
     ]
    },
    {
     "name": "stderr",
     "output_type": "stream",
     "text": [
      "\r",
      "Processing batches:  43%|█████████████████████████████████████████                                                       | 251/587 [01:53<02:22,  2.35it/s]"
     ]
    },
    {
     "name": "stderr",
     "output_type": "stream",
     "text": [
      "\r",
      "Processing batches:  43%|█████████████████████████████████████████▏                                                      | 252/587 [01:53<02:22,  2.35it/s]"
     ]
    },
    {
     "name": "stderr",
     "output_type": "stream",
     "text": [
      "\r",
      "Processing batches:  43%|█████████████████████████████████████████▍                                                      | 253/587 [01:54<02:20,  2.38it/s]"
     ]
    },
    {
     "name": "stderr",
     "output_type": "stream",
     "text": [
      "\r",
      "Processing batches:  43%|█████████████████████████████████████████▌                                                      | 254/587 [01:54<02:16,  2.43it/s]"
     ]
    },
    {
     "name": "stderr",
     "output_type": "stream",
     "text": [
      "\r",
      "Processing batches:  43%|█████████████████████████████████████████▋                                                      | 255/587 [01:55<02:19,  2.39it/s]"
     ]
    },
    {
     "name": "stderr",
     "output_type": "stream",
     "text": [
      "\r",
      "Processing batches:  44%|█████████████████████████████████████████▊                                                      | 256/587 [01:55<02:20,  2.36it/s]"
     ]
    },
    {
     "name": "stderr",
     "output_type": "stream",
     "text": [
      "\r",
      "Processing batches:  44%|██████████████████████████████████████████                                                      | 257/587 [01:56<02:23,  2.30it/s]"
     ]
    },
    {
     "name": "stderr",
     "output_type": "stream",
     "text": [
      "\r",
      "Processing batches:  44%|██████████████████████████████████████████▏                                                     | 258/587 [01:56<02:20,  2.34it/s]"
     ]
    },
    {
     "name": "stderr",
     "output_type": "stream",
     "text": [
      "\r",
      "Processing batches:  44%|██████████████████████████████████████████▎                                                     | 259/587 [01:56<02:16,  2.41it/s]"
     ]
    },
    {
     "name": "stderr",
     "output_type": "stream",
     "text": [
      "\r",
      "Processing batches:  44%|██████████████████████████████████████████▌                                                     | 260/587 [01:57<02:13,  2.44it/s]"
     ]
    },
    {
     "name": "stderr",
     "output_type": "stream",
     "text": [
      "\r",
      "Processing batches:  44%|██████████████████████████████████████████▋                                                     | 261/587 [01:57<02:13,  2.45it/s]"
     ]
    },
    {
     "name": "stderr",
     "output_type": "stream",
     "text": [
      "\r",
      "Processing batches:  45%|██████████████████████████████████████████▊                                                     | 262/587 [01:58<02:16,  2.38it/s]"
     ]
    },
    {
     "name": "stderr",
     "output_type": "stream",
     "text": [
      "\r",
      "Processing batches:  45%|███████████████████████████████████████████                                                     | 263/587 [01:58<02:15,  2.38it/s]"
     ]
    },
    {
     "name": "stderr",
     "output_type": "stream",
     "text": [
      "\r",
      "Processing batches:  45%|███████████████████████████████████████████▏                                                    | 264/587 [01:59<02:17,  2.35it/s]"
     ]
    },
    {
     "name": "stderr",
     "output_type": "stream",
     "text": [
      "\r",
      "Processing batches:  45%|███████████████████████████████████████████▎                                                    | 265/587 [01:59<02:15,  2.38it/s]"
     ]
    },
    {
     "name": "stderr",
     "output_type": "stream",
     "text": [
      "\r",
      "Processing batches:  45%|███████████████████████████████████████████▌                                                    | 266/587 [01:59<02:17,  2.34it/s]"
     ]
    },
    {
     "name": "stderr",
     "output_type": "stream",
     "text": [
      "\r",
      "Processing batches:  45%|███████████████████████████████████████████▋                                                    | 267/587 [02:00<02:14,  2.38it/s]"
     ]
    },
    {
     "name": "stderr",
     "output_type": "stream",
     "text": [
      "\r",
      "Processing batches:  46%|███████████████████████████████████████████▊                                                    | 268/587 [02:00<02:10,  2.44it/s]"
     ]
    },
    {
     "name": "stderr",
     "output_type": "stream",
     "text": [
      "\r",
      "Processing batches:  46%|███████████████████████████████████████████▉                                                    | 269/587 [02:01<02:09,  2.46it/s]"
     ]
    },
    {
     "name": "stderr",
     "output_type": "stream",
     "text": [
      "\r",
      "Processing batches:  46%|████████████████████████████████████████████▏                                                   | 270/587 [02:01<02:05,  2.52it/s]"
     ]
    },
    {
     "name": "stderr",
     "output_type": "stream",
     "text": [
      "\r",
      "Processing batches:  46%|████████████████████████████████████████████▎                                                   | 271/587 [02:01<02:03,  2.55it/s]"
     ]
    },
    {
     "name": "stderr",
     "output_type": "stream",
     "text": [
      "\r",
      "Processing batches:  46%|████████████████████████████████████████████▍                                                   | 272/587 [02:02<02:04,  2.54it/s]"
     ]
    },
    {
     "name": "stderr",
     "output_type": "stream",
     "text": [
      "\r",
      "Processing batches:  47%|████████████████████████████████████████████▋                                                   | 273/587 [02:02<02:07,  2.47it/s]"
     ]
    },
    {
     "name": "stderr",
     "output_type": "stream",
     "text": [
      "\r",
      "Processing batches:  47%|████████████████████████████████████████████▊                                                   | 274/587 [02:03<02:08,  2.44it/s]"
     ]
    },
    {
     "name": "stderr",
     "output_type": "stream",
     "text": [
      "\r",
      "Processing batches:  47%|████████████████████████████████████████████▉                                                   | 275/587 [02:03<02:08,  2.43it/s]"
     ]
    },
    {
     "name": "stderr",
     "output_type": "stream",
     "text": [
      "\r",
      "Processing batches:  47%|█████████████████████████████████████████████▏                                                  | 276/587 [02:03<02:08,  2.42it/s]"
     ]
    },
    {
     "name": "stderr",
     "output_type": "stream",
     "text": [
      "\r",
      "Processing batches:  47%|█████████████████████████████████████████████▎                                                  | 277/587 [02:04<02:09,  2.39it/s]"
     ]
    },
    {
     "name": "stderr",
     "output_type": "stream",
     "text": [
      "\r",
      "Processing batches:  47%|█████████████████████████████████████████████▍                                                  | 278/587 [02:04<02:11,  2.34it/s]"
     ]
    },
    {
     "name": "stderr",
     "output_type": "stream",
     "text": [
      "\r",
      "Processing batches:  48%|█████████████████████████████████████████████▋                                                  | 279/587 [02:05<02:20,  2.20it/s]"
     ]
    },
    {
     "name": "stderr",
     "output_type": "stream",
     "text": [
      "\r",
      "Processing batches:  48%|█████████████████████████████████████████████▊                                                  | 280/587 [02:05<02:21,  2.17it/s]"
     ]
    },
    {
     "name": "stderr",
     "output_type": "stream",
     "text": [
      "\r",
      "Processing batches:  48%|█████████████████████████████████████████████▉                                                  | 281/587 [02:06<02:16,  2.24it/s]"
     ]
    },
    {
     "name": "stderr",
     "output_type": "stream",
     "text": [
      "\r",
      "Processing batches:  48%|██████████████████████████████████████████████                                                  | 282/587 [02:06<02:18,  2.21it/s]"
     ]
    },
    {
     "name": "stderr",
     "output_type": "stream",
     "text": [
      "\r",
      "Processing batches:  48%|██████████████████████████████████████████████▎                                                 | 283/587 [02:07<02:18,  2.19it/s]"
     ]
    },
    {
     "name": "stderr",
     "output_type": "stream",
     "text": [
      "\r",
      "Processing batches:  48%|██████████████████████████████████████████████▍                                                 | 284/587 [02:07<02:22,  2.12it/s]"
     ]
    },
    {
     "name": "stderr",
     "output_type": "stream",
     "text": [
      "\r",
      "Processing batches:  49%|██████████████████████████████████████████████▌                                                 | 285/587 [02:08<02:17,  2.19it/s]"
     ]
    },
    {
     "name": "stderr",
     "output_type": "stream",
     "text": [
      "\r",
      "Processing batches:  49%|██████████████████████████████████████████████▊                                                 | 286/587 [02:08<02:21,  2.13it/s]"
     ]
    },
    {
     "name": "stderr",
     "output_type": "stream",
     "text": [
      "\r",
      "Processing batches:  49%|██████████████████████████████████████████████▉                                                 | 287/587 [02:08<02:17,  2.18it/s]"
     ]
    },
    {
     "name": "stderr",
     "output_type": "stream",
     "text": [
      "\r",
      "Processing batches:  49%|███████████████████████████████████████████████                                                 | 288/587 [02:09<02:20,  2.13it/s]"
     ]
    },
    {
     "name": "stderr",
     "output_type": "stream",
     "text": [
      "\r",
      "Processing batches:  49%|███████████████████████████████████████████████▎                                                | 289/587 [02:09<02:23,  2.08it/s]"
     ]
    },
    {
     "name": "stderr",
     "output_type": "stream",
     "text": [
      "\r",
      "Processing batches:  49%|███████████████████████████████████████████████▍                                                | 290/587 [02:10<02:23,  2.07it/s]"
     ]
    },
    {
     "name": "stderr",
     "output_type": "stream",
     "text": [
      "\r",
      "Processing batches:  50%|███████████████████████████████████████████████▌                                                | 291/587 [02:11<02:27,  2.00it/s]"
     ]
    },
    {
     "name": "stderr",
     "output_type": "stream",
     "text": [
      "\r",
      "Processing batches:  50%|███████████████████████████████████████████████▊                                                | 292/587 [02:11<02:30,  1.96it/s]"
     ]
    },
    {
     "name": "stderr",
     "output_type": "stream",
     "text": [
      "\r",
      "Processing batches:  50%|███████████████████████████████████████████████▉                                                | 293/587 [02:12<02:30,  1.96it/s]"
     ]
    },
    {
     "name": "stderr",
     "output_type": "stream",
     "text": [
      "\r",
      "Processing batches:  50%|████████████████████████████████████████████████                                                | 294/587 [02:12<02:29,  1.96it/s]"
     ]
    },
    {
     "name": "stderr",
     "output_type": "stream",
     "text": [
      "\r",
      "Processing batches:  50%|████████████████████████████████████████████████▏                                               | 295/587 [02:13<02:31,  1.93it/s]"
     ]
    },
    {
     "name": "stderr",
     "output_type": "stream",
     "text": [
      "\r",
      "Processing batches:  50%|████████████████████████████████████████████████▍                                               | 296/587 [02:13<02:28,  1.96it/s]"
     ]
    },
    {
     "name": "stderr",
     "output_type": "stream",
     "text": [
      "\r",
      "Processing batches:  51%|████████████████████████████████████████████████▌                                               | 297/587 [02:14<02:30,  1.93it/s]"
     ]
    },
    {
     "name": "stderr",
     "output_type": "stream",
     "text": [
      "\r",
      "Processing batches:  51%|████████████████████████████████████████████████▋                                               | 298/587 [02:14<02:28,  1.94it/s]"
     ]
    },
    {
     "name": "stderr",
     "output_type": "stream",
     "text": [
      "\r",
      "Processing batches:  51%|████████████████████████████████████████████████▉                                               | 299/587 [02:15<02:31,  1.90it/s]"
     ]
    },
    {
     "name": "stderr",
     "output_type": "stream",
     "text": [
      "\r",
      "Processing batches:  51%|█████████████████████████████████████████████████                                               | 300/587 [02:15<02:28,  1.93it/s]"
     ]
    },
    {
     "name": "stderr",
     "output_type": "stream",
     "text": [
      "\r",
      "Processing batches:  51%|█████████████████████████████████████████████████▏                                              | 301/587 [02:16<02:28,  1.93it/s]"
     ]
    },
    {
     "name": "stderr",
     "output_type": "stream",
     "text": [
      "\r",
      "Processing batches:  51%|█████████████████████████████████████████████████▍                                              | 302/587 [02:16<02:33,  1.86it/s]"
     ]
    },
    {
     "name": "stderr",
     "output_type": "stream",
     "text": [
      "\r",
      "Processing batches:  52%|█████████████████████████████████████████████████▌                                              | 303/587 [02:17<02:33,  1.85it/s]"
     ]
    },
    {
     "name": "stderr",
     "output_type": "stream",
     "text": [
      "\r",
      "Processing batches:  52%|█████████████████████████████████████████████████▋                                              | 304/587 [02:17<02:30,  1.88it/s]"
     ]
    },
    {
     "name": "stderr",
     "output_type": "stream",
     "text": [
      "\r",
      "Processing batches:  52%|█████████████████████████████████████████████████▉                                              | 305/587 [02:18<02:27,  1.91it/s]"
     ]
    },
    {
     "name": "stderr",
     "output_type": "stream",
     "text": [
      "\r",
      "Processing batches:  52%|██████████████████████████████████████████████████                                              | 306/587 [02:18<02:25,  1.93it/s]"
     ]
    },
    {
     "name": "stderr",
     "output_type": "stream",
     "text": [
      "\r",
      "Processing batches:  52%|██████████████████████████████████████████████████▏                                             | 307/587 [02:19<02:26,  1.91it/s]"
     ]
    },
    {
     "name": "stderr",
     "output_type": "stream",
     "text": [
      "\r",
      "Processing batches:  52%|██████████████████████████████████████████████████▎                                             | 308/587 [02:19<02:25,  1.92it/s]"
     ]
    },
    {
     "name": "stderr",
     "output_type": "stream",
     "text": [
      "\r",
      "Processing batches:  53%|██████████████████████████████████████████████████▌                                             | 309/587 [02:20<02:27,  1.88it/s]"
     ]
    },
    {
     "name": "stderr",
     "output_type": "stream",
     "text": [
      "\r",
      "Processing batches:  53%|██████████████████████████████████████████████████▋                                             | 310/587 [02:20<02:26,  1.89it/s]"
     ]
    },
    {
     "name": "stderr",
     "output_type": "stream",
     "text": [
      "\r",
      "Processing batches:  53%|██████████████████████████████████████████████████▊                                             | 311/587 [02:21<02:22,  1.93it/s]"
     ]
    },
    {
     "name": "stderr",
     "output_type": "stream",
     "text": [
      "\r",
      "Processing batches:  53%|███████████████████████████████████████████████████                                             | 312/587 [02:21<02:20,  1.96it/s]"
     ]
    },
    {
     "name": "stderr",
     "output_type": "stream",
     "text": [
      "\r",
      "Processing batches:  53%|███████████████████████████████████████████████████▏                                            | 313/587 [02:22<02:20,  1.94it/s]"
     ]
    },
    {
     "name": "stderr",
     "output_type": "stream",
     "text": [
      "\r",
      "Processing batches:  53%|███████████████████████████████████████████████████▎                                            | 314/587 [02:23<02:20,  1.94it/s]"
     ]
    },
    {
     "name": "stderr",
     "output_type": "stream",
     "text": [
      "\r",
      "Processing batches:  54%|███████████████████████████████████████████████████▌                                            | 315/587 [02:23<02:17,  1.98it/s]"
     ]
    },
    {
     "name": "stderr",
     "output_type": "stream",
     "text": [
      "\r",
      "Processing batches:  54%|███████████████████████████████████████████████████▋                                            | 316/587 [02:23<02:14,  2.01it/s]"
     ]
    },
    {
     "name": "stderr",
     "output_type": "stream",
     "text": [
      "\r",
      "Processing batches:  54%|███████████████████████████████████████████████████▊                                            | 317/587 [02:24<02:11,  2.05it/s]"
     ]
    },
    {
     "name": "stderr",
     "output_type": "stream",
     "text": [
      "\r",
      "Processing batches:  54%|████████████████████████████████████████████████████                                            | 318/587 [02:24<02:14,  2.00it/s]"
     ]
    },
    {
     "name": "stderr",
     "output_type": "stream",
     "text": [
      "\r",
      "Processing batches:  54%|████████████████████████████████████████████████████▏                                           | 319/587 [02:25<02:14,  1.99it/s]"
     ]
    },
    {
     "name": "stderr",
     "output_type": "stream",
     "text": [
      "\r",
      "Processing batches:  55%|████████████████████████████████████████████████████▎                                           | 320/587 [02:26<02:15,  1.97it/s]"
     ]
    },
    {
     "name": "stderr",
     "output_type": "stream",
     "text": [
      "\r",
      "Processing batches:  55%|████████████████████████████████████████████████████▍                                           | 321/587 [02:26<02:20,  1.89it/s]"
     ]
    },
    {
     "name": "stderr",
     "output_type": "stream",
     "text": [
      "\r",
      "Processing batches:  55%|████████████████████████████████████████████████████▋                                           | 322/587 [02:27<02:20,  1.89it/s]"
     ]
    },
    {
     "name": "stderr",
     "output_type": "stream",
     "text": [
      "\r",
      "Processing batches:  55%|████████████████████████████████████████████████████▊                                           | 323/587 [02:27<02:21,  1.86it/s]"
     ]
    },
    {
     "name": "stderr",
     "output_type": "stream",
     "text": [
      "\r",
      "Processing batches:  55%|████████████████████████████████████████████████████▉                                           | 324/587 [02:28<02:26,  1.80it/s]"
     ]
    },
    {
     "name": "stderr",
     "output_type": "stream",
     "text": [
      "\r",
      "Processing batches:  55%|█████████████████████████████████████████████████████▏                                          | 325/587 [02:28<02:27,  1.77it/s]"
     ]
    },
    {
     "name": "stderr",
     "output_type": "stream",
     "text": [
      "\r",
      "Processing batches:  56%|█████████████████████████████████████████████████████▎                                          | 326/587 [02:29<02:24,  1.81it/s]"
     ]
    },
    {
     "name": "stderr",
     "output_type": "stream",
     "text": [
      "\r",
      "Processing batches:  56%|█████████████████████████████████████████████████████▍                                          | 327/587 [02:29<02:20,  1.85it/s]"
     ]
    },
    {
     "name": "stderr",
     "output_type": "stream",
     "text": [
      "\r",
      "Processing batches:  56%|█████████████████████████████████████████████████████▋                                          | 328/587 [02:30<02:24,  1.79it/s]"
     ]
    },
    {
     "name": "stderr",
     "output_type": "stream",
     "text": [
      "\r",
      "Processing batches:  56%|█████████████████████████████████████████████████████▊                                          | 329/587 [02:31<02:21,  1.82it/s]"
     ]
    },
    {
     "name": "stderr",
     "output_type": "stream",
     "text": [
      "\r",
      "Processing batches:  56%|█████████████████████████████████████████████████████▉                                          | 330/587 [02:31<02:20,  1.83it/s]"
     ]
    },
    {
     "name": "stderr",
     "output_type": "stream",
     "text": [
      "\r",
      "Processing batches:  56%|██████████████████████████████████████████████████████▏                                         | 331/587 [02:32<02:16,  1.87it/s]"
     ]
    },
    {
     "name": "stderr",
     "output_type": "stream",
     "text": [
      "\r",
      "Processing batches:  57%|██████████████████████████████████████████████████████▎                                         | 332/587 [02:32<02:20,  1.81it/s]"
     ]
    },
    {
     "name": "stderr",
     "output_type": "stream",
     "text": [
      "\r",
      "Processing batches:  57%|██████████████████████████████████████████████████████▍                                         | 333/587 [02:33<02:25,  1.75it/s]"
     ]
    },
    {
     "name": "stderr",
     "output_type": "stream",
     "text": [
      "\r",
      "Processing batches:  57%|██████████████████████████████████████████████████████▌                                         | 334/587 [02:33<02:24,  1.75it/s]"
     ]
    },
    {
     "name": "stderr",
     "output_type": "stream",
     "text": [
      "\r",
      "Processing batches:  57%|██████████████████████████████████████████████████████▊                                         | 335/587 [02:34<02:27,  1.71it/s]"
     ]
    },
    {
     "name": "stderr",
     "output_type": "stream",
     "text": [
      "\r",
      "Processing batches:  57%|██████████████████████████████████████████████████████▉                                         | 336/587 [02:34<02:20,  1.79it/s]"
     ]
    },
    {
     "name": "stderr",
     "output_type": "stream",
     "text": [
      "\r",
      "Processing batches:  57%|███████████████████████████████████████████████████████                                         | 337/587 [02:35<02:21,  1.77it/s]"
     ]
    },
    {
     "name": "stderr",
     "output_type": "stream",
     "text": [
      "\r",
      "Processing batches:  58%|███████████████████████████████████████████████████████▎                                        | 338/587 [02:36<02:17,  1.82it/s]"
     ]
    },
    {
     "name": "stderr",
     "output_type": "stream",
     "text": [
      "\r",
      "Processing batches:  58%|███████████████████████████████████████████████████████▍                                        | 339/587 [02:36<02:17,  1.81it/s]"
     ]
    },
    {
     "name": "stderr",
     "output_type": "stream",
     "text": [
      "\r",
      "Processing batches:  58%|███████████████████████████████████████████████████████▌                                        | 340/587 [02:37<02:15,  1.82it/s]"
     ]
    },
    {
     "name": "stderr",
     "output_type": "stream",
     "text": [
      "\r",
      "Processing batches:  58%|███████████████████████████████████████████████████████▊                                        | 341/587 [02:37<02:14,  1.83it/s]"
     ]
    },
    {
     "name": "stderr",
     "output_type": "stream",
     "text": [
      "\r",
      "Processing batches:  58%|███████████████████████████████████████████████████████▉                                        | 342/587 [02:38<02:13,  1.83it/s]"
     ]
    },
    {
     "name": "stderr",
     "output_type": "stream",
     "text": [
      "\r",
      "Processing batches:  58%|████████████████████████████████████████████████████████                                        | 343/587 [02:38<02:09,  1.88it/s]"
     ]
    },
    {
     "name": "stderr",
     "output_type": "stream",
     "text": [
      "\r",
      "Processing batches:  59%|████████████████████████████████████████████████████████▎                                       | 344/587 [02:39<02:11,  1.85it/s]"
     ]
    },
    {
     "name": "stderr",
     "output_type": "stream",
     "text": [
      "\r",
      "Processing batches:  59%|████████████████████████████████████████████████████████▍                                       | 345/587 [02:39<02:11,  1.85it/s]"
     ]
    },
    {
     "name": "stderr",
     "output_type": "stream",
     "text": [
      "\r",
      "Processing batches:  59%|████████████████████████████████████████████████████████▌                                       | 346/587 [02:40<02:08,  1.88it/s]"
     ]
    },
    {
     "name": "stderr",
     "output_type": "stream",
     "text": [
      "\r",
      "Processing batches:  59%|████████████████████████████████████████████████████████▋                                       | 347/587 [02:40<02:07,  1.89it/s]"
     ]
    },
    {
     "name": "stderr",
     "output_type": "stream",
     "text": [
      "\r",
      "Processing batches:  59%|████████████████████████████████████████████████████████▉                                       | 348/587 [02:41<02:09,  1.85it/s]"
     ]
    },
    {
     "name": "stderr",
     "output_type": "stream",
     "text": [
      "\r",
      "Processing batches:  59%|█████████████████████████████████████████████████████████                                       | 349/587 [02:41<02:08,  1.86it/s]"
     ]
    },
    {
     "name": "stderr",
     "output_type": "stream",
     "text": [
      "\r",
      "Processing batches:  60%|█████████████████████████████████████████████████████████▏                                      | 350/587 [02:42<02:06,  1.88it/s]"
     ]
    },
    {
     "name": "stderr",
     "output_type": "stream",
     "text": [
      "\r",
      "Processing batches:  60%|█████████████████████████████████████████████████████████▍                                      | 351/587 [02:43<02:07,  1.85it/s]"
     ]
    },
    {
     "name": "stderr",
     "output_type": "stream",
     "text": [
      "\r",
      "Processing batches:  60%|█████████████████████████████████████████████████████████▌                                      | 352/587 [02:43<02:08,  1.83it/s]"
     ]
    },
    {
     "name": "stderr",
     "output_type": "stream",
     "text": [
      "\r",
      "Processing batches:  60%|█████████████████████████████████████████████████████████▋                                      | 353/587 [02:44<02:10,  1.80it/s]"
     ]
    },
    {
     "name": "stderr",
     "output_type": "stream",
     "text": [
      "\r",
      "Processing batches:  60%|█████████████████████████████████████████████████████████▉                                      | 354/587 [02:44<02:09,  1.80it/s]"
     ]
    },
    {
     "name": "stderr",
     "output_type": "stream",
     "text": [
      "\r",
      "Processing batches:  60%|██████████████████████████████████████████████████████████                                      | 355/587 [02:45<02:03,  1.88it/s]"
     ]
    },
    {
     "name": "stderr",
     "output_type": "stream",
     "text": [
      "\r",
      "Processing batches:  61%|██████████████████████████████████████████████████████████▏                                     | 356/587 [02:45<02:07,  1.81it/s]"
     ]
    },
    {
     "name": "stderr",
     "output_type": "stream",
     "text": [
      "\r",
      "Processing batches:  61%|██████████████████████████████████████████████████████████▍                                     | 357/587 [02:46<02:08,  1.79it/s]"
     ]
    },
    {
     "name": "stderr",
     "output_type": "stream",
     "text": [
      "\r",
      "Processing batches:  61%|██████████████████████████████████████████████████████████▌                                     | 358/587 [02:46<02:07,  1.79it/s]"
     ]
    },
    {
     "name": "stderr",
     "output_type": "stream",
     "text": [
      "\r",
      "Processing batches:  61%|██████████████████████████████████████████████████████████▋                                     | 359/587 [02:47<02:04,  1.84it/s]"
     ]
    },
    {
     "name": "stderr",
     "output_type": "stream",
     "text": [
      "\r",
      "Processing batches:  61%|██████████████████████████████████████████████████████████▉                                     | 360/587 [02:48<02:06,  1.79it/s]"
     ]
    },
    {
     "name": "stderr",
     "output_type": "stream",
     "text": [
      "\r",
      "Processing batches:  61%|███████████████████████████████████████████████████████████                                     | 361/587 [02:48<02:05,  1.81it/s]"
     ]
    },
    {
     "name": "stderr",
     "output_type": "stream",
     "text": [
      "\r",
      "Processing batches:  62%|███████████████████████████████████████████████████████████▏                                    | 362/587 [02:49<02:04,  1.80it/s]"
     ]
    },
    {
     "name": "stderr",
     "output_type": "stream",
     "text": [
      "\r",
      "Processing batches:  62%|███████████████████████████████████████████████████████████▎                                    | 363/587 [02:49<02:07,  1.76it/s]"
     ]
    },
    {
     "name": "stderr",
     "output_type": "stream",
     "text": [
      "\r",
      "Processing batches:  62%|███████████████████████████████████████████████████████████▌                                    | 364/587 [02:50<02:00,  1.85it/s]"
     ]
    },
    {
     "name": "stderr",
     "output_type": "stream",
     "text": [
      "\r",
      "Processing batches:  62%|███████████████████████████████████████████████████████████▋                                    | 365/587 [02:50<01:59,  1.86it/s]"
     ]
    },
    {
     "name": "stderr",
     "output_type": "stream",
     "text": [
      "\r",
      "Processing batches:  62%|███████████████████████████████████████████████████████████▊                                    | 366/587 [02:51<01:56,  1.89it/s]"
     ]
    },
    {
     "name": "stderr",
     "output_type": "stream",
     "text": [
      "\r",
      "Processing batches:  63%|████████████████████████████████████████████████████████████                                    | 367/587 [02:51<01:55,  1.91it/s]"
     ]
    },
    {
     "name": "stderr",
     "output_type": "stream",
     "text": [
      "\r",
      "Processing batches:  63%|████████████████████████████████████████████████████████████▏                                   | 368/587 [02:52<02:00,  1.82it/s]"
     ]
    },
    {
     "name": "stderr",
     "output_type": "stream",
     "text": [
      "\r",
      "Processing batches:  63%|████████████████████████████████████████████████████████████▎                                   | 369/587 [02:52<02:01,  1.79it/s]"
     ]
    },
    {
     "name": "stderr",
     "output_type": "stream",
     "text": [
      "\r",
      "Processing batches:  63%|████████████████████████████████████████████████████████████▌                                   | 370/587 [02:53<02:00,  1.79it/s]"
     ]
    },
    {
     "name": "stderr",
     "output_type": "stream",
     "text": [
      "\r",
      "Processing batches:  63%|████████████████████████████████████████████████████████████▋                                   | 371/587 [02:54<02:02,  1.76it/s]"
     ]
    },
    {
     "name": "stderr",
     "output_type": "stream",
     "text": [
      "\r",
      "Processing batches:  63%|████████████████████████████████████████████████████████████▊                                   | 372/587 [02:54<02:01,  1.77it/s]"
     ]
    },
    {
     "name": "stderr",
     "output_type": "stream",
     "text": [
      "\r",
      "Processing batches:  64%|█████████████████████████████████████████████████████████████                                   | 373/587 [02:55<02:01,  1.77it/s]"
     ]
    },
    {
     "name": "stderr",
     "output_type": "stream",
     "text": [
      "\r",
      "Processing batches:  64%|█████████████████████████████████████████████████████████████▏                                  | 374/587 [02:55<02:01,  1.76it/s]"
     ]
    },
    {
     "name": "stderr",
     "output_type": "stream",
     "text": [
      "\r",
      "Processing batches:  64%|█████████████████████████████████████████████████████████████▎                                  | 375/587 [02:56<02:01,  1.74it/s]"
     ]
    },
    {
     "name": "stderr",
     "output_type": "stream",
     "text": [
      "\r",
      "Processing batches:  64%|█████████████████████████████████████████████████████████████▍                                  | 376/587 [02:56<01:58,  1.77it/s]"
     ]
    },
    {
     "name": "stderr",
     "output_type": "stream",
     "text": [
      "\r",
      "Processing batches:  64%|█████████████████████████████████████████████████████████████▋                                  | 377/587 [02:57<01:52,  1.86it/s]"
     ]
    },
    {
     "name": "stderr",
     "output_type": "stream",
     "text": [
      "\r",
      "Processing batches:  64%|█████████████████████████████████████████████████████████████▊                                  | 378/587 [02:58<01:58,  1.76it/s]"
     ]
    },
    {
     "name": "stderr",
     "output_type": "stream",
     "text": [
      "\r",
      "Processing batches:  65%|█████████████████████████████████████████████████████████████▉                                  | 379/587 [02:58<01:56,  1.78it/s]"
     ]
    },
    {
     "name": "stderr",
     "output_type": "stream",
     "text": [
      "\r",
      "Processing batches:  65%|██████████████████████████████████████████████████████████████▏                                 | 380/587 [02:59<01:53,  1.83it/s]"
     ]
    },
    {
     "name": "stderr",
     "output_type": "stream",
     "text": [
      "\r",
      "Processing batches:  65%|██████████████████████████████████████████████████████████████▎                                 | 381/587 [02:59<01:53,  1.82it/s]"
     ]
    },
    {
     "name": "stderr",
     "output_type": "stream",
     "text": [
      "\r",
      "Processing batches:  65%|██████████████████████████████████████████████████████████████▍                                 | 382/587 [03:00<01:52,  1.82it/s]"
     ]
    },
    {
     "name": "stderr",
     "output_type": "stream",
     "text": [
      "\r",
      "Processing batches:  65%|██████████████████████████████████████████████████████████████▋                                 | 383/587 [03:00<01:50,  1.85it/s]"
     ]
    },
    {
     "name": "stderr",
     "output_type": "stream",
     "text": [
      "\r",
      "Processing batches:  65%|██████████████████████████████████████████████████████████████▊                                 | 384/587 [03:01<01:50,  1.84it/s]"
     ]
    },
    {
     "name": "stderr",
     "output_type": "stream",
     "text": [
      "\r",
      "Processing batches:  66%|██████████████████████████████████████████████████████████████▉                                 | 385/587 [03:01<01:45,  1.91it/s]"
     ]
    },
    {
     "name": "stderr",
     "output_type": "stream",
     "text": [
      "\r",
      "Processing batches:  66%|███████████████████████████████████████████████████████████████▏                                | 386/587 [03:02<01:47,  1.86it/s]"
     ]
    },
    {
     "name": "stderr",
     "output_type": "stream",
     "text": [
      "\r",
      "Processing batches:  66%|███████████████████████████████████████████████████████████████▎                                | 387/587 [03:02<01:45,  1.89it/s]"
     ]
    },
    {
     "name": "stderr",
     "output_type": "stream",
     "text": [
      "\r",
      "Processing batches:  66%|███████████████████████████████████████████████████████████████▍                                | 388/587 [03:03<01:44,  1.91it/s]"
     ]
    },
    {
     "name": "stderr",
     "output_type": "stream",
     "text": [
      "\r",
      "Processing batches:  66%|███████████████████████████████████████████████████████████████▌                                | 389/587 [03:03<01:41,  1.94it/s]"
     ]
    },
    {
     "name": "stderr",
     "output_type": "stream",
     "text": [
      "\r",
      "Processing batches:  66%|███████████████████████████████████████████████████████████████▊                                | 390/587 [03:04<01:40,  1.95it/s]"
     ]
    },
    {
     "name": "stderr",
     "output_type": "stream",
     "text": [
      "\r",
      "Processing batches:  67%|███████████████████████████████████████████████████████████████▉                                | 391/587 [03:04<01:41,  1.93it/s]"
     ]
    },
    {
     "name": "stderr",
     "output_type": "stream",
     "text": [
      "\r",
      "Processing batches:  67%|████████████████████████████████████████████████████████████████                                | 392/587 [03:05<01:40,  1.94it/s]"
     ]
    },
    {
     "name": "stderr",
     "output_type": "stream",
     "text": [
      "\r",
      "Processing batches:  67%|████████████████████████████████████████████████████████████████▎                               | 393/587 [03:05<01:41,  1.91it/s]"
     ]
    },
    {
     "name": "stderr",
     "output_type": "stream",
     "text": [
      "\r",
      "Processing batches:  67%|████████████████████████████████████████████████████████████████▍                               | 394/587 [03:06<01:39,  1.93it/s]"
     ]
    },
    {
     "name": "stderr",
     "output_type": "stream",
     "text": [
      "\r",
      "Processing batches:  67%|████████████████████████████████████████████████████████████████▌                               | 395/587 [03:07<01:43,  1.85it/s]"
     ]
    },
    {
     "name": "stderr",
     "output_type": "stream",
     "text": [
      "\r",
      "Processing batches:  67%|████████████████████████████████████████████████████████████████▊                               | 396/587 [03:07<01:42,  1.87it/s]"
     ]
    },
    {
     "name": "stderr",
     "output_type": "stream",
     "text": [
      "\r",
      "Processing batches:  68%|████████████████████████████████████████████████████████████████▉                               | 397/587 [03:08<01:38,  1.93it/s]"
     ]
    },
    {
     "name": "stderr",
     "output_type": "stream",
     "text": [
      "\r",
      "Processing batches:  68%|█████████████████████████████████████████████████████████████████                               | 398/587 [03:08<01:43,  1.83it/s]"
     ]
    },
    {
     "name": "stderr",
     "output_type": "stream",
     "text": [
      "\r",
      "Processing batches:  68%|█████████████████████████████████████████████████████████████████▎                              | 399/587 [03:09<01:43,  1.82it/s]"
     ]
    },
    {
     "name": "stderr",
     "output_type": "stream",
     "text": [
      "\r",
      "Processing batches:  68%|█████████████████████████████████████████████████████████████████▍                              | 400/587 [03:09<01:47,  1.73it/s]"
     ]
    },
    {
     "name": "stderr",
     "output_type": "stream",
     "text": [
      "\r",
      "Processing batches:  68%|█████████████████████████████████████████████████████████████████▌                              | 401/587 [03:10<01:42,  1.81it/s]"
     ]
    },
    {
     "name": "stderr",
     "output_type": "stream",
     "text": [
      "\r",
      "Processing batches:  68%|█████████████████████████████████████████████████████████████████▋                              | 402/587 [03:10<01:40,  1.83it/s]"
     ]
    },
    {
     "name": "stderr",
     "output_type": "stream",
     "text": [
      "\r",
      "Processing batches:  69%|█████████████████████████████████████████████████████████████████▉                              | 403/587 [03:11<01:43,  1.78it/s]"
     ]
    },
    {
     "name": "stderr",
     "output_type": "stream",
     "text": [
      "\r",
      "Processing batches:  69%|██████████████████████████████████████████████████████████████████                              | 404/587 [03:12<01:45,  1.74it/s]"
     ]
    },
    {
     "name": "stderr",
     "output_type": "stream",
     "text": [
      "\r",
      "Processing batches:  69%|██████████████████████████████████████████████████████████████████▏                             | 405/587 [03:12<01:40,  1.81it/s]"
     ]
    },
    {
     "name": "stderr",
     "output_type": "stream",
     "text": [
      "\r",
      "Processing batches:  69%|██████████████████████████████████████████████████████████████████▍                             | 406/587 [03:13<01:38,  1.84it/s]"
     ]
    },
    {
     "name": "stderr",
     "output_type": "stream",
     "text": [
      "\r",
      "Processing batches:  69%|██████████████████████████████████████████████████████████████████▌                             | 407/587 [03:13<01:38,  1.82it/s]"
     ]
    },
    {
     "name": "stderr",
     "output_type": "stream",
     "text": [
      "\r",
      "Processing batches:  70%|██████████████████████████████████████████████████████████████████▋                             | 408/587 [03:14<01:35,  1.87it/s]"
     ]
    },
    {
     "name": "stderr",
     "output_type": "stream",
     "text": [
      "\r",
      "Processing batches:  70%|██████████████████████████████████████████████████████████████████▉                             | 409/587 [03:14<01:41,  1.76it/s]"
     ]
    },
    {
     "name": "stderr",
     "output_type": "stream",
     "text": [
      "\r",
      "Processing batches:  70%|███████████████████████████████████████████████████████████████████                             | 410/587 [03:15<01:43,  1.72it/s]"
     ]
    },
    {
     "name": "stderr",
     "output_type": "stream",
     "text": [
      "\r",
      "Processing batches:  70%|███████████████████████████████████████████████████████████████████▏                            | 411/587 [03:16<01:43,  1.69it/s]"
     ]
    },
    {
     "name": "stderr",
     "output_type": "stream",
     "text": [
      "\r",
      "Processing batches:  70%|███████████████████████████████████████████████████████████████████▍                            | 412/587 [03:16<01:45,  1.66it/s]"
     ]
    },
    {
     "name": "stderr",
     "output_type": "stream",
     "text": [
      "\r",
      "Processing batches:  70%|███████████████████████████████████████████████████████████████████▌                            | 413/587 [03:17<01:40,  1.73it/s]"
     ]
    },
    {
     "name": "stderr",
     "output_type": "stream",
     "text": [
      "\r",
      "Processing batches:  71%|███████████████████████████████████████████████████████████████████▋                            | 414/587 [03:17<01:41,  1.70it/s]"
     ]
    },
    {
     "name": "stderr",
     "output_type": "stream",
     "text": [
      "\r",
      "Processing batches:  71%|███████████████████████████████████████████████████████████████████▊                            | 415/587 [03:18<01:37,  1.76it/s]"
     ]
    },
    {
     "name": "stderr",
     "output_type": "stream",
     "text": [
      "\r",
      "Processing batches:  71%|████████████████████████████████████████████████████████████████████                            | 416/587 [03:18<01:32,  1.84it/s]"
     ]
    },
    {
     "name": "stderr",
     "output_type": "stream",
     "text": [
      "\r",
      "Processing batches:  71%|████████████████████████████████████████████████████████████████████▏                           | 417/587 [03:19<01:33,  1.81it/s]"
     ]
    },
    {
     "name": "stderr",
     "output_type": "stream",
     "text": [
      "\r",
      "Processing batches:  71%|████████████████████████████████████████████████████████████████████▎                           | 418/587 [03:19<01:32,  1.83it/s]"
     ]
    },
    {
     "name": "stderr",
     "output_type": "stream",
     "text": [
      "\r",
      "Processing batches:  71%|████████████████████████████████████████████████████████████████████▌                           | 419/587 [03:20<01:32,  1.81it/s]"
     ]
    },
    {
     "name": "stderr",
     "output_type": "stream",
     "text": [
      "\r",
      "Processing batches:  72%|████████████████████████████████████████████████████████████████████▋                           | 420/587 [03:20<01:29,  1.86it/s]"
     ]
    },
    {
     "name": "stderr",
     "output_type": "stream",
     "text": [
      "\r",
      "Processing batches:  72%|████████████████████████████████████████████████████████████████████▊                           | 421/587 [03:21<01:27,  1.90it/s]"
     ]
    },
    {
     "name": "stderr",
     "output_type": "stream",
     "text": [
      "\r",
      "Processing batches:  72%|█████████████████████████████████████████████████████████████████████                           | 422/587 [03:22<01:27,  1.89it/s]"
     ]
    },
    {
     "name": "stderr",
     "output_type": "stream",
     "text": [
      "\r",
      "Processing batches:  72%|█████████████████████████████████████████████████████████████████████▏                          | 423/587 [03:22<01:29,  1.82it/s]"
     ]
    },
    {
     "name": "stderr",
     "output_type": "stream",
     "text": [
      "\r",
      "Processing batches:  72%|█████████████████████████████████████████████████████████████████████▎                          | 424/587 [03:23<01:32,  1.76it/s]"
     ]
    },
    {
     "name": "stderr",
     "output_type": "stream",
     "text": [
      "\r",
      "Processing batches:  72%|█████████████████████████████████████████████████████████████████████▌                          | 425/587 [03:23<01:34,  1.72it/s]"
     ]
    },
    {
     "name": "stderr",
     "output_type": "stream",
     "text": [
      "\r",
      "Processing batches:  73%|█████████████████████████████████████████████████████████████████████▋                          | 426/587 [03:24<01:30,  1.77it/s]"
     ]
    },
    {
     "name": "stderr",
     "output_type": "stream",
     "text": [
      "\r",
      "Processing batches:  73%|█████████████████████████████████████████████████████████████████████▊                          | 427/587 [03:24<01:29,  1.79it/s]"
     ]
    },
    {
     "name": "stderr",
     "output_type": "stream",
     "text": [
      "\r",
      "Processing batches:  73%|█████████████████████████████████████████████████████████████████████▉                          | 428/587 [03:25<01:26,  1.83it/s]"
     ]
    },
    {
     "name": "stderr",
     "output_type": "stream",
     "text": [
      "\r",
      "Processing batches:  73%|██████████████████████████████████████████████████████████████████████▏                         | 429/587 [03:26<01:29,  1.76it/s]"
     ]
    },
    {
     "name": "stderr",
     "output_type": "stream",
     "text": [
      "\r",
      "Processing batches:  73%|██████████████████████████████████████████████████████████████████████▎                         | 430/587 [03:26<01:28,  1.78it/s]"
     ]
    },
    {
     "name": "stderr",
     "output_type": "stream",
     "text": [
      "\r",
      "Processing batches:  73%|██████████████████████████████████████████████████████████████████████▍                         | 431/587 [03:27<01:23,  1.86it/s]"
     ]
    },
    {
     "name": "stderr",
     "output_type": "stream",
     "text": [
      "\r",
      "Processing batches:  74%|██████████████████████████████████████████████████████████████████████▋                         | 432/587 [03:27<01:23,  1.86it/s]"
     ]
    },
    {
     "name": "stderr",
     "output_type": "stream",
     "text": [
      "\r",
      "Processing batches:  74%|██████████████████████████████████████████████████████████████████████▊                         | 433/587 [03:28<01:26,  1.78it/s]"
     ]
    },
    {
     "name": "stderr",
     "output_type": "stream",
     "text": [
      "\r",
      "Processing batches:  74%|██████████████████████████████████████████████████████████████████████▉                         | 434/587 [03:28<01:25,  1.79it/s]"
     ]
    },
    {
     "name": "stderr",
     "output_type": "stream",
     "text": [
      "\r",
      "Processing batches:  74%|███████████████████████████████████████████████████████████████████████▏                        | 435/587 [03:29<01:23,  1.83it/s]"
     ]
    },
    {
     "name": "stderr",
     "output_type": "stream",
     "text": [
      "\r",
      "Processing batches:  74%|███████████████████████████████████████████████████████████████████████▎                        | 436/587 [03:29<01:20,  1.88it/s]"
     ]
    },
    {
     "name": "stderr",
     "output_type": "stream",
     "text": [
      "\r",
      "Processing batches:  74%|███████████████████████████████████████████████████████████████████████▍                        | 437/587 [03:30<01:20,  1.86it/s]"
     ]
    },
    {
     "name": "stderr",
     "output_type": "stream",
     "text": [
      "\r",
      "Processing batches:  75%|███████████████████████████████████████████████████████████████████████▋                        | 438/587 [03:30<01:20,  1.86it/s]"
     ]
    },
    {
     "name": "stderr",
     "output_type": "stream",
     "text": [
      "\r",
      "Processing batches:  75%|███████████████████████████████████████████████████████████████████████▊                        | 439/587 [03:31<01:18,  1.89it/s]"
     ]
    },
    {
     "name": "stderr",
     "output_type": "stream",
     "text": [
      "\r",
      "Processing batches:  75%|███████████████████████████████████████████████████████████████████████▉                        | 440/587 [03:31<01:17,  1.90it/s]"
     ]
    },
    {
     "name": "stderr",
     "output_type": "stream",
     "text": [
      "\r",
      "Processing batches:  75%|████████████████████████████████████████████████████████████████████████                        | 441/587 [03:32<01:17,  1.90it/s]"
     ]
    },
    {
     "name": "stderr",
     "output_type": "stream",
     "text": [
      "\r",
      "Processing batches:  75%|████████████████████████████████████████████████████████████████████████▎                       | 442/587 [03:33<01:17,  1.86it/s]"
     ]
    },
    {
     "name": "stderr",
     "output_type": "stream",
     "text": [
      "\r",
      "Processing batches:  75%|████████████████████████████████████████████████████████████████████████▍                       | 443/587 [03:33<01:18,  1.84it/s]"
     ]
    },
    {
     "name": "stderr",
     "output_type": "stream",
     "text": [
      "\r",
      "Processing batches:  76%|████████████████████████████████████████████████████████████████████████▌                       | 444/587 [03:34<01:20,  1.79it/s]"
     ]
    },
    {
     "name": "stderr",
     "output_type": "stream",
     "text": [
      "\r",
      "Processing batches:  76%|████████████████████████████████████████████████████████████████████████▊                       | 445/587 [03:34<01:21,  1.75it/s]"
     ]
    },
    {
     "name": "stderr",
     "output_type": "stream",
     "text": [
      "\r",
      "Processing batches:  76%|████████████████████████████████████████████████████████████████████████▉                       | 446/587 [03:35<01:18,  1.79it/s]"
     ]
    },
    {
     "name": "stderr",
     "output_type": "stream",
     "text": [
      "\r",
      "Processing batches:  76%|█████████████████████████████████████████████████████████████████████████                       | 447/587 [03:35<01:17,  1.80it/s]"
     ]
    },
    {
     "name": "stderr",
     "output_type": "stream",
     "text": [
      "\r",
      "Processing batches:  76%|█████████████████████████████████████████████████████████████████████████▎                      | 448/587 [03:36<01:17,  1.80it/s]"
     ]
    },
    {
     "name": "stderr",
     "output_type": "stream",
     "text": [
      "\r",
      "Processing batches:  76%|█████████████████████████████████████████████████████████████████████████▍                      | 449/587 [03:36<01:18,  1.76it/s]"
     ]
    },
    {
     "name": "stderr",
     "output_type": "stream",
     "text": [
      "\r",
      "Processing batches:  77%|█████████████████████████████████████████████████████████████████████████▌                      | 450/587 [03:37<01:15,  1.82it/s]"
     ]
    },
    {
     "name": "stderr",
     "output_type": "stream",
     "text": [
      "\r",
      "Processing batches:  77%|█████████████████████████████████████████████████████████████████████████▊                      | 451/587 [03:38<01:17,  1.76it/s]"
     ]
    },
    {
     "name": "stderr",
     "output_type": "stream",
     "text": [
      "\r",
      "Processing batches:  77%|█████████████████████████████████████████████████████████████████████████▉                      | 452/587 [03:38<01:24,  1.60it/s]"
     ]
    },
    {
     "name": "stderr",
     "output_type": "stream",
     "text": [
      "\r",
      "Processing batches:  77%|██████████████████████████████████████████████████████████████████████████                      | 453/587 [03:39<01:25,  1.56it/s]"
     ]
    },
    {
     "name": "stderr",
     "output_type": "stream",
     "text": [
      "\r",
      "Processing batches:  77%|██████████████████████████████████████████████████████████████████████████▏                     | 454/587 [03:40<01:24,  1.58it/s]"
     ]
    },
    {
     "name": "stderr",
     "output_type": "stream",
     "text": [
      "\r",
      "Processing batches:  78%|██████████████████████████████████████████████████████████████████████████▍                     | 455/587 [03:40<01:19,  1.66it/s]"
     ]
    },
    {
     "name": "stderr",
     "output_type": "stream",
     "text": [
      "\r",
      "Processing batches:  78%|██████████████████████████████████████████████████████████████████████████▌                     | 456/587 [03:41<01:19,  1.64it/s]"
     ]
    },
    {
     "name": "stderr",
     "output_type": "stream",
     "text": [
      "\r",
      "Processing batches:  78%|██████████████████████████████████████████████████████████████████████████▋                     | 457/587 [03:41<01:15,  1.73it/s]"
     ]
    },
    {
     "name": "stderr",
     "output_type": "stream",
     "text": [
      "\r",
      "Processing batches:  78%|██████████████████████████████████████████████████████████████████████████▉                     | 458/587 [03:42<01:14,  1.72it/s]"
     ]
    },
    {
     "name": "stderr",
     "output_type": "stream",
     "text": [
      "\r",
      "Processing batches:  78%|███████████████████████████████████████████████████████████████████████████                     | 459/587 [03:42<01:12,  1.76it/s]"
     ]
    },
    {
     "name": "stderr",
     "output_type": "stream",
     "text": [
      "\r",
      "Processing batches:  78%|███████████████████████████████████████████████████████████████████████████▏                    | 460/587 [03:43<01:12,  1.75it/s]"
     ]
    },
    {
     "name": "stderr",
     "output_type": "stream",
     "text": [
      "\r",
      "Processing batches:  79%|███████████████████████████████████████████████████████████████████████████▍                    | 461/587 [03:44<01:13,  1.71it/s]"
     ]
    },
    {
     "name": "stderr",
     "output_type": "stream",
     "text": [
      "\r",
      "Processing batches:  79%|███████████████████████████████████████████████████████████████████████████▌                    | 462/587 [03:44<01:16,  1.63it/s]"
     ]
    },
    {
     "name": "stderr",
     "output_type": "stream",
     "text": [
      "\r",
      "Processing batches:  79%|███████████████████████████████████████████████████████████████████████████▋                    | 463/587 [03:45<01:17,  1.61it/s]"
     ]
    },
    {
     "name": "stderr",
     "output_type": "stream",
     "text": [
      "\r",
      "Processing batches:  79%|███████████████████████████████████████████████████████████████████████████▉                    | 464/587 [03:45<01:11,  1.71it/s]"
     ]
    },
    {
     "name": "stderr",
     "output_type": "stream",
     "text": [
      "\r",
      "Processing batches:  79%|████████████████████████████████████████████████████████████████████████████                    | 465/587 [03:46<01:11,  1.72it/s]"
     ]
    },
    {
     "name": "stderr",
     "output_type": "stream",
     "text": [
      "\r",
      "Processing batches:  79%|████████████████████████████████████████████████████████████████████████████▏                   | 466/587 [03:47<01:10,  1.71it/s]"
     ]
    },
    {
     "name": "stderr",
     "output_type": "stream",
     "text": [
      "\r",
      "Processing batches:  80%|████████████████████████████████████████████████████████████████████████████▎                   | 467/587 [03:47<01:08,  1.74it/s]"
     ]
    },
    {
     "name": "stderr",
     "output_type": "stream",
     "text": [
      "\r",
      "Processing batches:  80%|████████████████████████████████████████████████████████████████████████████▌                   | 468/587 [03:48<01:06,  1.78it/s]"
     ]
    },
    {
     "name": "stderr",
     "output_type": "stream",
     "text": [
      "\r",
      "Processing batches:  80%|████████████████████████████████████████████████████████████████████████████▋                   | 469/587 [03:48<01:06,  1.78it/s]"
     ]
    },
    {
     "name": "stderr",
     "output_type": "stream",
     "text": [
      "\r",
      "Processing batches:  80%|████████████████████████████████████████████████████████████████████████████▊                   | 470/587 [03:49<01:06,  1.76it/s]"
     ]
    },
    {
     "name": "stderr",
     "output_type": "stream",
     "text": [
      "\r",
      "Processing batches:  80%|█████████████████████████████████████████████████████████████████████████████                   | 471/587 [03:49<01:04,  1.79it/s]"
     ]
    },
    {
     "name": "stderr",
     "output_type": "stream",
     "text": [
      "\r",
      "Processing batches:  80%|█████████████████████████████████████████████████████████████████████████████▏                  | 472/587 [03:50<01:02,  1.83it/s]"
     ]
    },
    {
     "name": "stderr",
     "output_type": "stream",
     "text": [
      "\r",
      "Processing batches:  81%|█████████████████████████████████████████████████████████████████████████████▎                  | 473/587 [03:50<01:01,  1.85it/s]"
     ]
    },
    {
     "name": "stderr",
     "output_type": "stream",
     "text": [
      "\r",
      "Processing batches:  81%|█████████████████████████████████████████████████████████████████████████████▌                  | 474/587 [03:51<01:00,  1.87it/s]"
     ]
    },
    {
     "name": "stderr",
     "output_type": "stream",
     "text": [
      "\r",
      "Processing batches:  81%|█████████████████████████████████████████████████████████████████████████████▋                  | 475/587 [03:52<01:00,  1.87it/s]"
     ]
    },
    {
     "name": "stderr",
     "output_type": "stream",
     "text": [
      "\r",
      "Processing batches:  81%|█████████████████████████████████████████████████████████████████████████████▊                  | 476/587 [03:52<00:58,  1.90it/s]"
     ]
    },
    {
     "name": "stderr",
     "output_type": "stream",
     "text": [
      "\r",
      "Processing batches:  81%|██████████████████████████████████████████████████████████████████████████████                  | 477/587 [03:53<01:00,  1.81it/s]"
     ]
    },
    {
     "name": "stderr",
     "output_type": "stream",
     "text": [
      "\r",
      "Processing batches:  81%|██████████████████████████████████████████████████████████████████████████████▏                 | 478/587 [03:53<00:59,  1.83it/s]"
     ]
    },
    {
     "name": "stderr",
     "output_type": "stream",
     "text": [
      "\r",
      "Processing batches:  82%|██████████████████████████████████████████████████████████████████████████████▎                 | 479/587 [03:54<00:58,  1.85it/s]"
     ]
    },
    {
     "name": "stderr",
     "output_type": "stream",
     "text": [
      "\r",
      "Processing batches:  82%|██████████████████████████████████████████████████████████████████████████████▌                 | 480/587 [03:54<00:56,  1.91it/s]"
     ]
    },
    {
     "name": "stderr",
     "output_type": "stream",
     "text": [
      "\r",
      "Processing batches:  82%|██████████████████████████████████████████████████████████████████████████████▋                 | 481/587 [03:55<00:56,  1.87it/s]"
     ]
    },
    {
     "name": "stderr",
     "output_type": "stream",
     "text": [
      "\r",
      "Processing batches:  82%|██████████████████████████████████████████████████████████████████████████████▊                 | 482/587 [03:55<01:00,  1.73it/s]"
     ]
    },
    {
     "name": "stderr",
     "output_type": "stream",
     "text": [
      "\r",
      "Processing batches:  82%|██████████████████████████████████████████████████████████████████████████████▉                 | 483/587 [03:56<01:00,  1.72it/s]"
     ]
    },
    {
     "name": "stderr",
     "output_type": "stream",
     "text": [
      "\r",
      "Processing batches:  82%|███████████████████████████████████████████████████████████████████████████████▏                | 484/587 [03:57<01:01,  1.67it/s]"
     ]
    },
    {
     "name": "stderr",
     "output_type": "stream",
     "text": [
      "\r",
      "Processing batches:  83%|███████████████████████████████████████████████████████████████████████████████▎                | 485/587 [03:57<01:05,  1.56it/s]"
     ]
    },
    {
     "name": "stderr",
     "output_type": "stream",
     "text": [
      "\r",
      "Processing batches:  83%|███████████████████████████████████████████████████████████████████████████████▍                | 486/587 [03:58<01:05,  1.55it/s]"
     ]
    },
    {
     "name": "stderr",
     "output_type": "stream",
     "text": [
      "\r",
      "Processing batches:  83%|███████████████████████████████████████████████████████████████████████████████▋                | 487/587 [03:59<01:03,  1.58it/s]"
     ]
    },
    {
     "name": "stderr",
     "output_type": "stream",
     "text": [
      "\r",
      "Processing batches:  83%|███████████████████████████████████████████████████████████████████████████████▊                | 488/587 [03:59<01:01,  1.61it/s]"
     ]
    },
    {
     "name": "stderr",
     "output_type": "stream",
     "text": [
      "\r",
      "Processing batches:  83%|███████████████████████████████████████████████████████████████████████████████▉                | 489/587 [04:00<00:57,  1.70it/s]"
     ]
    },
    {
     "name": "stderr",
     "output_type": "stream",
     "text": [
      "\r",
      "Processing batches:  83%|████████████████████████████████████████████████████████████████████████████████▏               | 490/587 [04:00<00:53,  1.80it/s]"
     ]
    },
    {
     "name": "stderr",
     "output_type": "stream",
     "text": [
      "\r",
      "Processing batches:  84%|████████████████████████████████████████████████████████████████████████████████▎               | 491/587 [04:01<00:51,  1.86it/s]"
     ]
    },
    {
     "name": "stderr",
     "output_type": "stream",
     "text": [
      "\r",
      "Processing batches:  84%|████████████████████████████████████████████████████████████████████████████████▍               | 492/587 [04:01<00:51,  1.85it/s]"
     ]
    },
    {
     "name": "stderr",
     "output_type": "stream",
     "text": [
      "\r",
      "Processing batches:  84%|████████████████████████████████████████████████████████████████████████████████▋               | 493/587 [04:02<00:49,  1.89it/s]"
     ]
    },
    {
     "name": "stderr",
     "output_type": "stream",
     "text": [
      "\r",
      "Processing batches:  84%|████████████████████████████████████████████████████████████████████████████████▊               | 494/587 [04:02<00:52,  1.78it/s]"
     ]
    },
    {
     "name": "stderr",
     "output_type": "stream",
     "text": [
      "\r",
      "Processing batches:  84%|████████████████████████████████████████████████████████████████████████████████▉               | 495/587 [04:03<00:52,  1.75it/s]"
     ]
    },
    {
     "name": "stderr",
     "output_type": "stream",
     "text": [
      "\r",
      "Processing batches:  84%|█████████████████████████████████████████████████████████████████████████████████               | 496/587 [04:04<00:50,  1.81it/s]"
     ]
    },
    {
     "name": "stderr",
     "output_type": "stream",
     "text": [
      "\r",
      "Processing batches:  85%|█████████████████████████████████████████████████████████████████████████████████▎              | 497/587 [04:04<00:49,  1.82it/s]"
     ]
    },
    {
     "name": "stderr",
     "output_type": "stream",
     "text": [
      "\r",
      "Processing batches:  85%|█████████████████████████████████████████████████████████████████████████████████▍              | 498/587 [04:05<00:49,  1.78it/s]"
     ]
    },
    {
     "name": "stderr",
     "output_type": "stream",
     "text": [
      "\r",
      "Processing batches:  85%|█████████████████████████████████████████████████████████████████████████████████▌              | 499/587 [04:05<00:49,  1.79it/s]"
     ]
    },
    {
     "name": "stderr",
     "output_type": "stream",
     "text": [
      "\r",
      "Processing batches:  85%|█████████████████████████████████████████████████████████████████████████████████▊              | 500/587 [04:06<00:48,  1.79it/s]"
     ]
    },
    {
     "name": "stderr",
     "output_type": "stream",
     "text": [
      "\r",
      "Processing batches:  85%|█████████████████████████████████████████████████████████████████████████████████▉              | 501/587 [04:06<00:48,  1.79it/s]"
     ]
    },
    {
     "name": "stderr",
     "output_type": "stream",
     "text": [
      "\r",
      "Processing batches:  86%|██████████████████████████████████████████████████████████████████████████████████              | 502/587 [04:07<00:47,  1.80it/s]"
     ]
    },
    {
     "name": "stderr",
     "output_type": "stream",
     "text": [
      "\r",
      "Processing batches:  86%|██████████████████████████████████████████████████████████████████████████████████▎             | 503/587 [04:07<00:46,  1.82it/s]"
     ]
    },
    {
     "name": "stderr",
     "output_type": "stream",
     "text": [
      "\r",
      "Processing batches:  86%|██████████████████████████████████████████████████████████████████████████████████▍             | 504/587 [04:08<00:46,  1.78it/s]"
     ]
    },
    {
     "name": "stderr",
     "output_type": "stream",
     "text": [
      "\r",
      "Processing batches:  86%|██████████████████████████████████████████████████████████████████████████████████▌             | 505/587 [04:09<00:48,  1.68it/s]"
     ]
    },
    {
     "name": "stderr",
     "output_type": "stream",
     "text": [
      "\r",
      "Processing batches:  86%|██████████████████████████████████████████████████████████████████████████████████▊             | 506/587 [04:09<00:48,  1.68it/s]"
     ]
    },
    {
     "name": "stderr",
     "output_type": "stream",
     "text": [
      "\r",
      "Processing batches:  86%|██████████████████████████████████████████████████████████████████████████████████▉             | 507/587 [04:10<00:47,  1.68it/s]"
     ]
    },
    {
     "name": "stderr",
     "output_type": "stream",
     "text": [
      "\r",
      "Processing batches:  87%|███████████████████████████████████████████████████████████████████████████████████             | 508/587 [04:11<00:48,  1.62it/s]"
     ]
    },
    {
     "name": "stderr",
     "output_type": "stream",
     "text": [
      "\r",
      "Processing batches:  87%|███████████████████████████████████████████████████████████████████████████████████▏            | 509/587 [04:11<00:47,  1.64it/s]"
     ]
    },
    {
     "name": "stderr",
     "output_type": "stream",
     "text": [
      "\r",
      "Processing batches:  87%|███████████████████████████████████████████████████████████████████████████████████▍            | 510/587 [04:12<00:46,  1.65it/s]"
     ]
    },
    {
     "name": "stderr",
     "output_type": "stream",
     "text": [
      "\r",
      "Processing batches:  87%|███████████████████████████████████████████████████████████████████████████████████▌            | 511/587 [04:12<00:46,  1.63it/s]"
     ]
    },
    {
     "name": "stderr",
     "output_type": "stream",
     "text": [
      "\r",
      "Processing batches:  87%|███████████████████████████████████████████████████████████████████████████████████▋            | 512/587 [04:13<00:45,  1.65it/s]"
     ]
    },
    {
     "name": "stderr",
     "output_type": "stream",
     "text": [
      "\r",
      "Processing batches:  87%|███████████████████████████████████████████████████████████████████████████████████▉            | 513/587 [04:13<00:43,  1.71it/s]"
     ]
    },
    {
     "name": "stderr",
     "output_type": "stream",
     "text": [
      "\r",
      "Processing batches:  88%|████████████████████████████████████████████████████████████████████████████████████            | 514/587 [04:14<00:40,  1.79it/s]"
     ]
    },
    {
     "name": "stderr",
     "output_type": "stream",
     "text": [
      "\r",
      "Processing batches:  88%|████████████████████████████████████████████████████████████████████████████████████▏           | 515/587 [04:15<00:39,  1.80it/s]"
     ]
    },
    {
     "name": "stderr",
     "output_type": "stream",
     "text": [
      "\r",
      "Processing batches:  88%|████████████████████████████████████████████████████████████████████████████████████▍           | 516/587 [04:15<00:39,  1.82it/s]"
     ]
    },
    {
     "name": "stderr",
     "output_type": "stream",
     "text": [
      "\r",
      "Processing batches:  88%|████████████████████████████████████████████████████████████████████████████████████▌           | 517/587 [04:16<00:37,  1.87it/s]"
     ]
    },
    {
     "name": "stderr",
     "output_type": "stream",
     "text": [
      "\r",
      "Processing batches:  88%|████████████████████████████████████████████████████████████████████████████████████▋           | 518/587 [04:16<00:37,  1.84it/s]"
     ]
    },
    {
     "name": "stderr",
     "output_type": "stream",
     "text": [
      "\r",
      "Processing batches:  88%|████████████████████████████████████████████████████████████████████████████████████▉           | 519/587 [04:17<00:38,  1.79it/s]"
     ]
    },
    {
     "name": "stderr",
     "output_type": "stream",
     "text": [
      "\r",
      "Processing batches:  89%|█████████████████████████████████████████████████████████████████████████████████████           | 520/587 [04:17<00:39,  1.71it/s]"
     ]
    },
    {
     "name": "stderr",
     "output_type": "stream",
     "text": [
      "\r",
      "Processing batches:  89%|█████████████████████████████████████████████████████████████████████████████████████▏          | 521/587 [04:18<00:38,  1.72it/s]"
     ]
    },
    {
     "name": "stderr",
     "output_type": "stream",
     "text": [
      "\r",
      "Processing batches:  89%|█████████████████████████████████████████████████████████████████████████████████████▎          | 522/587 [04:18<00:36,  1.77it/s]"
     ]
    },
    {
     "name": "stderr",
     "output_type": "stream",
     "text": [
      "\r",
      "Processing batches:  89%|█████████████████████████████████████████████████████████████████████████████████████▌          | 523/587 [04:19<00:36,  1.75it/s]"
     ]
    },
    {
     "name": "stderr",
     "output_type": "stream",
     "text": [
      "\r",
      "Processing batches:  89%|█████████████████████████████████████████████████████████████████████████████████████▋          | 524/587 [04:20<00:35,  1.75it/s]"
     ]
    },
    {
     "name": "stderr",
     "output_type": "stream",
     "text": [
      "\r",
      "Processing batches:  89%|█████████████████████████████████████████████████████████████████████████████████████▊          | 525/587 [04:20<00:36,  1.69it/s]"
     ]
    },
    {
     "name": "stderr",
     "output_type": "stream",
     "text": [
      "\r",
      "Processing batches:  90%|██████████████████████████████████████████████████████████████████████████████████████          | 526/587 [04:21<00:35,  1.72it/s]"
     ]
    },
    {
     "name": "stderr",
     "output_type": "stream",
     "text": [
      "\r",
      "Processing batches:  90%|██████████████████████████████████████████████████████████████████████████████████████▏         | 527/587 [04:21<00:34,  1.74it/s]"
     ]
    },
    {
     "name": "stderr",
     "output_type": "stream",
     "text": [
      "\r",
      "Processing batches:  90%|██████████████████████████████████████████████████████████████████████████████████████▎         | 528/587 [04:22<00:36,  1.62it/s]"
     ]
    },
    {
     "name": "stderr",
     "output_type": "stream",
     "text": [
      "\r",
      "Processing batches:  90%|██████████████████████████████████████████████████████████████████████████████████████▌         | 529/587 [04:23<00:39,  1.48it/s]"
     ]
    },
    {
     "name": "stderr",
     "output_type": "stream",
     "text": [
      "\r",
      "Processing batches:  90%|██████████████████████████████████████████████████████████████████████████████████████▋         | 530/587 [04:24<00:44,  1.29it/s]"
     ]
    },
    {
     "name": "stderr",
     "output_type": "stream",
     "text": [
      "\r",
      "Processing batches:  90%|██████████████████████████████████████████████████████████████████████████████████████▊         | 531/587 [04:25<00:41,  1.33it/s]"
     ]
    },
    {
     "name": "stderr",
     "output_type": "stream",
     "text": [
      "\r",
      "Processing batches:  91%|███████████████████████████████████████████████████████████████████████████████████████         | 532/587 [04:25<00:41,  1.33it/s]"
     ]
    },
    {
     "name": "stderr",
     "output_type": "stream",
     "text": [
      "\r",
      "Processing batches:  91%|███████████████████████████████████████████████████████████████████████████████████████▏        | 533/587 [04:26<00:39,  1.36it/s]"
     ]
    },
    {
     "name": "stderr",
     "output_type": "stream",
     "text": [
      "\r",
      "Processing batches:  91%|███████████████████████████████████████████████████████████████████████████████████████▎        | 534/587 [04:27<00:38,  1.39it/s]"
     ]
    },
    {
     "name": "stderr",
     "output_type": "stream",
     "text": [
      "\r",
      "Processing batches:  91%|███████████████████████████████████████████████████████████████████████████████████████▍        | 535/587 [04:27<00:34,  1.50it/s]"
     ]
    },
    {
     "name": "stderr",
     "output_type": "stream",
     "text": [
      "\r",
      "Processing batches:  91%|███████████████████████████████████████████████████████████████████████████████████████▋        | 536/587 [04:28<00:31,  1.62it/s]"
     ]
    },
    {
     "name": "stderr",
     "output_type": "stream",
     "text": [
      "\r",
      "Processing batches:  91%|███████████████████████████████████████████████████████████████████████████████████████▊        | 537/587 [04:28<00:29,  1.67it/s]"
     ]
    },
    {
     "name": "stderr",
     "output_type": "stream",
     "text": [
      "\r",
      "Processing batches:  92%|███████████████████████████████████████████████████████████████████████████████████████▉        | 538/587 [04:29<00:27,  1.75it/s]"
     ]
    },
    {
     "name": "stderr",
     "output_type": "stream",
     "text": [
      "\r",
      "Processing batches:  92%|████████████████████████████████████████████████████████████████████████████████████████▏       | 539/587 [04:29<00:26,  1.83it/s]"
     ]
    },
    {
     "name": "stderr",
     "output_type": "stream",
     "text": [
      "\r",
      "Processing batches:  92%|████████████████████████████████████████████████████████████████████████████████████████▎       | 540/587 [04:30<00:24,  1.90it/s]"
     ]
    },
    {
     "name": "stderr",
     "output_type": "stream",
     "text": [
      "\r",
      "Processing batches:  92%|████████████████████████████████████████████████████████████████████████████████████████▍       | 541/587 [04:30<00:25,  1.83it/s]"
     ]
    },
    {
     "name": "stderr",
     "output_type": "stream",
     "text": [
      "\r",
      "Processing batches:  92%|████████████████████████████████████████████████████████████████████████████████████████▋       | 542/587 [04:31<00:24,  1.82it/s]"
     ]
    },
    {
     "name": "stderr",
     "output_type": "stream",
     "text": [
      "\r",
      "Processing batches:  93%|████████████████████████████████████████████████████████████████████████████████████████▊       | 543/587 [04:31<00:23,  1.88it/s]"
     ]
    },
    {
     "name": "stderr",
     "output_type": "stream",
     "text": [
      "\r",
      "Processing batches:  93%|████████████████████████████████████████████████████████████████████████████████████████▉       | 544/587 [04:32<00:22,  1.90it/s]"
     ]
    },
    {
     "name": "stderr",
     "output_type": "stream",
     "text": [
      "\r",
      "Processing batches:  93%|█████████████████████████████████████████████████████████████████████████████████████████▏      | 545/587 [04:32<00:22,  1.91it/s]"
     ]
    },
    {
     "name": "stderr",
     "output_type": "stream",
     "text": [
      "\r",
      "Processing batches:  93%|█████████████████████████████████████████████████████████████████████████████████████████▎      | 546/587 [04:33<00:20,  1.96it/s]"
     ]
    },
    {
     "name": "stderr",
     "output_type": "stream",
     "text": [
      "\r",
      "Processing batches:  93%|█████████████████████████████████████████████████████████████████████████████████████████▍      | 547/587 [04:33<00:20,  1.91it/s]"
     ]
    },
    {
     "name": "stderr",
     "output_type": "stream",
     "text": [
      "\r",
      "Processing batches:  93%|█████████████████████████████████████████████████████████████████████████████████████████▌      | 548/587 [04:34<00:19,  1.97it/s]"
     ]
    },
    {
     "name": "stderr",
     "output_type": "stream",
     "text": [
      "\r",
      "Processing batches:  94%|█████████████████████████████████████████████████████████████████████████████████████████▊      | 549/587 [04:35<00:19,  1.91it/s]"
     ]
    },
    {
     "name": "stderr",
     "output_type": "stream",
     "text": [
      "\r",
      "Processing batches:  94%|█████████████████████████████████████████████████████████████████████████████████████████▉      | 550/587 [04:35<00:19,  1.89it/s]"
     ]
    },
    {
     "name": "stderr",
     "output_type": "stream",
     "text": [
      "\r",
      "Processing batches:  94%|██████████████████████████████████████████████████████████████████████████████████████████      | 551/587 [04:36<00:19,  1.89it/s]"
     ]
    },
    {
     "name": "stderr",
     "output_type": "stream",
     "text": [
      "\r",
      "Processing batches:  94%|██████████████████████████████████████████████████████████████████████████████████████████▎     | 552/587 [04:36<00:18,  1.91it/s]"
     ]
    },
    {
     "name": "stderr",
     "output_type": "stream",
     "text": [
      "\r",
      "Processing batches:  94%|██████████████████████████████████████████████████████████████████████████████████████████▍     | 553/587 [04:37<00:18,  1.82it/s]"
     ]
    },
    {
     "name": "stderr",
     "output_type": "stream",
     "text": [
      "\r",
      "Processing batches:  94%|██████████████████████████████████████████████████████████████████████████████████████████▌     | 554/587 [04:38<00:22,  1.44it/s]"
     ]
    },
    {
     "name": "stderr",
     "output_type": "stream",
     "text": [
      "\r",
      "Processing batches:  95%|██████████████████████████████████████████████████████████████████████████████████████████▊     | 555/587 [04:39<00:24,  1.29it/s]"
     ]
    },
    {
     "name": "stderr",
     "output_type": "stream",
     "text": [
      "\r",
      "Processing batches:  95%|██████████████████████████████████████████████████████████████████████████████████████████▉     | 556/587 [04:40<00:25,  1.20it/s]"
     ]
    },
    {
     "name": "stderr",
     "output_type": "stream",
     "text": [
      "\r",
      "Processing batches:  95%|███████████████████████████████████████████████████████████████████████████████████████████     | 557/587 [04:41<00:27,  1.10it/s]"
     ]
    },
    {
     "name": "stderr",
     "output_type": "stream",
     "text": [
      "\r",
      "Processing batches:  95%|███████████████████████████████████████████████████████████████████████████████████████████▎    | 558/587 [04:42<00:26,  1.08it/s]"
     ]
    },
    {
     "name": "stderr",
     "output_type": "stream",
     "text": [
      "\r",
      "Processing batches:  95%|███████████████████████████████████████████████████████████████████████████████████████████▍    | 559/587 [04:43<00:25,  1.08it/s]"
     ]
    },
    {
     "name": "stderr",
     "output_type": "stream",
     "text": [
      "\r",
      "Processing batches:  95%|███████████████████████████████████████████████████████████████████████████████████████████▌    | 560/587 [04:44<00:25,  1.06it/s]"
     ]
    },
    {
     "name": "stderr",
     "output_type": "stream",
     "text": [
      "\r",
      "Processing batches:  96%|███████████████████████████████████████████████████████████████████████████████████████████▋    | 561/587 [04:45<00:25,  1.04it/s]"
     ]
    },
    {
     "name": "stderr",
     "output_type": "stream",
     "text": [
      "\r",
      "Processing batches:  96%|███████████████████████████████████████████████████████████████████████████████████████████▉    | 562/587 [04:46<00:23,  1.06it/s]"
     ]
    },
    {
     "name": "stderr",
     "output_type": "stream",
     "text": [
      "\r",
      "Processing batches:  96%|████████████████████████████████████████████████████████████████████████████████████████████    | 563/587 [04:47<00:23,  1.02it/s]"
     ]
    },
    {
     "name": "stderr",
     "output_type": "stream",
     "text": [
      "\r",
      "Processing batches:  96%|████████████████████████████████████████████████████████████████████████████████████████████▏   | 564/587 [04:48<00:22,  1.01it/s]"
     ]
    },
    {
     "name": "stderr",
     "output_type": "stream",
     "text": [
      "\r",
      "Processing batches:  96%|████████████████████████████████████████████████████████████████████████████████████████████▍   | 565/587 [04:49<00:21,  1.00it/s]"
     ]
    },
    {
     "name": "stderr",
     "output_type": "stream",
     "text": [
      "\r",
      "Processing batches:  96%|████████████████████████████████████████████████████████████████████████████████████████████▌   | 566/587 [04:50<00:20,  1.02it/s]"
     ]
    },
    {
     "name": "stderr",
     "output_type": "stream",
     "text": [
      "\r",
      "Processing batches:  97%|████████████████████████████████████████████████████████████████████████████████████████████▋   | 567/587 [04:51<00:20,  1.01s/it]"
     ]
    },
    {
     "name": "stderr",
     "output_type": "stream",
     "text": [
      "\r",
      "Processing batches:  97%|████████████████████████████████████████████████████████████████████████████████████████████▉   | 568/587 [04:52<00:18,  1.01it/s]"
     ]
    },
    {
     "name": "stderr",
     "output_type": "stream",
     "text": [
      "\r",
      "Processing batches:  97%|█████████████████████████████████████████████████████████████████████████████████████████████   | 569/587 [04:53<00:17,  1.01it/s]"
     ]
    },
    {
     "name": "stderr",
     "output_type": "stream",
     "text": [
      "\r",
      "Processing batches:  97%|█████████████████████████████████████████████████████████████████████████████████████████████▏  | 570/587 [04:54<00:16,  1.01it/s]"
     ]
    },
    {
     "name": "stderr",
     "output_type": "stream",
     "text": [
      "\r",
      "Processing batches:  97%|█████████████████████████████████████████████████████████████████████████████████████████████▍  | 571/587 [04:54<00:15,  1.06it/s]"
     ]
    },
    {
     "name": "stderr",
     "output_type": "stream",
     "text": [
      "\r",
      "Processing batches:  97%|█████████████████████████████████████████████████████████████████████████████████████████████▌  | 572/587 [04:55<00:13,  1.09it/s]"
     ]
    },
    {
     "name": "stderr",
     "output_type": "stream",
     "text": [
      "\r",
      "Processing batches:  98%|█████████████████████████████████████████████████████████████████████████████████████████████▋  | 573/587 [04:56<00:12,  1.11it/s]"
     ]
    },
    {
     "name": "stderr",
     "output_type": "stream",
     "text": [
      "\r",
      "Processing batches:  98%|█████████████████████████████████████████████████████████████████████████████████████████████▊  | 574/587 [04:57<00:11,  1.14it/s]"
     ]
    },
    {
     "name": "stderr",
     "output_type": "stream",
     "text": [
      "\r",
      "Processing batches:  98%|██████████████████████████████████████████████████████████████████████████████████████████████  | 575/587 [04:58<00:10,  1.15it/s]"
     ]
    },
    {
     "name": "stderr",
     "output_type": "stream",
     "text": [
      "\r",
      "Processing batches:  98%|██████████████████████████████████████████████████████████████████████████████████████████████▏ | 576/587 [04:59<00:09,  1.14it/s]"
     ]
    },
    {
     "name": "stderr",
     "output_type": "stream",
     "text": [
      "\r",
      "Processing batches:  98%|██████████████████████████████████████████████████████████████████████████████████████████████▎ | 577/587 [05:00<00:08,  1.16it/s]"
     ]
    },
    {
     "name": "stderr",
     "output_type": "stream",
     "text": [
      "\r",
      "Processing batches:  98%|██████████████████████████████████████████████████████████████████████████████████████████████▌ | 578/587 [05:00<00:07,  1.19it/s]"
     ]
    },
    {
     "name": "stderr",
     "output_type": "stream",
     "text": [
      "\r",
      "Processing batches:  99%|██████████████████████████████████████████████████████████████████████████████████████████████▋ | 579/587 [05:01<00:06,  1.24it/s]"
     ]
    },
    {
     "name": "stderr",
     "output_type": "stream",
     "text": [
      "\r",
      "Processing batches:  99%|██████████████████████████████████████████████████████████████████████████████████████████████▊ | 580/587 [05:02<00:05,  1.20it/s]"
     ]
    },
    {
     "name": "stderr",
     "output_type": "stream",
     "text": [
      "\r",
      "Processing batches:  99%|███████████████████████████████████████████████████████████████████████████████████████████████ | 581/587 [05:03<00:05,  1.04it/s]"
     ]
    },
    {
     "name": "stderr",
     "output_type": "stream",
     "text": [
      "\r",
      "Processing batches:  99%|███████████████████████████████████████████████████████████████████████████████████████████████▏| 582/587 [05:04<00:04,  1.08it/s]"
     ]
    },
    {
     "name": "stderr",
     "output_type": "stream",
     "text": [
      "\r",
      "Processing batches:  99%|███████████████████████████████████████████████████████████████████████████████████████████████▎| 583/587 [05:05<00:03,  1.10it/s]"
     ]
    },
    {
     "name": "stderr",
     "output_type": "stream",
     "text": [
      "\r",
      "Processing batches:  99%|███████████████████████████████████████████████████████████████████████████████████████████████▌| 584/587 [05:06<00:02,  1.10it/s]"
     ]
    },
    {
     "name": "stderr",
     "output_type": "stream",
     "text": [
      "\r",
      "Processing batches: 100%|███████████████████████████████████████████████████████████████████████████████████████████████▋| 585/587 [05:07<00:01,  1.06it/s]"
     ]
    },
    {
     "name": "stderr",
     "output_type": "stream",
     "text": [
      "\r",
      "Processing batches: 100%|███████████████████████████████████████████████████████████████████████████████████████████████▊| 586/587 [05:08<00:00,  1.14it/s]"
     ]
    },
    {
     "name": "stderr",
     "output_type": "stream",
     "text": [
      "\r",
      "Processing batches: 100%|████████████████████████████████████████████████████████████████████████████████████████████████| 587/587 [05:08<00:00,  1.46it/s]"
     ]
    },
    {
     "name": "stderr",
     "output_type": "stream",
     "text": [
      "\r",
      "Processing batches: 100%|████████████████████████████████████████████████████████████████████████████████████████████████| 587/587 [05:08<00:00,  1.90it/s]"
     ]
    },
    {
     "name": "stdout",
     "output_type": "stream",
     "text": [
      "\n",
      "✅ Traitement NLP terminé!\n"
     ]
    },
    {
     "name": "stderr",
     "output_type": "stream",
     "text": [
      "\n"
     ]
    }
   ],
   "source": [
    "# Ajouter colonnes pour les annotations NLP\n",
    "df_sample['is_dialogue'] = False\n",
    "df_sample['speaker'] = None\n",
    "df_sample['entities_persons'] = None\n",
    "df_sample['entities_locations'] = None\n",
    "df_sample['word_count'] = 0\n",
    "\n",
    "# Traitement par batch pour efficacité\n",
    "batch_size = 100\n",
    "\n",
    "for i in tqdm(range(0, len(df_sample), batch_size), desc=\"Processing batches\"):\n",
    "    batch = df_sample.iloc[i:i+batch_size]\n",
    "    \n",
    "    for idx, row in batch.iterrows():\n",
    "        text = row['text']\n",
    "        \n",
    "        # Détection dialogue et locuteur\n",
    "        df_sample.at[idx, 'is_dialogue'] = is_dialogue(text)\n",
    "        df_sample.at[idx, 'speaker'] = detect_speaker(text)\n",
    "        \n",
    "        # Extraction d'entités (plus lent, on peut optimiser)\n",
    "        try:\n",
    "            entities = extract_entities(text, nlp)\n",
    "            df_sample.at[idx, 'entities_persons'] = ','.join(entities['persons']) if entities['persons'] else None\n",
    "            df_sample.at[idx, 'entities_locations'] = ','.join(entities['locations']) if entities['locations'] else None\n",
    "        except:\n",
    "            pass  # En cas d'erreur, on continue\n",
    "        \n",
    "        # Compte de mots\n",
    "        df_sample.at[idx, 'word_count'] = len(text.split())\n",
    "\n",
    "print(\"\\n✅ Traitement NLP terminé!\")"
   ]
  },
  {
   "cell_type": "code",
   "execution_count": 9,
   "metadata": {
    "execution": {
     "iopub.execute_input": "2025-10-16T14:36:23.385708Z",
     "iopub.status.busy": "2025-10-16T14:36:23.385708Z",
     "iopub.status.idle": "2025-10-16T14:36:23.391714Z",
     "shell.execute_reply": "2025-10-16T14:36:23.391714Z"
    }
   },
   "outputs": [
    {
     "name": "stdout",
     "output_type": "stream",
     "text": [
      "\n",
      "📊 Statistiques du traitement:\n",
      "  Phrases avec dialogue: 18,542\n",
      "  Phrases avec locuteur identifié: 7,159\n",
      "  Phrases avec entités personnages: 27,892\n",
      "\n",
      "🗣️  Top 10 locuteurs:\n",
      "speaker\n",
      "Harry         1979\n",
      "Ron           1091\n",
      "Hermione       843\n",
      "Dumbledore     408\n",
      "Hagrid         264\n",
      "Mr             187\n",
      "Fred           168\n",
      "Rogue          163\n",
      "Lupin          144\n",
      "Mrs            126\n",
      "Name: count, dtype: int64\n"
     ]
    }
   ],
   "source": [
    "# Statistiques\n",
    "print(\"\\n📊 Statistiques du traitement:\")\n",
    "print(f\"  Phrases avec dialogue: {df_sample['is_dialogue'].sum():,}\")\n",
    "print(f\"  Phrases avec locuteur identifié: {df_sample['speaker'].notna().sum():,}\")\n",
    "print(f\"  Phrases avec entités personnages: {df_sample['entities_persons'].notna().sum():,}\")\n",
    "\n",
    "print(\"\\n🗣️  Top 10 locuteurs:\")\n",
    "speaker_counts = df_sample['speaker'].value_counts().head(10)\n",
    "print(speaker_counts)"
   ]
  },
  {
   "cell_type": "markdown",
   "metadata": {},
   "source": [
    "## 5. Créer l'index d'entités"
   ]
  },
  {
   "cell_type": "code",
   "execution_count": 10,
   "metadata": {
    "execution": {
     "iopub.execute_input": "2025-10-16T14:36:23.392720Z",
     "iopub.status.busy": "2025-10-16T14:36:23.392720Z",
     "iopub.status.idle": "2025-10-16T14:36:24.552082Z",
     "shell.execute_reply": "2025-10-16T14:36:24.551476Z"
    }
   },
   "outputs": [
    {
     "name": "stdout",
     "output_type": "stream",
     "text": [
      "\n",
      "📇 Index d'entités créé: 47,311 mentions\n",
      "\n",
      "👥 Personnages les plus mentionnés:\n",
      "entity_name\n",
      "Ron           7856\n",
      "Hermione      5301\n",
      "Dumbledore    3321\n",
      "Hagrid        1851\n",
      "Harry         1645\n",
      "Voldemort     1154\n",
      "Malefoy       1049\n",
      "Fred           847\n",
      "Lupin          730\n",
      "George         698\n",
      "Name: count, dtype: int64\n"
     ]
    }
   ],
   "source": [
    "# Créer un index des mentions de personnages\n",
    "entity_mentions = []\n",
    "\n",
    "for idx, row in df_sample.iterrows():\n",
    "    if pd.notna(row['entities_persons']):\n",
    "        persons = row['entities_persons'].split(',')\n",
    "        for person in persons:\n",
    "            entity_mentions.append({\n",
    "                'entity_name': person.strip(),\n",
    "                'book_number': row['book_number'],\n",
    "                'book_title': row['book_title'],\n",
    "                'sentence_id': row['sentence_id'],\n",
    "                'context': row['text'][:200]  # Premiers 200 chars\n",
    "            })\n",
    "\n",
    "df_entities = pd.DataFrame(entity_mentions)\n",
    "\n",
    "print(f\"\\n📇 Index d'entités créé: {len(df_entities):,} mentions\")\n",
    "print(f\"\\n👥 Personnages les plus mentionnés:\")\n",
    "print(df_entities['entity_name'].value_counts().head(10))"
   ]
  },
  {
   "cell_type": "markdown",
   "metadata": {},
   "source": [
    "## 6. Export des données"
   ]
  },
  {
   "cell_type": "code",
   "execution_count": 11,
   "metadata": {
    "execution": {
     "iopub.execute_input": "2025-10-16T14:36:24.552082Z",
     "iopub.status.busy": "2025-10-16T14:36:24.552082Z",
     "iopub.status.idle": "2025-10-16T14:36:24.663613Z",
     "shell.execute_reply": "2025-10-16T14:36:24.663613Z"
    }
   },
   "outputs": [
    {
     "name": "stdout",
     "output_type": "stream",
     "text": [
      "✅ Corpus NLP exporté: C:\\Users\\julie\\src\\School\\Workshop\\workshop-poudlard-epsi\\projects\\22-proces-jk-rowling\\hp_nlp\\data\\nlp_processed.parquet\n",
      "   Taille: 4.98 MB\n",
      "\n",
      "✅ Index d'entités exporté: C:\\Users\\julie\\src\\School\\Workshop\\workshop-poudlard-epsi\\projects\\22-proces-jk-rowling\\hp_nlp\\data\\entities_index.parquet\n",
      "   Taille: 2.84 MB\n"
     ]
    }
   ],
   "source": [
    "# Exporter le corpus avec annotations NLP\n",
    "output_path = DATA_DIR / 'nlp_processed.parquet'\n",
    "df_sample.to_parquet(output_path, index=False)\n",
    "print(f\"✅ Corpus NLP exporté: {output_path}\")\n",
    "print(f\"   Taille: {output_path.stat().st_size / 1024 / 1024:.2f} MB\")\n",
    "\n",
    "# Exporter l'index d'entités\n",
    "entities_path = DATA_DIR / 'entities_index.parquet'\n",
    "df_entities.to_parquet(entities_path, index=False)\n",
    "print(f\"\\n✅ Index d'entités exporté: {entities_path}\")\n",
    "print(f\"   Taille: {entities_path.stat().st_size / 1024 / 1024:.2f} MB\")"
   ]
  },
  {
   "cell_type": "code",
   "execution_count": 12,
   "metadata": {
    "execution": {
     "iopub.execute_input": "2025-10-16T14:36:24.665189Z",
     "iopub.status.busy": "2025-10-16T14:36:24.665189Z",
     "iopub.status.idle": "2025-10-16T14:36:24.673807Z",
     "shell.execute_reply": "2025-10-16T14:36:24.673807Z"
    }
   },
   "outputs": [
    {
     "name": "stdout",
     "output_type": "stream",
     "text": [
      "\n",
      "📊 Aperçu du corpus NLP:\n",
      "             book_title  is_dialogue speaker entities_persons  \\\n",
      "0  L'École des Sorciers        False    None             J.K.   \n",
      "1  L'École des Sorciers        False    None          Rowling   \n",
      "2  L'École des Sorciers        False    None             None   \n",
      "3  L'École des Sorciers        False    None             None   \n",
      "4  L'École des Sorciers        False    None            Harry   \n",
      "5  L'École des Sorciers        False    None             None   \n",
      "6  L'École des Sorciers         True    None             None   \n",
      "7  L'École des Sorciers        False    None             None   \n",
      "8  L'École des Sorciers        False    None             None   \n",
      "9  L'École des Sorciers        False    None             None   \n",
      "\n",
      "                                                text  \n",
      "0                                    L'auteure\\nJ.K.  \n",
      "1  Rowling\\test\\tnée\\ten\\t1967\\tet\\ta\\tpassé\\tson...  \n",
      "2  Elle\\ta\\tsuivi\\tdes\\tétudes\\tà\\tl'université\\t...  \n",
      "3  Elle\\ta\\tensuite\\ttravaillé\\tquelque\\ttemps\\tà...  \n",
      "4  C'est\\ten\\t1990\\tque\\tl'idée\\tde\\tHarry\\tPotte...  \n",
      "5  Elle\\tne\\tpossédait\\texceptionnellement\\tni\\np...  \n",
      "6  Malheureusement,\\tpeu\\tde\\ntemps\\taprès,\\tsa\\t...  \n",
      "7  Elle\\tsavait\\tque\\tj'écrivais\\tje\\tne\\tlui\\tav...  \n",
      "8  Vous\\tne\\tpouvez\\tpas\\nimaginer\\tcombien\\tje\\t...  \n",
      "9  Il\\ty\\ta\\tun\\tchapitre\\tdans\\tle\\tlivre\\toù\\tH...  \n"
     ]
    }
   ],
   "source": [
    "# Aperçu des données\n",
    "print(\"\\n📊 Aperçu du corpus NLP:\")\n",
    "print(df_sample[['book_title', 'is_dialogue', 'speaker', 'entities_persons', 'text']].head(10))"
   ]
  },
  {
   "cell_type": "markdown",
   "metadata": {},
   "source": [
    "## ✅ Résumé\n",
    "\n",
    "Ce notebook a:\n",
    "1. ✅ Chargé et configuré le modèle spaCy français\n",
    "2. ✅ Appliqué NER pour extraire les personnages et lieux\n",
    "3. ✅ Détecté les dialogues et attribué les locuteurs\n",
    "4. ✅ Créé un index d'entités\n",
    "5. ✅ Exporté les données annotées\n",
    "\n",
    "**Notes:**\n",
    "- Pour le corpus complet, retirer la limite SAMPLE_SIZE\n",
    "- Le taux d'attribution de locuteur est d'environ 70-80% sur les dialogues détectés\n",
    "- Les entités sont normalisées vers les personnages principaux quand possible\n",
    "\n",
    "**Prochaine étape**: Notebook 03 - Extraction d'événements spécifiques avec classifieurs neuronaux"
   ]
  }
 ],
 "metadata": {
  "kernelspec": {
   "display_name": "Python 3",
   "language": "python",
   "name": "python3"
  },
  "language_info": {
   "codemirror_mode": {
    "name": "ipython",
    "version": 3
   },
   "file_extension": ".py",
   "mimetype": "text/x-python",
   "name": "python",
   "nbconvert_exporter": "python",
   "pygments_lexer": "ipython3",
   "version": "3.11.9"
  }
 },
 "nbformat": 4,
 "nbformat_minor": 4
}
