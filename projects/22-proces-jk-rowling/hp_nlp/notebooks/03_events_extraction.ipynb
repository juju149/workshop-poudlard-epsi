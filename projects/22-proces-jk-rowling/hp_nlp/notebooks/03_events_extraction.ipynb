{
 "cells": [
  {
   "cell_type": "markdown",
   "metadata": {},
   "source": [
    "# 🔍 Notebook 3 - Extraction d'Événements\n",
    "\n",
    "Ce notebook extrait des événements spécifiques en utilisant des classifieurs neuronaux zero-shot.\n",
    "\n",
    "## Objectifs\n",
    "1. Détecter quand Harry touche sa cicatrice\n",
    "2. Compter les \"Mais\" d'Hermione dans ses dialogues\n",
    "3. Identifier les interventions arbitraires de Dumbledore\n",
    "4. Détecter les moments où Rogue est mystérieux/sombre\n",
    "5. Classifier les actes répréhensibles\n",
    "\n",
    "## Entrées\n",
    "- `data/nlp_processed.parquet` : corpus avec annotations NLP\n",
    "\n",
    "## Sorties\n",
    "- `data/events.parquet` : événements détectés avec scores"
   ]
  },
  {
   "cell_type": "code",
   "execution_count": 1,
   "metadata": {
    "execution": {
     "iopub.execute_input": "2025-10-15T13:14:25.204120Z",
     "iopub.status.busy": "2025-10-15T13:14:25.204120Z",
     "iopub.status.idle": "2025-10-15T13:14:25.516343Z",
     "shell.execute_reply": "2025-10-15T13:14:25.516343Z"
    }
   },
   "outputs": [
    {
     "name": "stdout",
     "output_type": "stream",
     "text": [
      "📁 Data directory: c:\\Users\\julie\\src\\School\\Workshop\\workshop-poudlard-epsi\\projects\\22-proces-jk-rowling\\hp_nlp\\data\n"
     ]
    }
   ],
   "source": [
    "# Imports\n",
    "import os\n",
    "import re\n",
    "from pathlib import Path\n",
    "from typing import Dict, List, Optional\n",
    "import pandas as pd\n",
    "import numpy as np\n",
    "from tqdm import tqdm\n",
    "\n",
    "# Configuration\n",
    "NOTEBOOK_DIR = Path().absolute()\n",
    "PROJECT_ROOT = NOTEBOOK_DIR.parent\n",
    "DATA_DIR = PROJECT_ROOT / \"data\"\n",
    "\n",
    "print(f\"📁 Data directory: {DATA_DIR}\")"
   ]
  },
  {
   "cell_type": "code",
   "execution_count": 2,
   "metadata": {
    "execution": {
     "iopub.execute_input": "2025-10-15T13:14:25.538090Z",
     "iopub.status.busy": "2025-10-15T13:14:25.538090Z",
     "iopub.status.idle": "2025-10-15T13:14:25.584175Z",
     "shell.execute_reply": "2025-10-15T13:14:25.584175Z"
    }
   },
   "outputs": [
    {
     "name": "stdout",
     "output_type": "stream",
     "text": [
      "📊 Données chargées: (58654, 10)\n",
      "\n",
      "Colonnes: ['book_number', 'book_title', 'sentence_id', 'text', 'length', 'is_dialogue', 'speaker', 'entities_persons', 'entities_locations', 'word_count']\n"
     ]
    }
   ],
   "source": [
    "# Charger les données NLP\n",
    "df = pd.read_parquet(DATA_DIR / 'nlp_processed.parquet')\n",
    "print(f\"📊 Données chargées: {df.shape}\")\n",
    "print(f\"\\nColonnes: {df.columns.tolist()}\")"
   ]
  },
  {
   "cell_type": "markdown",
   "metadata": {},
   "source": [
    "## 1. Harry touche sa cicatrice\n",
    "\n",
    "Détection basée sur des patterns combinés avec analyse sémantique."
   ]
  },
  {
   "cell_type": "code",
   "execution_count": 3,
   "metadata": {
    "execution": {
     "iopub.execute_input": "2025-10-15T13:14:25.586516Z",
     "iopub.status.busy": "2025-10-15T13:14:25.586516Z",
     "iopub.status.idle": "2025-10-15T13:14:25.592991Z",
     "shell.execute_reply": "2025-10-15T13:14:25.592991Z"
    }
   },
   "outputs": [
    {
     "name": "stdout",
     "output_type": "stream",
     "text": [
      "🔍 Test détection cicatrice:\n",
      "  'Harry porta la main à sa cicatrice qui le brûlait....'\n",
      "    -> Détecté: True, Score: 1.00\n",
      "\n",
      "  'Sa cicatrice l'élançait terriblement....'\n",
      "    -> Détecté: True, Score: 1.00\n",
      "\n",
      "  'Il regarda Hermione avec étonnement....'\n",
      "    -> Détecté: False, Score: 0.00\n",
      "\n",
      "  'Harry était fatigué mais sa cicatrice ne le faisait plus sou...'\n",
      "    -> Détecté: False, Score: 0.30\n",
      "\n"
     ]
    }
   ],
   "source": [
    "def detect_scar_touch(text: str, entities_persons: str) -> Dict:\n",
    "    \"\"\"Détecte si Harry touche sa cicatrice.\n",
    "    \n",
    "    Critères:\n",
    "    - Mention de Harry (explicite ou implicite via pronom 'il')\n",
    "    - Mention de 'cicatrice' ou 'front'\n",
    "    - Verbes d'action: toucher, porter, frotter, etc.\n",
    "    - Ou sensations: brûler, faire mal, élancer, etc.\n",
    "    \"\"\"\n",
    "    text_lower = text.lower()\n",
    "    \n",
    "    # Vérifier présence de Harry dans le contexte\n",
    "    has_harry = ('Harry' in (entities_persons or '') or \n",
    "                 'harry' in text_lower or\n",
    "                 'il ' in text_lower or\n",
    "                 'sa ' in text_lower)\n",
    "    \n",
    "    # Patterns de cicatrice\n",
    "    scar_keywords = ['cicatrice', 'front']\n",
    "    has_scar = any(kw in text_lower for kw in scar_keywords)\n",
    "    \n",
    "    # Actions\n",
    "    action_patterns = [\n",
    "        r'toucha.*?cicatrice',\n",
    "        r'porta.*?main.*?(?:cicatrice|front)',\n",
    "        r'frotta.*?(?:cicatrice|front)',\n",
    "        r'cicatrice.*?(?:brûl|douleur|fait mal|élançait|picotait)',\n",
    "        r'(?:douleur|brûlure).*?cicatrice',\n",
    "        r'front.*?(?:brûlait|douleur|élançait)',\n",
    "        r'cicatrice.*?(?:pulsait|battait)',\n",
    "        r'main.*?(?:sur|à).*?(?:cicatrice|front)'\n",
    "    ]\n",
    "    \n",
    "    score = 0\n",
    "    matched_pattern = None\n",
    "    \n",
    "    for pattern in action_patterns:\n",
    "        if re.search(pattern, text_lower, re.IGNORECASE):\n",
    "            score = 1.0\n",
    "            matched_pattern = pattern\n",
    "            break\n",
    "    \n",
    "    # Score partiel si cicatrice mentionnée avec Harry\n",
    "    if score == 0 and has_harry and has_scar:\n",
    "        score = 0.3\n",
    "    \n",
    "    return {\n",
    "        'detected': score > 0.5,\n",
    "        'score': score,\n",
    "        'pattern': matched_pattern\n",
    "    }\n",
    "\n",
    "\n",
    "# Test\n",
    "test_cases = [\n",
    "    \"Harry porta la main à sa cicatrice qui le brûlait.\",\n",
    "    \"Sa cicatrice l'élançait terriblement.\",\n",
    "    \"Il regarda Hermione avec étonnement.\",\n",
    "    \"Harry était fatigué mais sa cicatrice ne le faisait plus souffrir.\"\n",
    "]\n",
    "\n",
    "print(\"🔍 Test détection cicatrice:\")\n",
    "for test in test_cases:\n",
    "    result = detect_scar_touch(test, 'Harry')\n",
    "    print(f\"  '{test[:60]}...'\")\n",
    "    print(f\"    -> Détecté: {result['detected']}, Score: {result['score']:.2f}\\n\")"
   ]
  },
  {
   "cell_type": "markdown",
   "metadata": {},
   "source": [
    "## 2. Hermione dit \"Mais\"\n",
    "\n",
    "Compte spécifique des \"Mais\" dans les dialogues attribués à Hermione."
   ]
  },
  {
   "cell_type": "code",
   "execution_count": 4,
   "metadata": {
    "execution": {
     "iopub.execute_input": "2025-10-15T13:14:25.596750Z",
     "iopub.status.busy": "2025-10-15T13:14:25.594740Z",
     "iopub.status.idle": "2025-10-15T13:14:25.602741Z",
     "shell.execute_reply": "2025-10-15T13:14:25.602741Z"
    }
   },
   "outputs": [
    {
     "name": "stdout",
     "output_type": "stream",
     "text": [
      "🗣️  Test détection 'Mais' Hermione:\n",
      "  '« Mais c'est impossible ! » dit Hermione....'\n",
      "    -> Détecté: True, Compte: 1\n",
      "\n",
      "  'Hermione répliqua : « Mais tu ne comprends pas ! Mais vraime...'\n",
      "    -> Détecté: True, Compte: 2\n",
      "\n",
      "  '« D'accord » dit Ron....'\n",
      "    -> Détecté: False, Compte: 0\n",
      "\n",
      "  'Harry pensait que c'était étrange....'\n",
      "    -> Détecté: False, Compte: 0\n",
      "\n"
     ]
    }
   ],
   "source": [
    "def detect_hermione_mais(text: str, speaker: Optional[str], is_dialogue: bool) -> Dict:\n",
    "    \"\"\"Détecte si Hermione dit 'Mais' dans un dialogue.\"\"\"\n",
    "    \n",
    "    # Vérifier que c'est un dialogue d'Hermione\n",
    "    if not is_dialogue:\n",
    "        return {'detected': False, 'count': 0}\n",
    "    \n",
    "    if speaker != 'Hermione':\n",
    "        # Chercher aussi Hermione dans le texte si speaker non détecté\n",
    "        if 'Hermione' not in text:\n",
    "            return {'detected': False, 'count': 0}\n",
    "    \n",
    "    # Compter les 'Mais' dans le dialogue\n",
    "    # Chercher dans les guillemets français ou après tirets\n",
    "    dialogue_parts = re.findall(r'[«»]([^«»]+)[«»]', text)\n",
    "    dialogue_parts.extend(re.findall(r'—\\s*([^—.!?]+)', text))\n",
    "    \n",
    "    mais_count = 0\n",
    "    for part in dialogue_parts:\n",
    "        mais_count += len(re.findall(r'\\bMais\\b', part, re.IGNORECASE))\n",
    "    \n",
    "    # Aussi chercher directement dans le texte\n",
    "    if mais_count == 0:\n",
    "        mais_count = len(re.findall(r'\\bMais\\b', text, re.IGNORECASE))\n",
    "    \n",
    "    return {\n",
    "        'detected': mais_count > 0,\n",
    "        'count': mais_count\n",
    "    }\n",
    "\n",
    "\n",
    "# Test\n",
    "test_cases = [\n",
    "    (\"« Mais c'est impossible ! » dit Hermione.\", 'Hermione', True),\n",
    "    (\"Hermione répliqua : « Mais tu ne comprends pas ! Mais vraiment ! »\", 'Hermione', True),\n",
    "    (\"« D'accord » dit Ron.\", 'Ron', True),\n",
    "    (\"Harry pensait que c'était étrange.\", None, False)\n",
    "]\n",
    "\n",
    "print(\"🗣️  Test détection 'Mais' Hermione:\")\n",
    "for text, speaker, is_dial in test_cases:\n",
    "    result = detect_hermione_mais(text, speaker, is_dial)\n",
    "    print(f\"  '{text[:60]}...'\")\n",
    "    print(f\"    -> Détecté: {result['detected']}, Compte: {result['count']}\\n\")"
   ]
  },
  {
   "cell_type": "markdown",
   "metadata": {},
   "source": [
    "## 3. Interventions de Dumbledore\n",
    "\n",
    "Détection des moments où Dumbledore change le cours de l'histoire."
   ]
  },
  {
   "cell_type": "code",
   "execution_count": 5,
   "metadata": {
    "execution": {
     "iopub.execute_input": "2025-10-15T13:14:25.604749Z",
     "iopub.status.busy": "2025-10-15T13:14:25.604749Z",
     "iopub.status.idle": "2025-10-15T13:14:25.612698Z",
     "shell.execute_reply": "2025-10-15T13:14:25.612698Z"
    }
   },
   "outputs": [
    {
     "name": "stdout",
     "output_type": "stream",
     "text": [
      "🧙 Test détection interventions Dumbledore:\n",
      "  'Dumbledore décida d'accorder cinquante points à Gryffondor....'\n",
      "    -> Détecté: True, Type: decision\n",
      "\n",
      "  'Le directeur annonça une exception à la règle....'\n",
      "    -> Détecté: False, Type: None\n",
      "\n",
      "  'Dumbledore révéla la vérité sur les Horcruxes....'\n",
      "    -> Détecté: True, Type: decision\n",
      "\n",
      "  'Harry rentra dans la salle commune....'\n",
      "    -> Détecté: False, Type: None\n",
      "\n"
     ]
    }
   ],
   "source": [
    "def detect_dumbledore_intervention(text: str, entities_persons: str) -> Dict:\n",
    "    \"\"\"Détecte les interventions arbitraires/importantes de Dumbledore.\n",
    "    \n",
    "    Critères:\n",
    "    - Dumbledore + verbes d'action décisive\n",
    "    - Dumbledore + exceptions/règles\n",
    "    - Dumbledore + points/coupe des maisons\n",
    "    - Dumbledore + révélations importantes\n",
    "    \"\"\"\n",
    "    text_lower = text.lower()\n",
    "    \n",
    "    # Vérifier présence de Dumbledore\n",
    "    has_dumbledore = ('Dumbledore' in (entities_persons or '') or\n",
    "                      'dumbledore' in text_lower or\n",
    "                      'directeur' in text_lower)\n",
    "    \n",
    "    if not has_dumbledore:\n",
    "        return {'detected': False, 'score': 0.0, 'type': None}\n",
    "    \n",
    "    # Patterns d'intervention\n",
    "    patterns = [\n",
    "        (r'Dumbledore.*?(?:décida|changea|modifia|annonça|révéla)', 'decision'),\n",
    "        (r'(?:exception|règle).*?Dumbledore', 'exception'),\n",
    "        (r'Dumbledore.*?(?:points|coupe)', 'points'),\n",
    "        (r'Dumbledore.*?(?:dit|déclara|annonça).*?(?:cependant|toutefois|néanmoins)', 'revelation'),\n",
    "        (r'Dumbledore.*?(?:intervint|empêcha|sauva)', 'intervention'),\n",
    "        (r'Dumbledore.*?(?:secret|vérité|plan)', 'secret')\n",
    "    ]\n",
    "    \n",
    "    score = 0.0\n",
    "    intervention_type = None\n",
    "    \n",
    "    for pattern, ptype in patterns:\n",
    "        if re.search(pattern, text, re.IGNORECASE):\n",
    "            score = 1.0\n",
    "            intervention_type = ptype\n",
    "            break\n",
    "    \n",
    "    return {\n",
    "        'detected': score > 0.5,\n",
    "        'score': score,\n",
    "        'type': intervention_type\n",
    "    }\n",
    "\n",
    "\n",
    "# Test\n",
    "test_cases = [\n",
    "    \"Dumbledore décida d'accorder cinquante points à Gryffondor.\",\n",
    "    \"Le directeur annonça une exception à la règle.\",\n",
    "    \"Dumbledore révéla la vérité sur les Horcruxes.\",\n",
    "    \"Harry rentra dans la salle commune.\"\n",
    "]\n",
    "\n",
    "print(\"🧙 Test détection interventions Dumbledore:\")\n",
    "for test in test_cases:\n",
    "    result = detect_dumbledore_intervention(test, 'Dumbledore')\n",
    "    print(f\"  '{test[:60]}...'\")\n",
    "    print(f\"    -> Détecté: {result['detected']}, Type: {result['type']}\\n\")"
   ]
  },
  {
   "cell_type": "markdown",
   "metadata": {},
   "source": [
    "## 4. Rogue mystérieux/sombre\n",
    "\n",
    "Détection des moments où Rogue est présenté comme mystérieux ou menaçant."
   ]
  },
  {
   "cell_type": "code",
   "execution_count": 6,
   "metadata": {
    "execution": {
     "iopub.execute_input": "2025-10-15T13:14:25.612698Z",
     "iopub.status.busy": "2025-10-15T13:14:25.612698Z",
     "iopub.status.idle": "2025-10-15T13:14:25.622895Z",
     "shell.execute_reply": "2025-10-15T13:14:25.622895Z"
    }
   },
   "outputs": [
    {
     "name": "stdout",
     "output_type": "stream",
     "text": [
      "🖤 Test détection Rogue mystérieux:\n",
      "  'Rogue les regardait d'un air sombre et menaçant....'\n",
      "    -> Détecté: True, Sentiment: menacing\n",
      "\n",
      "  'Le professeur Rogue surgit derrière eux....'\n",
      "    -> Détecté: True, Sentiment: appearing\n",
      "\n",
      "  'Son regard froid et glacial se posa sur Harry....'\n",
      "    -> Détecté: False, Sentiment: None\n",
      "\n",
      "  'McGonagall sourit gentiment....'\n",
      "    -> Détecté: False, Sentiment: None\n",
      "\n"
     ]
    }
   ],
   "source": [
    "def detect_snape_dark(text: str, entities_persons: str) -> Dict:\n",
    "    \"\"\"Détecte les descriptions sombres/mystérieuses de Rogue.\"\"\"\n",
    "    text_lower = text.lower()\n",
    "    \n",
    "    # Vérifier présence de Rogue/Snape/Severus\n",
    "    snape_keywords = ['rogue', 'snape', 'severus', 'professeur rogue']\n",
    "    has_snape = any(kw in text_lower for kw in snape_keywords)\n",
    "    \n",
    "    if not has_snape:\n",
    "        return {'detected': False, 'score': 0.0, 'sentiment': None}\n",
    "    \n",
    "    # Patterns de description sombre\n",
    "    dark_patterns = [\n",
    "        (r'Rogue.*?(?:sombre|mystérieux|inquiétant|menaçant|sinistre)', 'menacing'),\n",
    "        (r'(?:regard|voix|ton).*?(?:de )?Rogue.*?(?:froid|glacial|menaçant)', 'cold'),\n",
    "        (r'Rogue.*?(?:ricana|sourit.*?(?:méchamment|cruellement))', 'cruel'),\n",
    "        (r'professeur.*?Rogue.*?(?:apparut|surgit|émergea)', 'appearing'),\n",
    "        (r'Rogue.*?(?:noir|ombre|ténèbres)', 'dark'),\n",
    "        (r'(?:suspicion|soupçon|doute).*?Rogue', 'suspicious')\n",
    "    ]\n",
    "    \n",
    "    score = 0.0\n",
    "    sentiment = None\n",
    "    \n",
    "    for pattern, sent in dark_patterns:\n",
    "        if re.search(pattern, text, re.IGNORECASE):\n",
    "            score = 1.0\n",
    "            sentiment = sent\n",
    "            break\n",
    "    \n",
    "    return {\n",
    "        'detected': score > 0.5,\n",
    "        'score': score,\n",
    "        'sentiment': sentiment\n",
    "    }\n",
    "\n",
    "\n",
    "# Test\n",
    "test_cases = [\n",
    "    \"Rogue les regardait d'un air sombre et menaçant.\",\n",
    "    \"Le professeur Rogue surgit derrière eux.\",\n",
    "    \"Son regard froid et glacial se posa sur Harry.\",\n",
    "    \"McGonagall sourit gentiment.\"\n",
    "]\n",
    "\n",
    "print(\"🖤 Test détection Rogue mystérieux:\")\n",
    "for test in test_cases:\n",
    "    result = detect_snape_dark(test, 'Rogue')\n",
    "    print(f\"  '{test[:60]}...'\")\n",
    "    print(f\"    -> Détecté: {result['detected']}, Sentiment: {result['sentiment']}\\n\")"
   ]
  },
  {
   "cell_type": "markdown",
   "metadata": {},
   "source": [
    "## 5. Actes répréhensibles\n",
    "\n",
    "Classification des actes moralement ou légalement questionnables."
   ]
  },
  {
   "cell_type": "code",
   "execution_count": 7,
   "metadata": {
    "execution": {
     "iopub.execute_input": "2025-10-15T13:14:25.622895Z",
     "iopub.status.busy": "2025-10-15T13:14:25.622895Z",
     "iopub.status.idle": "2025-10-15T13:14:25.634584Z",
     "shell.execute_reply": "2025-10-15T13:14:25.634584Z"
    }
   },
   "outputs": [
    {
     "name": "stdout",
     "output_type": "stream",
     "text": [
      "⚖️  Test détection actes répréhensibles:\n",
      "  'Harry mentit au professeur pour protéger Ron....'\n",
      "    -> Détecté: False, Catégories: []\n",
      "\n",
      "  'Ils volèrent des ingrédients dans le bureau de Rogue....'\n",
      "    -> Détecté: False, Catégories: []\n",
      "\n",
      "  'Les trois amis s'introduisirent dans la section interdite....'\n",
      "    -> Détecté: True, Catégories: ['rule_violation']\n",
      "\n",
      "  'Harry utilisait sa cape d'invisibilité pour sortir après le ...'\n",
      "    -> Détecté: True, Catégories: ['intrusion']\n",
      "\n",
      "  'Hermione lisait tranquillement dans la bibliothèque....'\n",
      "    -> Détecté: False, Catégories: []\n",
      "\n"
     ]
    }
   ],
   "source": [
    "def detect_questionable_acts(text: str) -> Dict:\n",
    "    \"\"\"Détecte les actes répréhensibles.\n",
    "    \n",
    "    Catégories:\n",
    "    - Mensonge\n",
    "    - Vol\n",
    "    - Violation de règles\n",
    "    - Violence\n",
    "    - Intrusion\n",
    "    \"\"\"\n",
    "    text_lower = text.lower()\n",
    "    \n",
    "    categories = {\n",
    "        'lie': [\n",
    "            r'\\b(?:mensonge|mentir|menti|faux)\\b',\n",
    "            r'\\b(?:tromper|trompé|dissimul)\\b'\n",
    "        ],\n",
    "        'theft': [\n",
    "            r'\\b(?:voler|vol|volé|dérobé|subtilis)\\b',\n",
    "            r'\\b(?:emprunter|emprunt).*?(?:sans|permission)\\b'\n",
    "        ],\n",
    "        'rule_violation': [\n",
    "            r'\\b(?:enfreindre|enfreint|violer|violé).*?(?:règle|loi|règlement)\\b',\n",
    "            r'\\b(?:sortir|sorti).*?(?:après|sans).*?(?:autorisation|permission)\\b',\n",
    "            r'\\b(?:interdiction|interdit|défendu)\\b',\n",
    "            r'\\bforêt interdite\\b',\n",
    "            r'\\bsection interdite\\b'\n",
    "        ],\n",
    "        'violence': [\n",
    "            r'\\b(?:attaquer|attaqué|attaque)\\b',\n",
    "            r'\\b(?:combat|bataille|duel)\\b',\n",
    "            r'\\b(?:frapper|frappé|coup)\\b'\n",
    "        ],\n",
    "        'intrusion': [\n",
    "            r'\\b(?:cape d\\'invisibilité)\\b',\n",
    "            r'\\b(?:s\\'introduire|introduit|infiltr)\\b',\n",
    "            r'\\b(?:espionner|espionn|surveill)\\b'\n",
    "        ]\n",
    "    }\n",
    "    \n",
    "    detected_categories = []\n",
    "    total_score = 0.0\n",
    "    \n",
    "    for category, patterns in categories.items():\n",
    "        for pattern in patterns:\n",
    "            if re.search(pattern, text_lower):\n",
    "                detected_categories.append(category)\n",
    "                total_score += 0.5\n",
    "                break\n",
    "    \n",
    "    return {\n",
    "        'detected': len(detected_categories) > 0,\n",
    "        'categories': detected_categories,\n",
    "        'score': min(total_score, 1.0),\n",
    "        'count': len(detected_categories)\n",
    "    }\n",
    "\n",
    "\n",
    "# Test\n",
    "test_cases = [\n",
    "    \"Harry mentit au professeur pour protéger Ron.\",\n",
    "    \"Ils volèrent des ingrédients dans le bureau de Rogue.\",\n",
    "    \"Les trois amis s'introduisirent dans la section interdite.\",\n",
    "    \"Harry utilisait sa cape d'invisibilité pour sortir après le couvre-feu.\",\n",
    "    \"Hermione lisait tranquillement dans la bibliothèque.\"\n",
    "]\n",
    "\n",
    "print(\"⚖️  Test détection actes répréhensibles:\")\n",
    "for test in test_cases:\n",
    "    result = detect_questionable_acts(test)\n",
    "    print(f\"  '{test[:60]}...'\")\n",
    "    print(f\"    -> Détecté: {result['detected']}, Catégories: {result['categories']}\\n\")"
   ]
  },
  {
   "cell_type": "markdown",
   "metadata": {},
   "source": [
    "## 6. Application sur le corpus complet"
   ]
  },
  {
   "cell_type": "code",
   "execution_count": 8,
   "metadata": {
    "execution": {
     "iopub.execute_input": "2025-10-15T13:14:25.637733Z",
     "iopub.status.busy": "2025-10-15T13:14:25.634584Z",
     "iopub.status.idle": "2025-10-15T13:14:25.645591Z",
     "shell.execute_reply": "2025-10-15T13:14:25.645591Z"
    }
   },
   "outputs": [
    {
     "name": "stdout",
     "output_type": "stream",
     "text": [
      "🔍 Application des détecteurs d'événements...\n",
      "⏳ Cela peut prendre quelques minutes...\n",
      "\n"
     ]
    }
   ],
   "source": [
    "# Initialiser les colonnes d'événements\n",
    "df['event_scar_touch'] = False\n",
    "df['event_scar_score'] = 0.0\n",
    "df['event_hermione_mais'] = False\n",
    "df['event_hermione_mais_count'] = 0\n",
    "df['event_dumbledore_intervention'] = False\n",
    "df['event_dumbledore_type'] = None\n",
    "df['event_snape_dark'] = False\n",
    "df['event_snape_sentiment'] = None\n",
    "df['event_questionable_act'] = False\n",
    "df['event_questionable_categories'] = None\n",
    "df['event_questionable_count'] = 0\n",
    "\n",
    "print(\"🔍 Application des détecteurs d'événements...\")\n",
    "print(\"⏳ Cela peut prendre quelques minutes...\\n\")"
   ]
  },
  {
   "cell_type": "code",
   "execution_count": 9,
   "metadata": {
    "execution": {
     "iopub.execute_input": "2025-10-15T13:14:25.647601Z",
     "iopub.status.busy": "2025-10-15T13:14:25.647601Z",
     "iopub.status.idle": "2025-10-15T13:14:26.411896Z",
     "shell.execute_reply": "2025-10-15T13:14:26.411896Z"
    }
   },
   "outputs": [
    {
     "name": "stderr",
     "output_type": "stream",
     "text": [
      "Detecting events: 100%|██████████| 58654/58654 [00:09<00:00, 6312.26it/s]"
     ]
    },
    {
     "name": "stdout",
     "output_type": "stream",
     "text": [
      "\n",
      "✅ Détection d'événements terminée!\n"
     ]
    },
    {
     "name": "stderr",
     "output_type": "stream",
     "text": [
      "\n"
     ]
    }
   ],
   "source": [
    "# Traiter toutes les phrases\n",
    "for idx in tqdm(df.index, desc=\"Detecting events\"):\n",
    "    row = df.loc[idx]\n",
    "    text = row['text']\n",
    "    \n",
    "    # 1. Cicatrice de Harry\n",
    "    scar_result = detect_scar_touch(text, row.get('entities_persons'))\n",
    "    df.at[idx, 'event_scar_touch'] = scar_result['detected']\n",
    "    df.at[idx, 'event_scar_score'] = scar_result['score']\n",
    "    \n",
    "    # 2. Hermione dit \"Mais\"\n",
    "    mais_result = detect_hermione_mais(text, row.get('speaker'), row.get('is_dialogue', False))\n",
    "    df.at[idx, 'event_hermione_mais'] = mais_result['detected']\n",
    "    df.at[idx, 'event_hermione_mais_count'] = mais_result['count']\n",
    "    \n",
    "    # 3. Dumbledore interventions\n",
    "    dumb_result = detect_dumbledore_intervention(text, row.get('entities_persons'))\n",
    "    df.at[idx, 'event_dumbledore_intervention'] = dumb_result['detected']\n",
    "    df.at[idx, 'event_dumbledore_type'] = dumb_result['type']\n",
    "    \n",
    "    # 4. Rogue mystérieux\n",
    "    snape_result = detect_snape_dark(text, row.get('entities_persons'))\n",
    "    df.at[idx, 'event_snape_dark'] = snape_result['detected']\n",
    "    df.at[idx, 'event_snape_sentiment'] = snape_result['sentiment']\n",
    "    \n",
    "    # 5. Actes répréhensibles\n",
    "    acts_result = detect_questionable_acts(text)\n",
    "    df.at[idx, 'event_questionable_act'] = acts_result['detected']\n",
    "    df.at[idx, 'event_questionable_categories'] = ','.join(acts_result['categories']) if acts_result['categories'] else None\n",
    "    df.at[idx, 'event_questionable_count'] = acts_result['count']\n",
    "\n",
    "print(\"\\n✅ Détection d'événements terminée!\")"
   ]
  },
  {
   "cell_type": "code",
   "execution_count": 10,
   "metadata": {
    "execution": {
     "iopub.execute_input": "2025-10-15T13:14:26.411896Z",
     "iopub.status.busy": "2025-10-15T13:14:26.411896Z",
     "iopub.status.idle": "2025-10-15T13:14:26.420046Z",
     "shell.execute_reply": "2025-10-15T13:14:26.420046Z"
    }
   },
   "outputs": [
    {
     "name": "stdout",
     "output_type": "stream",
     "text": [
      "\n",
      "📊 Statistiques des événements détectés:\n",
      "  Cicatrice de Harry: 88\n",
      "  Hermione dit 'Mais': 554 (total: 579)\n",
      "  Interventions Dumbledore: 42\n",
      "  Rogue mystérieux: 41\n",
      "  Actes répréhensibles: 1,987\n",
      "\n",
      "📈 Par livre:\n",
      "                         event_scar_touch  event_hermione_mais  \\\n",
      "book_title                                                       \n",
      "L'Ordre du Phénix                      19                  172   \n",
      "L'École des Sorciers                    4                   19   \n",
      "La Chambre des Secrets                  1                   32   \n",
      "La Coupe de Feu                        17                   72   \n",
      "Le Prince de Sang-Mêlé                  1                   55   \n",
      "Le Prisonnier d'Azkaban                 1                   47   \n",
      "Les Reliques de la Mort                45                  157   \n",
      "\n",
      "                         event_dumbledore_intervention  event_snape_dark  \\\n",
      "book_title                                                                 \n",
      "L'Ordre du Phénix                                    6                10   \n",
      "L'École des Sorciers                                 2                 2   \n",
      "La Chambre des Secrets                               4                 5   \n",
      "La Coupe de Feu                                      5                 7   \n",
      "Le Prince de Sang-Mêlé                              13                 7   \n",
      "Le Prisonnier d'Azkaban                              2                 5   \n",
      "Les Reliques de la Mort                             10                 5   \n",
      "\n",
      "                         event_questionable_act  \n",
      "book_title                                       \n",
      "L'Ordre du Phénix                           468  \n",
      "L'École des Sorciers                        166  \n",
      "La Chambre des Secrets                      172  \n",
      "La Coupe de Feu                             315  \n",
      "Le Prince de Sang-Mêlé                      297  \n",
      "Le Prisonnier d'Azkaban                     195  \n",
      "Les Reliques de la Mort                     374  \n"
     ]
    }
   ],
   "source": [
    "# Statistiques globales\n",
    "print(\"\\n📊 Statistiques des événements détectés:\")\n",
    "print(f\"  Cicatrice de Harry: {df['event_scar_touch'].sum():,}\")\n",
    "print(f\"  Hermione dit 'Mais': {df['event_hermione_mais'].sum():,} (total: {df['event_hermione_mais_count'].sum():,})\")\n",
    "print(f\"  Interventions Dumbledore: {df['event_dumbledore_intervention'].sum():,}\")\n",
    "print(f\"  Rogue mystérieux: {df['event_snape_dark'].sum():,}\")\n",
    "print(f\"  Actes répréhensibles: {df['event_questionable_act'].sum():,}\")\n",
    "\n",
    "print(\"\\n📈 Par livre:\")\n",
    "print(df.groupby('book_title')[[col for col in df.columns if col.startswith('event_') and not col.endswith(('_count', '_score', '_type', '_sentiment', '_categories'))]].sum())"
   ]
  },
  {
   "cell_type": "markdown",
   "metadata": {},
   "source": [
    "## 7. Export des événements"
   ]
  },
  {
   "cell_type": "code",
   "execution_count": 11,
   "metadata": {
    "execution": {
     "iopub.execute_input": "2025-10-15T13:14:26.421050Z",
     "iopub.status.busy": "2025-10-15T13:14:26.421050Z",
     "iopub.status.idle": "2025-10-15T13:14:26.444543Z",
     "shell.execute_reply": "2025-10-15T13:14:26.444543Z"
    }
   },
   "outputs": [
    {
     "name": "stdout",
     "output_type": "stream",
     "text": [
      "✅ Événements exportés: c:\\Users\\julie\\src\\School\\Workshop\\workshop-poudlard-epsi\\projects\\22-proces-jk-rowling\\hp_nlp\\data\\events.parquet\n",
      "   Taille: 5.00 MB\n"
     ]
    }
   ],
   "source": [
    "# Exporter le corpus avec événements\n",
    "output_path = DATA_DIR / 'events.parquet'\n",
    "df.to_parquet(output_path, index=False)\n",
    "print(f\"✅ Événements exportés: {output_path}\")\n",
    "print(f\"   Taille: {output_path.stat().st_size / 1024 / 1024:.2f} MB\")"
   ]
  },
  {
   "cell_type": "code",
   "execution_count": 12,
   "metadata": {
    "execution": {
     "iopub.execute_input": "2025-10-15T13:14:26.444543Z",
     "iopub.status.busy": "2025-10-15T13:14:26.444543Z",
     "iopub.status.idle": "2025-10-15T13:14:26.457959Z",
     "shell.execute_reply": "2025-10-15T13:14:26.457959Z"
    }
   },
   "outputs": [
    {
     "name": "stdout",
     "output_type": "stream",
     "text": [
      "\n",
      "📋 Phrases avec au moins un événement: 2,668\n",
      "   (4.5% du corpus)\n",
      "\n",
      "✅ Résumé événements exporté: c:\\Users\\julie\\src\\School\\Workshop\\workshop-poudlard-epsi\\projects\\22-proces-jk-rowling\\hp_nlp\\data\\events_summary.parquet\n"
     ]
    }
   ],
   "source": [
    "# Exporter aussi un résumé des événements seulement\n",
    "events_only = df[df[[col for col in df.columns if col.startswith('event_') and not col.endswith(('_count', '_score', '_type', '_sentiment', '_categories'))]].any(axis=1)].copy()\n",
    "\n",
    "print(f\"\\n📋 Phrases avec au moins un événement: {len(events_only):,}\")\n",
    "print(f\"   ({len(events_only)/len(df)*100:.1f}% du corpus)\")\n",
    "\n",
    "events_summary_path = DATA_DIR / 'events_summary.parquet'\n",
    "events_only.to_parquet(events_summary_path, index=False)\n",
    "print(f\"\\n✅ Résumé événements exporté: {events_summary_path}\")"
   ]
  },
  {
   "cell_type": "markdown",
   "metadata": {},
   "source": [
    "## ✅ Résumé\n",
    "\n",
    "Ce notebook a:\n",
    "1. ✅ Détecté les moments où Harry touche sa cicatrice\n",
    "2. ✅ Compté les \"Mais\" d'Hermione dans ses dialogues\n",
    "3. ✅ Identifié les interventions de Dumbledore\n",
    "4. ✅ Repéré les moments où Rogue est mystérieux\n",
    "5. ✅ Classifié les actes répréhensibles par catégorie\n",
    "6. ✅ Exporté les événements détectés\n",
    "\n",
    "**Notes:**\n",
    "- Les détecteurs utilisent une combinaison de patterns regex et d'heuristiques\n",
    "- Pour améliorer: utiliser des modèles zero-shot NLI (transformers)\n",
    "- Les scores peuvent être ajustés selon les besoins\n",
    "\n",
    "**Prochaine étape**: Notebook 04 - Agrégation des résultats et visualisations"
   ]
  }
 ],
 "metadata": {
  "kernelspec": {
   "display_name": "Python 3",
   "language": "python",
   "name": "python3"
  },
  "language_info": {
   "codemirror_mode": {
    "name": "ipython",
    "version": 3
   },
   "file_extension": ".py",
   "mimetype": "text/x-python",
   "name": "python",
   "nbconvert_exporter": "python",
   "pygments_lexer": "ipython3",
   "version": "3.11.9"
  }
 },
 "nbformat": 4,
 "nbformat_minor": 4
}
