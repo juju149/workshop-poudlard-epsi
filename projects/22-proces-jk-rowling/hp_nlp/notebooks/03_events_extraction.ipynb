{
 "cells": [
  {
   "cell_type": "markdown",
   "metadata": {},
   "source": [
    "# 🔍 Notebook 3 - Extraction d'Événements\n",
    "\n",
    "Ce notebook extrait des événements spécifiques en utilisant des classifieurs neuronaux zero-shot.\n",
    "\n",
    "## Objectifs\n",
    "1. Détecter quand Harry touche sa cicatrice\n",
    "2. Compter les \"Mais\" d'Hermione dans ses dialogues\n",
    "3. Identifier les interventions arbitraires de Dumbledore\n",
    "4. Détecter les moments où Rogue est mystérieux/sombre\n",
    "5. Classifier les actes répréhensibles\n",
    "\n",
    "## Entrées\n",
    "- `data/nlp_processed.parquet` : corpus avec annotations NLP\n",
    "\n",
    "## Sorties\n",
    "- `data/events.parquet` : événements détectés avec scores"
   ]
  },
  {
   "cell_type": "code",
   "execution_count": 1,
   "metadata": {
    "execution": {
     "iopub.execute_input": "2025-10-16T14:36:29.087199Z",
     "iopub.status.busy": "2025-10-16T14:36:29.087199Z",
     "iopub.status.idle": "2025-10-16T14:36:30.863245Z",
     "shell.execute_reply": "2025-10-16T14:36:30.863245Z"
    }
   },
   "outputs": [
    {
     "name": "stdout",
     "output_type": "stream",
     "text": [
      "📁 Data directory: C:\\Users\\julie\\src\\School\\Workshop\\workshop-poudlard-epsi\\projects\\22-proces-jk-rowling\\hp_nlp\\data\n"
     ]
    }
   ],
   "source": [
    "# Imports\n",
    "import os\n",
    "import re\n",
    "from pathlib import Path\n",
    "from typing import Dict, List, Optional\n",
    "import pandas as pd\n",
    "import numpy as np\n",
    "from tqdm import tqdm\n",
    "\n",
    "# Configuration\n",
    "NOTEBOOK_DIR = Path().absolute()\n",
    "PROJECT_ROOT = NOTEBOOK_DIR.parent\n",
    "DATA_DIR = PROJECT_ROOT / \"data\"\n",
    "\n",
    "print(f\"📁 Data directory: {DATA_DIR}\")"
   ]
  },
  {
   "cell_type": "code",
   "execution_count": 2,
   "metadata": {
    "execution": {
     "iopub.execute_input": "2025-10-16T14:36:30.882270Z",
     "iopub.status.busy": "2025-10-16T14:36:30.882270Z",
     "iopub.status.idle": "2025-10-16T14:36:31.421492Z",
     "shell.execute_reply": "2025-10-16T14:36:31.420387Z"
    }
   },
   "outputs": [
    {
     "name": "stdout",
     "output_type": "stream",
     "text": [
      "📊 Données chargées: (58654, 10)\n",
      "\n",
      "Colonnes: ['book_number', 'book_title', 'sentence_id', 'text', 'length', 'is_dialogue', 'speaker', 'entities_persons', 'entities_locations', 'word_count']\n"
     ]
    }
   ],
   "source": [
    "# Charger les données NLP\n",
    "df = pd.read_parquet(DATA_DIR / 'nlp_processed.parquet')\n",
    "print(f\"📊 Données chargées: {df.shape}\")\n",
    "print(f\"\\nColonnes: {df.columns.tolist()}\")"
   ]
  },
  {
   "cell_type": "markdown",
   "metadata": {},
   "source": [
    "## 1. Harry touche sa cicatrice\n",
    "\n",
    "Détection basée sur des patterns combinés avec analyse sémantique."
   ]
  },
  {
   "cell_type": "code",
   "execution_count": 3,
   "metadata": {
    "execution": {
     "iopub.execute_input": "2025-10-16T14:36:31.422493Z",
     "iopub.status.busy": "2025-10-16T14:36:31.422493Z",
     "iopub.status.idle": "2025-10-16T14:36:31.428567Z",
     "shell.execute_reply": "2025-10-16T14:36:31.428567Z"
    }
   },
   "outputs": [
    {
     "name": "stdout",
     "output_type": "stream",
     "text": [
      "🔍 Test détection cicatrice:\n",
      "  'Harry porta la main à sa cicatrice qui le brûlait....'\n",
      "    -> Détecté: True, Score: 1.00\n",
      "\n",
      "  'Sa cicatrice l'élançait terriblement....'\n",
      "    -> Détecté: True, Score: 1.00\n",
      "\n",
      "  'Il regarda Hermione avec étonnement....'\n",
      "    -> Détecté: False, Score: 0.00\n",
      "\n",
      "  'Harry était fatigué mais sa cicatrice ne le faisait plus sou...'\n",
      "    -> Détecté: False, Score: 0.30\n",
      "\n"
     ]
    }
   ],
   "source": [
    "def detect_scar_touch(text: str, entities_persons: str) -> Dict:\n",
    "    \"\"\"Détecte si Harry touche sa cicatrice.\n",
    "    \n",
    "    Critères:\n",
    "    - Mention de Harry (explicite ou implicite via pronom 'il')\n",
    "    - Mention de 'cicatrice' ou 'front'\n",
    "    - Verbes d'action: toucher, porter, frotter, etc.\n",
    "    - Ou sensations: brûler, faire mal, élancer, etc.\n",
    "    \"\"\"\n",
    "    text_lower = text.lower()\n",
    "    \n",
    "    # Vérifier présence de Harry dans le contexte\n",
    "    has_harry = ('Harry' in (entities_persons or '') or \n",
    "                 'harry' in text_lower or\n",
    "                 'il ' in text_lower or\n",
    "                 'sa ' in text_lower)\n",
    "    \n",
    "    # Patterns de cicatrice\n",
    "    scar_keywords = ['cicatrice', 'front']\n",
    "    has_scar = any(kw in text_lower for kw in scar_keywords)\n",
    "    \n",
    "    # Actions\n",
    "    action_patterns = [\n",
    "        r'toucha.*?cicatrice',\n",
    "        r'porta.*?main.*?(?:cicatrice|front)',\n",
    "        r'frotta.*?(?:cicatrice|front)',\n",
    "        r'cicatrice.*?(?:brûl|douleur|fait mal|élançait|picotait)',\n",
    "        r'(?:douleur|brûlure).*?cicatrice',\n",
    "        r'front.*?(?:brûlait|douleur|élançait)',\n",
    "        r'cicatrice.*?(?:pulsait|battait)',\n",
    "        r'main.*?(?:sur|à).*?(?:cicatrice|front)'\n",
    "    ]\n",
    "    \n",
    "    score = 0\n",
    "    matched_pattern = None\n",
    "    \n",
    "    for pattern in action_patterns:\n",
    "        if re.search(pattern, text_lower, re.IGNORECASE):\n",
    "            score = 1.0\n",
    "            matched_pattern = pattern\n",
    "            break\n",
    "    \n",
    "    # Score partiel si cicatrice mentionnée avec Harry\n",
    "    if score == 0 and has_harry and has_scar:\n",
    "        score = 0.3\n",
    "    \n",
    "    return {\n",
    "        'detected': score > 0.5,\n",
    "        'score': score,\n",
    "        'pattern': matched_pattern\n",
    "    }\n",
    "\n",
    "\n",
    "# Test\n",
    "test_cases = [\n",
    "    \"Harry porta la main à sa cicatrice qui le brûlait.\",\n",
    "    \"Sa cicatrice l'élançait terriblement.\",\n",
    "    \"Il regarda Hermione avec étonnement.\",\n",
    "    \"Harry était fatigué mais sa cicatrice ne le faisait plus souffrir.\"\n",
    "]\n",
    "\n",
    "print(\"🔍 Test détection cicatrice:\")\n",
    "for test in test_cases:\n",
    "    result = detect_scar_touch(test, 'Harry')\n",
    "    print(f\"  '{test[:60]}...'\")\n",
    "    print(f\"    -> Détecté: {result['detected']}, Score: {result['score']:.2f}\\n\")"
   ]
  },
  {
   "cell_type": "markdown",
   "metadata": {},
   "source": [
    "## 2. Hermione dit \"Mais\"\n",
    "\n",
    "Compte spécifique des \"Mais\" dans les dialogues attribués à Hermione."
   ]
  },
  {
   "cell_type": "code",
   "execution_count": 4,
   "metadata": {
    "execution": {
     "iopub.execute_input": "2025-10-16T14:36:31.430580Z",
     "iopub.status.busy": "2025-10-16T14:36:31.429581Z",
     "iopub.status.idle": "2025-10-16T14:36:31.436055Z",
     "shell.execute_reply": "2025-10-16T14:36:31.435049Z"
    }
   },
   "outputs": [
    {
     "name": "stdout",
     "output_type": "stream",
     "text": [
      "🗣️  Test détection 'Mais' Hermione:\n",
      "  '« Mais c'est impossible ! » dit Hermione....'\n",
      "    -> Détecté: True, Compte: 1\n",
      "\n",
      "  'Hermione répliqua : « Mais tu ne comprends pas ! Mais vraime...'\n",
      "    -> Détecté: True, Compte: 2\n",
      "\n",
      "  '« D'accord » dit Ron....'\n",
      "    -> Détecté: False, Compte: 0\n",
      "\n",
      "  'Harry pensait que c'était étrange....'\n",
      "    -> Détecté: False, Compte: 0\n",
      "\n"
     ]
    }
   ],
   "source": [
    "def detect_hermione_mais(text: str, speaker: Optional[str], is_dialogue: bool) -> Dict:\n",
    "    \"\"\"Détecte si Hermione dit 'Mais' dans un dialogue.\"\"\"\n",
    "    \n",
    "    # Vérifier que c'est un dialogue d'Hermione\n",
    "    if not is_dialogue:\n",
    "        return {'detected': False, 'count': 0}\n",
    "    \n",
    "    if speaker != 'Hermione':\n",
    "        # Chercher aussi Hermione dans le texte si speaker non détecté\n",
    "        if 'Hermione' not in text:\n",
    "            return {'detected': False, 'count': 0}\n",
    "    \n",
    "    # Compter les 'Mais' dans le dialogue\n",
    "    # Chercher dans les guillemets français ou après tirets\n",
    "    dialogue_parts = re.findall(r'[«»]([^«»]+)[«»]', text)\n",
    "    dialogue_parts.extend(re.findall(r'—\\s*([^—.!?]+)', text))\n",
    "    \n",
    "    mais_count = 0\n",
    "    for part in dialogue_parts:\n",
    "        mais_count += len(re.findall(r'\\bMais\\b', part, re.IGNORECASE))\n",
    "    \n",
    "    # Aussi chercher directement dans le texte\n",
    "    if mais_count == 0:\n",
    "        mais_count = len(re.findall(r'\\bMais\\b', text, re.IGNORECASE))\n",
    "    \n",
    "    return {\n",
    "        'detected': mais_count > 0,\n",
    "        'count': mais_count\n",
    "    }\n",
    "\n",
    "\n",
    "# Test\n",
    "test_cases = [\n",
    "    (\"« Mais c'est impossible ! » dit Hermione.\", 'Hermione', True),\n",
    "    (\"Hermione répliqua : « Mais tu ne comprends pas ! Mais vraiment ! »\", 'Hermione', True),\n",
    "    (\"« D'accord » dit Ron.\", 'Ron', True),\n",
    "    (\"Harry pensait que c'était étrange.\", None, False)\n",
    "]\n",
    "\n",
    "print(\"🗣️  Test détection 'Mais' Hermione:\")\n",
    "for text, speaker, is_dial in test_cases:\n",
    "    result = detect_hermione_mais(text, speaker, is_dial)\n",
    "    print(f\"  '{text[:60]}...'\")\n",
    "    print(f\"    -> Détecté: {result['detected']}, Compte: {result['count']}\\n\")"
   ]
  },
  {
   "cell_type": "markdown",
   "metadata": {},
   "source": [
    "## 3. Interventions de Dumbledore\n",
    "\n",
    "Détection des moments où Dumbledore change le cours de l'histoire."
   ]
  },
  {
   "cell_type": "code",
   "execution_count": 5,
   "metadata": {
    "execution": {
     "iopub.execute_input": "2025-10-16T14:36:31.438054Z",
     "iopub.status.busy": "2025-10-16T14:36:31.438054Z",
     "iopub.status.idle": "2025-10-16T14:36:31.443101Z",
     "shell.execute_reply": "2025-10-16T14:36:31.443101Z"
    }
   },
   "outputs": [
    {
     "name": "stdout",
     "output_type": "stream",
     "text": [
      "🧙 Test détection interventions Dumbledore:\n",
      "  'Dumbledore décida d'accorder cinquante points à Gryffondor....'\n",
      "    -> Détecté: True, Type: decision\n",
      "\n",
      "  'Le directeur annonça une exception à la règle....'\n",
      "    -> Détecté: False, Type: None\n",
      "\n",
      "  'Dumbledore révéla la vérité sur les Horcruxes....'\n",
      "    -> Détecté: True, Type: decision\n",
      "\n",
      "  'Harry rentra dans la salle commune....'\n",
      "    -> Détecté: False, Type: None\n",
      "\n"
     ]
    }
   ],
   "source": [
    "def detect_dumbledore_intervention(text: str, entities_persons: str) -> Dict:\n",
    "    \"\"\"Détecte les interventions arbitraires/importantes de Dumbledore.\n",
    "    \n",
    "    Critères:\n",
    "    - Dumbledore + verbes d'action décisive\n",
    "    - Dumbledore + exceptions/règles\n",
    "    - Dumbledore + points/coupe des maisons\n",
    "    - Dumbledore + révélations importantes\n",
    "    \"\"\"\n",
    "    text_lower = text.lower()\n",
    "    \n",
    "    # Vérifier présence de Dumbledore\n",
    "    has_dumbledore = ('Dumbledore' in (entities_persons or '') or\n",
    "                      'dumbledore' in text_lower or\n",
    "                      'directeur' in text_lower)\n",
    "    \n",
    "    if not has_dumbledore:\n",
    "        return {'detected': False, 'score': 0.0, 'type': None}\n",
    "    \n",
    "    # Patterns d'intervention\n",
    "    patterns = [\n",
    "        (r'Dumbledore.*?(?:décida|changea|modifia|annonça|révéla)', 'decision'),\n",
    "        (r'(?:exception|règle).*?Dumbledore', 'exception'),\n",
    "        (r'Dumbledore.*?(?:points|coupe)', 'points'),\n",
    "        (r'Dumbledore.*?(?:dit|déclara|annonça).*?(?:cependant|toutefois|néanmoins)', 'revelation'),\n",
    "        (r'Dumbledore.*?(?:intervint|empêcha|sauva)', 'intervention'),\n",
    "        (r'Dumbledore.*?(?:secret|vérité|plan)', 'secret')\n",
    "    ]\n",
    "    \n",
    "    score = 0.0\n",
    "    intervention_type = None\n",
    "    \n",
    "    for pattern, ptype in patterns:\n",
    "        if re.search(pattern, text, re.IGNORECASE):\n",
    "            score = 1.0\n",
    "            intervention_type = ptype\n",
    "            break\n",
    "    \n",
    "    return {\n",
    "        'detected': score > 0.5,\n",
    "        'score': score,\n",
    "        'type': intervention_type\n",
    "    }\n",
    "\n",
    "\n",
    "# Test\n",
    "test_cases = [\n",
    "    \"Dumbledore décida d'accorder cinquante points à Gryffondor.\",\n",
    "    \"Le directeur annonça une exception à la règle.\",\n",
    "    \"Dumbledore révéla la vérité sur les Horcruxes.\",\n",
    "    \"Harry rentra dans la salle commune.\"\n",
    "]\n",
    "\n",
    "print(\"🧙 Test détection interventions Dumbledore:\")\n",
    "for test in test_cases:\n",
    "    result = detect_dumbledore_intervention(test, 'Dumbledore')\n",
    "    print(f\"  '{test[:60]}...'\")\n",
    "    print(f\"    -> Détecté: {result['detected']}, Type: {result['type']}\\n\")"
   ]
  },
  {
   "cell_type": "markdown",
   "metadata": {},
   "source": [
    "## 4. Rogue mystérieux/sombre\n",
    "\n",
    "Détection des moments où Rogue est présenté comme mystérieux ou menaçant."
   ]
  },
  {
   "cell_type": "code",
   "execution_count": 6,
   "metadata": {
    "execution": {
     "iopub.execute_input": "2025-10-16T14:36:31.445106Z",
     "iopub.status.busy": "2025-10-16T14:36:31.444106Z",
     "iopub.status.idle": "2025-10-16T14:36:31.450273Z",
     "shell.execute_reply": "2025-10-16T14:36:31.450273Z"
    }
   },
   "outputs": [
    {
     "name": "stdout",
     "output_type": "stream",
     "text": [
      "🖤 Test détection Rogue mystérieux:\n",
      "  'Rogue les regardait d'un air sombre et menaçant....'\n",
      "    -> Détecté: True, Sentiment: menacing\n",
      "\n",
      "  'Le professeur Rogue surgit derrière eux....'\n",
      "    -> Détecté: True, Sentiment: appearing\n",
      "\n",
      "  'Son regard froid et glacial se posa sur Harry....'\n",
      "    -> Détecté: False, Sentiment: None\n",
      "\n",
      "  'McGonagall sourit gentiment....'\n",
      "    -> Détecté: False, Sentiment: None\n",
      "\n"
     ]
    }
   ],
   "source": [
    "def detect_snape_dark(text: str, entities_persons: str) -> Dict:\n",
    "    \"\"\"Détecte les descriptions sombres/mystérieuses de Rogue.\"\"\"\n",
    "    text_lower = text.lower()\n",
    "    \n",
    "    # Vérifier présence de Rogue/Snape/Severus\n",
    "    snape_keywords = ['rogue', 'snape', 'severus', 'professeur rogue']\n",
    "    has_snape = any(kw in text_lower for kw in snape_keywords)\n",
    "    \n",
    "    if not has_snape:\n",
    "        return {'detected': False, 'score': 0.0, 'sentiment': None}\n",
    "    \n",
    "    # Patterns de description sombre\n",
    "    dark_patterns = [\n",
    "        (r'Rogue.*?(?:sombre|mystérieux|inquiétant|menaçant|sinistre)', 'menacing'),\n",
    "        (r'(?:regard|voix|ton).*?(?:de )?Rogue.*?(?:froid|glacial|menaçant)', 'cold'),\n",
    "        (r'Rogue.*?(?:ricana|sourit.*?(?:méchamment|cruellement))', 'cruel'),\n",
    "        (r'professeur.*?Rogue.*?(?:apparut|surgit|émergea)', 'appearing'),\n",
    "        (r'Rogue.*?(?:noir|ombre|ténèbres)', 'dark'),\n",
    "        (r'(?:suspicion|soupçon|doute).*?Rogue', 'suspicious')\n",
    "    ]\n",
    "    \n",
    "    score = 0.0\n",
    "    sentiment = None\n",
    "    \n",
    "    for pattern, sent in dark_patterns:\n",
    "        if re.search(pattern, text, re.IGNORECASE):\n",
    "            score = 1.0\n",
    "            sentiment = sent\n",
    "            break\n",
    "    \n",
    "    return {\n",
    "        'detected': score > 0.5,\n",
    "        'score': score,\n",
    "        'sentiment': sentiment\n",
    "    }\n",
    "\n",
    "\n",
    "# Test\n",
    "test_cases = [\n",
    "    \"Rogue les regardait d'un air sombre et menaçant.\",\n",
    "    \"Le professeur Rogue surgit derrière eux.\",\n",
    "    \"Son regard froid et glacial se posa sur Harry.\",\n",
    "    \"McGonagall sourit gentiment.\"\n",
    "]\n",
    "\n",
    "print(\"🖤 Test détection Rogue mystérieux:\")\n",
    "for test in test_cases:\n",
    "    result = detect_snape_dark(test, 'Rogue')\n",
    "    print(f\"  '{test[:60]}...'\")\n",
    "    print(f\"    -> Détecté: {result['detected']}, Sentiment: {result['sentiment']}\\n\")"
   ]
  },
  {
   "cell_type": "markdown",
   "metadata": {},
   "source": [
    "## 5. Actes répréhensibles\n",
    "\n",
    "Classification des actes moralement ou légalement questionnables."
   ]
  },
  {
   "cell_type": "code",
   "execution_count": 7,
   "metadata": {
    "execution": {
     "iopub.execute_input": "2025-10-16T14:36:31.452279Z",
     "iopub.status.busy": "2025-10-16T14:36:31.452279Z",
     "iopub.status.idle": "2025-10-16T14:36:31.457637Z",
     "shell.execute_reply": "2025-10-16T14:36:31.457637Z"
    }
   },
   "outputs": [
    {
     "name": "stdout",
     "output_type": "stream",
     "text": [
      "⚖️  Test détection actes répréhensibles:\n",
      "  'Harry mentit au professeur pour protéger Ron....'\n",
      "    -> Détecté: False, Catégories: []\n",
      "\n",
      "  'Ils volèrent des ingrédients dans le bureau de Rogue....'\n",
      "    -> Détecté: False, Catégories: []\n",
      "\n",
      "  'Les trois amis s'introduisirent dans la section interdite....'\n",
      "    -> Détecté: True, Catégories: ['rule_violation']\n",
      "\n",
      "  'Harry utilisait sa cape d'invisibilité pour sortir après le ...'\n",
      "    -> Détecté: True, Catégories: ['intrusion']\n",
      "\n",
      "  'Hermione lisait tranquillement dans la bibliothèque....'\n",
      "    -> Détecté: False, Catégories: []\n",
      "\n"
     ]
    }
   ],
   "source": [
    "def detect_questionable_acts(text: str) -> Dict:\n",
    "    \"\"\"Détecte les actes répréhensibles.\n",
    "    \n",
    "    Catégories:\n",
    "    - Mensonge\n",
    "    - Vol\n",
    "    - Violation de règles\n",
    "    - Violence\n",
    "    - Intrusion\n",
    "    \"\"\"\n",
    "    text_lower = text.lower()\n",
    "    \n",
    "    categories = {\n",
    "        'lie': [\n",
    "            r'\\b(?:mensonge|mentir|menti|faux)\\b',\n",
    "            r'\\b(?:tromper|trompé|dissimul)\\b'\n",
    "        ],\n",
    "        'theft': [\n",
    "            r'\\b(?:voler|vol|volé|dérobé|subtilis)\\b',\n",
    "            r'\\b(?:emprunter|emprunt).*?(?:sans|permission)\\b'\n",
    "        ],\n",
    "        'rule_violation': [\n",
    "            r'\\b(?:enfreindre|enfreint|violer|violé).*?(?:règle|loi|règlement)\\b',\n",
    "            r'\\b(?:sortir|sorti).*?(?:après|sans).*?(?:autorisation|permission)\\b',\n",
    "            r'\\b(?:interdiction|interdit|défendu)\\b',\n",
    "            r'\\bforêt interdite\\b',\n",
    "            r'\\bsection interdite\\b'\n",
    "        ],\n",
    "        'violence': [\n",
    "            r'\\b(?:attaquer|attaqué|attaque)\\b',\n",
    "            r'\\b(?:combat|bataille|duel)\\b',\n",
    "            r'\\b(?:frapper|frappé|coup)\\b'\n",
    "        ],\n",
    "        'intrusion': [\n",
    "            r'\\b(?:cape d\\'invisibilité)\\b',\n",
    "            r'\\b(?:s\\'introduire|introduit|infiltr)\\b',\n",
    "            r'\\b(?:espionner|espionn|surveill)\\b'\n",
    "        ]\n",
    "    }\n",
    "    \n",
    "    detected_categories = []\n",
    "    total_score = 0.0\n",
    "    \n",
    "    for category, patterns in categories.items():\n",
    "        for pattern in patterns:\n",
    "            if re.search(pattern, text_lower):\n",
    "                detected_categories.append(category)\n",
    "                total_score += 0.5\n",
    "                break\n",
    "    \n",
    "    return {\n",
    "        'detected': len(detected_categories) > 0,\n",
    "        'categories': detected_categories,\n",
    "        'score': min(total_score, 1.0),\n",
    "        'count': len(detected_categories)\n",
    "    }\n",
    "\n",
    "\n",
    "# Test\n",
    "test_cases = [\n",
    "    \"Harry mentit au professeur pour protéger Ron.\",\n",
    "    \"Ils volèrent des ingrédients dans le bureau de Rogue.\",\n",
    "    \"Les trois amis s'introduisirent dans la section interdite.\",\n",
    "    \"Harry utilisait sa cape d'invisibilité pour sortir après le couvre-feu.\",\n",
    "    \"Hermione lisait tranquillement dans la bibliothèque.\"\n",
    "]\n",
    "\n",
    "print(\"⚖️  Test détection actes répréhensibles:\")\n",
    "for test in test_cases:\n",
    "    result = detect_questionable_acts(test)\n",
    "    print(f\"  '{test[:60]}...'\")\n",
    "    print(f\"    -> Détecté: {result['detected']}, Catégories: {result['categories']}\\n\")"
   ]
  },
  {
   "cell_type": "markdown",
   "metadata": {},
   "source": [
    "## 6. Application sur le corpus complet"
   ]
  },
  {
   "cell_type": "code",
   "execution_count": 8,
   "metadata": {
    "execution": {
     "iopub.execute_input": "2025-10-16T14:36:31.459641Z",
     "iopub.status.busy": "2025-10-16T14:36:31.458642Z",
     "iopub.status.idle": "2025-10-16T14:36:31.466572Z",
     "shell.execute_reply": "2025-10-16T14:36:31.466572Z"
    }
   },
   "outputs": [
    {
     "name": "stdout",
     "output_type": "stream",
     "text": [
      "🔍 Application des détecteurs d'événements...\n",
      "⏳ Cela peut prendre quelques minutes...\n",
      "\n"
     ]
    }
   ],
   "source": [
    "# Initialiser les colonnes d'événements\n",
    "df['event_scar_touch'] = False\n",
    "df['event_scar_score'] = 0.0\n",
    "df['event_hermione_mais'] = False\n",
    "df['event_hermione_mais_count'] = 0\n",
    "df['event_dumbledore_intervention'] = False\n",
    "df['event_dumbledore_type'] = None\n",
    "df['event_snape_dark'] = False\n",
    "df['event_snape_sentiment'] = None\n",
    "df['event_questionable_act'] = False\n",
    "df['event_questionable_categories'] = None\n",
    "df['event_questionable_count'] = 0\n",
    "\n",
    "print(\"🔍 Application des détecteurs d'événements...\")\n",
    "print(\"⏳ Cela peut prendre quelques minutes...\\n\")"
   ]
  },
  {
   "cell_type": "code",
   "execution_count": 9,
   "metadata": {
    "execution": {
     "iopub.execute_input": "2025-10-16T14:36:31.468577Z",
     "iopub.status.busy": "2025-10-16T14:36:31.468577Z",
     "iopub.status.idle": "2025-10-16T14:36:41.470233Z",
     "shell.execute_reply": "2025-10-16T14:36:41.470233Z"
    }
   },
   "outputs": [
    {
     "name": "stderr",
     "output_type": "stream",
     "text": [
      "\r",
      "Detecting events:   0%|                                      | 0/58654 [00:00<?, ?it/s]"
     ]
    },
    {
     "name": "stderr",
     "output_type": "stream",
     "text": [
      "\r",
      "Detecting events:   1%|▎                         | 610/58654 [00:00<00:09, 6067.30it/s]"
     ]
    },
    {
     "name": "stderr",
     "output_type": "stream",
     "text": [
      "\r",
      "Detecting events:   2%|▌                        | 1250/58654 [00:00<00:09, 6244.70it/s]"
     ]
    },
    {
     "name": "stderr",
     "output_type": "stream",
     "text": [
      "\r",
      "Detecting events:   3%|▊                        | 1875/58654 [00:00<00:09, 6019.48it/s]"
     ]
    },
    {
     "name": "stderr",
     "output_type": "stream",
     "text": [
      "\r",
      "Detecting events:   4%|█                        | 2478/58654 [00:00<00:09, 5964.41it/s]"
     ]
    },
    {
     "name": "stderr",
     "output_type": "stream",
     "text": [
      "\r",
      "Detecting events:   5%|█▎                       | 3082/58654 [00:00<00:09, 5978.72it/s]"
     ]
    },
    {
     "name": "stderr",
     "output_type": "stream",
     "text": [
      "\r",
      "Detecting events:   6%|█▌                       | 3681/58654 [00:00<00:09, 5982.26it/s]"
     ]
    },
    {
     "name": "stderr",
     "output_type": "stream",
     "text": [
      "\r",
      "Detecting events:   7%|█▊                       | 4341/58654 [00:00<00:08, 6070.60it/s]"
     ]
    },
    {
     "name": "stderr",
     "output_type": "stream",
     "text": [
      "\r",
      "Detecting events:   8%|██                       | 4984/58654 [00:00<00:08, 6182.55it/s]"
     ]
    },
    {
     "name": "stderr",
     "output_type": "stream",
     "text": [
      "\r",
      "Detecting events:  10%|██▍                      | 5630/58654 [00:00<00:08, 6240.17it/s]"
     ]
    },
    {
     "name": "stderr",
     "output_type": "stream",
     "text": [
      "\r",
      "Detecting events:  11%|██▋                      | 6275/58654 [00:01<00:08, 6290.22it/s]"
     ]
    },
    {
     "name": "stderr",
     "output_type": "stream",
     "text": [
      "\r",
      "Detecting events:  12%|██▉                      | 6905/58654 [00:01<00:08, 6226.91it/s]"
     ]
    },
    {
     "name": "stderr",
     "output_type": "stream",
     "text": [
      "\r",
      "Detecting events:  13%|███▏                     | 7528/58654 [00:01<00:08, 6066.36it/s]"
     ]
    },
    {
     "name": "stderr",
     "output_type": "stream",
     "text": [
      "\r",
      "Detecting events:  14%|███▍                     | 8136/58654 [00:01<00:08, 5888.12it/s]"
     ]
    },
    {
     "name": "stderr",
     "output_type": "stream",
     "text": [
      "\r",
      "Detecting events:  15%|███▋                     | 8763/58654 [00:01<00:08, 5989.56it/s]"
     ]
    },
    {
     "name": "stderr",
     "output_type": "stream",
     "text": [
      "\r",
      "Detecting events:  16%|████                     | 9399/58654 [00:01<00:08, 6095.57it/s]"
     ]
    },
    {
     "name": "stderr",
     "output_type": "stream",
     "text": [
      "\r",
      "Detecting events:  17%|████                    | 10035/58654 [00:01<00:07, 6170.47it/s]"
     ]
    },
    {
     "name": "stderr",
     "output_type": "stream",
     "text": [
      "\r",
      "Detecting events:  18%|████▎                   | 10654/58654 [00:01<00:07, 6166.91it/s]"
     ]
    },
    {
     "name": "stderr",
     "output_type": "stream",
     "text": [
      "\r",
      "Detecting events:  19%|████▌                   | 11272/58654 [00:01<00:07, 6125.02it/s]"
     ]
    },
    {
     "name": "stderr",
     "output_type": "stream",
     "text": [
      "\r",
      "Detecting events:  20%|████▊                   | 11899/58654 [00:01<00:07, 6163.67it/s]"
     ]
    },
    {
     "name": "stderr",
     "output_type": "stream",
     "text": [
      "\r",
      "Detecting events:  21%|█████▏                  | 12576/58654 [00:02<00:07, 6117.98it/s]"
     ]
    },
    {
     "name": "stderr",
     "output_type": "stream",
     "text": [
      "\r",
      "Detecting events:  22%|█████▍                  | 13189/58654 [00:02<00:07, 6119.37it/s]"
     ]
    },
    {
     "name": "stderr",
     "output_type": "stream",
     "text": [
      "\r",
      "Detecting events:  24%|█████▋                  | 13802/58654 [00:02<00:07, 6112.21it/s]"
     ]
    },
    {
     "name": "stderr",
     "output_type": "stream",
     "text": [
      "\r",
      "Detecting events:  25%|█████▉                  | 14438/58654 [00:02<00:07, 6179.57it/s]"
     ]
    },
    {
     "name": "stderr",
     "output_type": "stream",
     "text": [
      "\r",
      "Detecting events:  26%|██████▏                 | 15076/58654 [00:02<00:07, 6222.98it/s]"
     ]
    },
    {
     "name": "stderr",
     "output_type": "stream",
     "text": [
      "\r",
      "Detecting events:  27%|██████▍                 | 15699/58654 [00:02<00:06, 6209.46it/s]"
     ]
    },
    {
     "name": "stderr",
     "output_type": "stream",
     "text": [
      "\r",
      "Detecting events:  28%|██████▋                 | 16362/58654 [00:02<00:06, 6322.56it/s]"
     ]
    },
    {
     "name": "stderr",
     "output_type": "stream",
     "text": [
      "\r",
      "Detecting events:  29%|██████▉                 | 16995/58654 [00:02<00:06, 6258.66it/s]"
     ]
    },
    {
     "name": "stderr",
     "output_type": "stream",
     "text": [
      "\r",
      "Detecting events:  30%|███████▏                | 17622/58654 [00:02<00:06, 6181.83it/s]"
     ]
    },
    {
     "name": "stderr",
     "output_type": "stream",
     "text": [
      "\r",
      "Detecting events:  31%|███████▍                | 18241/58654 [00:02<00:06, 6161.60it/s]"
     ]
    },
    {
     "name": "stderr",
     "output_type": "stream",
     "text": [
      "\r",
      "Detecting events:  32%|███████▋                | 18875/58654 [00:03<00:06, 6200.85it/s]"
     ]
    },
    {
     "name": "stderr",
     "output_type": "stream",
     "text": [
      "\r",
      "Detecting events:  33%|███████▉                | 19496/58654 [00:03<00:06, 6107.54it/s]"
     ]
    },
    {
     "name": "stderr",
     "output_type": "stream",
     "text": [
      "\r",
      "Detecting events:  34%|████████▏               | 20111/58654 [00:03<00:06, 6117.45it/s]"
     ]
    },
    {
     "name": "stderr",
     "output_type": "stream",
     "text": [
      "\r",
      "Detecting events:  35%|████████▍               | 20723/58654 [00:03<00:06, 6088.29it/s]"
     ]
    },
    {
     "name": "stderr",
     "output_type": "stream",
     "text": [
      "\r",
      "Detecting events:  36%|████████▋               | 21341/58654 [00:03<00:06, 6105.79it/s]"
     ]
    },
    {
     "name": "stderr",
     "output_type": "stream",
     "text": [
      "\r",
      "Detecting events:  37%|████████▉               | 21984/58654 [00:03<00:05, 6200.39it/s]"
     ]
    },
    {
     "name": "stderr",
     "output_type": "stream",
     "text": [
      "\r",
      "Detecting events:  39%|█████████▏              | 22605/58654 [00:03<00:05, 6194.70it/s]"
     ]
    },
    {
     "name": "stderr",
     "output_type": "stream",
     "text": [
      "\r",
      "Detecting events:  40%|█████████▌              | 23244/58654 [00:03<00:05, 6240.43it/s]"
     ]
    },
    {
     "name": "stderr",
     "output_type": "stream",
     "text": [
      "\r",
      "Detecting events:  41%|█████████▊              | 23869/58654 [00:03<00:05, 6036.87it/s]"
     ]
    },
    {
     "name": "stderr",
     "output_type": "stream",
     "text": [
      "\r",
      "Detecting events:  42%|██████████              | 24475/58654 [00:03<00:05, 5999.26it/s]"
     ]
    },
    {
     "name": "stderr",
     "output_type": "stream",
     "text": [
      "\r",
      "Detecting events:  43%|██████████▎             | 25080/58654 [00:04<00:05, 6008.13it/s]"
     ]
    },
    {
     "name": "stderr",
     "output_type": "stream",
     "text": [
      "\r",
      "Detecting events:  44%|██████████▌             | 25702/58654 [00:04<00:05, 6060.80it/s]"
     ]
    },
    {
     "name": "stderr",
     "output_type": "stream",
     "text": [
      "\r",
      "Detecting events:  45%|██████████▊             | 26364/58654 [00:04<00:05, 6122.01it/s]"
     ]
    },
    {
     "name": "stderr",
     "output_type": "stream",
     "text": [
      "\r",
      "Detecting events:  46%|███████████             | 26977/58654 [00:04<00:05, 6039.96it/s]"
     ]
    },
    {
     "name": "stderr",
     "output_type": "stream",
     "text": [
      "\r",
      "Detecting events:  47%|███████████▎            | 27624/58654 [00:04<00:05, 6108.63it/s]"
     ]
    },
    {
     "name": "stderr",
     "output_type": "stream",
     "text": [
      "\r",
      "Detecting events:  48%|███████████▌            | 28236/58654 [00:04<00:05, 6052.44it/s]"
     ]
    },
    {
     "name": "stderr",
     "output_type": "stream",
     "text": [
      "\r",
      "Detecting events:  49%|███████████▊            | 28842/58654 [00:04<00:04, 6002.71it/s]"
     ]
    },
    {
     "name": "stderr",
     "output_type": "stream",
     "text": [
      "\r",
      "Detecting events:  50%|████████████            | 29443/58654 [00:04<00:04, 5900.19it/s]"
     ]
    },
    {
     "name": "stderr",
     "output_type": "stream",
     "text": [
      "\r",
      "Detecting events:  51%|████████████▎           | 30040/58654 [00:04<00:04, 5829.36it/s]"
     ]
    },
    {
     "name": "stderr",
     "output_type": "stream",
     "text": [
      "\r",
      "Detecting events:  52%|████████████▌           | 30624/58654 [00:05<00:04, 5831.74it/s]"
     ]
    },
    {
     "name": "stderr",
     "output_type": "stream",
     "text": [
      "\r",
      "Detecting events:  53%|████████████▊           | 31208/58654 [00:05<00:04, 5798.46it/s]"
     ]
    },
    {
     "name": "stderr",
     "output_type": "stream",
     "text": [
      "\r",
      "Detecting events:  54%|█████████████           | 31799/58654 [00:05<00:04, 5775.59it/s]"
     ]
    },
    {
     "name": "stderr",
     "output_type": "stream",
     "text": [
      "\r",
      "Detecting events:  55%|█████████████▏          | 32377/58654 [00:05<00:04, 5739.34it/s]"
     ]
    },
    {
     "name": "stderr",
     "output_type": "stream",
     "text": [
      "\r",
      "Detecting events:  56%|█████████████▍          | 32951/58654 [00:05<00:04, 5629.50it/s]"
     ]
    },
    {
     "name": "stderr",
     "output_type": "stream",
     "text": [
      "\r",
      "Detecting events:  57%|█████████████▋          | 33525/58654 [00:05<00:04, 5660.64it/s]"
     ]
    },
    {
     "name": "stderr",
     "output_type": "stream",
     "text": [
      "\r",
      "Detecting events:  58%|█████████████▉          | 34120/58654 [00:05<00:04, 5739.47it/s]"
     ]
    },
    {
     "name": "stderr",
     "output_type": "stream",
     "text": [
      "\r",
      "Detecting events:  59%|██████████████▏         | 34723/58654 [00:05<00:04, 5816.26it/s]"
     ]
    },
    {
     "name": "stderr",
     "output_type": "stream",
     "text": [
      "\r",
      "Detecting events:  60%|██████████████▍         | 35321/58654 [00:05<00:03, 5859.74it/s]"
     ]
    },
    {
     "name": "stderr",
     "output_type": "stream",
     "text": [
      "\r",
      "Detecting events:  61%|██████████████▋         | 35924/58654 [00:05<00:03, 5900.01it/s]"
     ]
    },
    {
     "name": "stderr",
     "output_type": "stream",
     "text": [
      "\r",
      "Detecting events:  62%|██████████████▉         | 36515/58654 [00:06<00:03, 5802.92it/s]"
     ]
    },
    {
     "name": "stderr",
     "output_type": "stream",
     "text": [
      "\r",
      "Detecting events:  63%|███████████████▏        | 37096/58654 [00:06<00:03, 5763.60it/s]"
     ]
    },
    {
     "name": "stderr",
     "output_type": "stream",
     "text": [
      "\r",
      "Detecting events:  64%|███████████████▍        | 37716/58654 [00:06<00:03, 5882.21it/s]"
     ]
    },
    {
     "name": "stderr",
     "output_type": "stream",
     "text": [
      "\r",
      "Detecting events:  65%|███████████████▋        | 38305/58654 [00:06<00:03, 5362.95it/s]"
     ]
    },
    {
     "name": "stderr",
     "output_type": "stream",
     "text": [
      "\r",
      "Detecting events:  66%|███████████████▉        | 38851/58654 [00:06<00:03, 5325.21it/s]"
     ]
    },
    {
     "name": "stderr",
     "output_type": "stream",
     "text": [
      "\r",
      "Detecting events:  67%|████████████████        | 39394/58654 [00:06<00:03, 5351.91it/s]"
     ]
    },
    {
     "name": "stderr",
     "output_type": "stream",
     "text": [
      "\r",
      "Detecting events:  68%|████████████████▎       | 39951/58654 [00:06<00:03, 5401.51it/s]"
     ]
    },
    {
     "name": "stderr",
     "output_type": "stream",
     "text": [
      "\r",
      "Detecting events:  69%|████████████████▌       | 40520/58654 [00:06<00:03, 5477.08it/s]"
     ]
    },
    {
     "name": "stderr",
     "output_type": "stream",
     "text": [
      "\r",
      "Detecting events:  70%|████████████████▊       | 41105/58654 [00:06<00:03, 5574.09it/s]"
     ]
    },
    {
     "name": "stderr",
     "output_type": "stream",
     "text": [
      "\r",
      "Detecting events:  71%|█████████████████       | 41689/58654 [00:06<00:03, 5639.35it/s]"
     ]
    },
    {
     "name": "stderr",
     "output_type": "stream",
     "text": [
      "\r",
      "Detecting events:  72%|█████████████████▎      | 42296/58654 [00:07<00:02, 5744.50it/s]"
     ]
    },
    {
     "name": "stderr",
     "output_type": "stream",
     "text": [
      "\r",
      "Detecting events:  73%|█████████████████▌      | 42890/58654 [00:07<00:02, 5798.02it/s]"
     ]
    },
    {
     "name": "stderr",
     "output_type": "stream",
     "text": [
      "\r",
      "Detecting events:  74%|█████████████████▊      | 43499/58654 [00:07<00:02, 5870.83it/s]"
     ]
    },
    {
     "name": "stderr",
     "output_type": "stream",
     "text": [
      "\r",
      "Detecting events:  75%|██████████████████      | 44121/58654 [00:07<00:02, 5972.27it/s]"
     ]
    },
    {
     "name": "stderr",
     "output_type": "stream",
     "text": [
      "\r",
      "Detecting events:  76%|██████████████████▎     | 44719/58654 [00:07<00:02, 5887.24it/s]"
     ]
    },
    {
     "name": "stderr",
     "output_type": "stream",
     "text": [
      "\r",
      "Detecting events:  77%|██████████████████▌     | 45309/58654 [00:07<00:02, 5726.56it/s]"
     ]
    },
    {
     "name": "stderr",
     "output_type": "stream",
     "text": [
      "\r",
      "Detecting events:  78%|██████████████████▊     | 45883/58654 [00:07<00:02, 5557.76it/s]"
     ]
    },
    {
     "name": "stderr",
     "output_type": "stream",
     "text": [
      "\r",
      "Detecting events:  79%|███████████████████     | 46441/58654 [00:07<00:02, 5448.82it/s]"
     ]
    },
    {
     "name": "stderr",
     "output_type": "stream",
     "text": [
      "\r",
      "Detecting events:  80%|███████████████████▏    | 46988/58654 [00:07<00:02, 5361.51it/s]"
     ]
    },
    {
     "name": "stderr",
     "output_type": "stream",
     "text": [
      "\r",
      "Detecting events:  81%|███████████████████▍    | 47558/58654 [00:08<00:02, 5440.59it/s]"
     ]
    },
    {
     "name": "stderr",
     "output_type": "stream",
     "text": [
      "\r",
      "Detecting events:  82%|███████████████████▋    | 48128/58654 [00:08<00:01, 5515.34it/s]"
     ]
    },
    {
     "name": "stderr",
     "output_type": "stream",
     "text": [
      "\r",
      "Detecting events:  83%|███████████████████▉    | 48690/58654 [00:08<00:01, 5536.79it/s]"
     ]
    },
    {
     "name": "stderr",
     "output_type": "stream",
     "text": [
      "\r",
      "Detecting events:  84%|████████████████████▏   | 49271/58654 [00:08<00:01, 5608.84it/s]"
     ]
    },
    {
     "name": "stderr",
     "output_type": "stream",
     "text": [
      "\r",
      "Detecting events:  85%|████████████████████▍   | 49833/58654 [00:08<00:01, 5574.72it/s]"
     ]
    },
    {
     "name": "stderr",
     "output_type": "stream",
     "text": [
      "\r",
      "Detecting events:  86%|████████████████████▌   | 50391/58654 [00:08<00:01, 5542.92it/s]"
     ]
    },
    {
     "name": "stderr",
     "output_type": "stream",
     "text": [
      "\r",
      "Detecting events:  87%|████████████████████▊   | 50981/58654 [00:08<00:01, 5583.83it/s]"
     ]
    },
    {
     "name": "stderr",
     "output_type": "stream",
     "text": [
      "\r",
      "Detecting events:  88%|█████████████████████   | 51571/58654 [00:08<00:01, 5638.52it/s]"
     ]
    },
    {
     "name": "stderr",
     "output_type": "stream",
     "text": [
      "\r",
      "Detecting events:  89%|█████████████████████▎  | 52135/58654 [00:08<00:01, 5579.12it/s]"
     ]
    },
    {
     "name": "stderr",
     "output_type": "stream",
     "text": [
      "\r",
      "Detecting events:  90%|█████████████████████▌  | 52696/58654 [00:08<00:01, 5545.21it/s]"
     ]
    },
    {
     "name": "stderr",
     "output_type": "stream",
     "text": [
      "\r",
      "Detecting events:  91%|█████████████████████▊  | 53260/58654 [00:09<00:00, 5560.18it/s]"
     ]
    },
    {
     "name": "stderr",
     "output_type": "stream",
     "text": [
      "\r",
      "Detecting events:  92%|██████████████████████  | 53835/58654 [00:09<00:00, 5614.72it/s]"
     ]
    },
    {
     "name": "stderr",
     "output_type": "stream",
     "text": [
      "\r",
      "Detecting events:  93%|██████████████████████▎ | 54404/58654 [00:09<00:00, 5620.05it/s]"
     ]
    },
    {
     "name": "stderr",
     "output_type": "stream",
     "text": [
      "\r",
      "Detecting events:  94%|██████████████████████▌ | 55000/58654 [00:09<00:00, 5720.90it/s]"
     ]
    },
    {
     "name": "stderr",
     "output_type": "stream",
     "text": [
      "\r",
      "Detecting events:  95%|██████████████████████▋ | 55581/58654 [00:09<00:00, 5747.26it/s]"
     ]
    },
    {
     "name": "stderr",
     "output_type": "stream",
     "text": [
      "\r",
      "Detecting events:  96%|██████████████████████▉ | 56157/58654 [00:09<00:00, 5744.79it/s]"
     ]
    },
    {
     "name": "stderr",
     "output_type": "stream",
     "text": [
      "\r",
      "Detecting events:  97%|███████████████████████▏| 56732/58654 [00:09<00:00, 5689.91it/s]"
     ]
    },
    {
     "name": "stderr",
     "output_type": "stream",
     "text": [
      "\r",
      "Detecting events:  98%|███████████████████████▍| 57309/58654 [00:09<00:00, 5700.83it/s]"
     ]
    },
    {
     "name": "stderr",
     "output_type": "stream",
     "text": [
      "\r",
      "Detecting events:  99%|███████████████████████▋| 57909/58654 [00:09<00:00, 5765.55it/s]"
     ]
    },
    {
     "name": "stderr",
     "output_type": "stream",
     "text": [
      "\r",
      "Detecting events: 100%|███████████████████████▉| 58507/58654 [00:09<00:00, 5786.08it/s]"
     ]
    },
    {
     "name": "stderr",
     "output_type": "stream",
     "text": [
      "\r",
      "Detecting events: 100%|████████████████████████| 58654/58654 [00:09<00:00, 5871.64it/s]"
     ]
    },
    {
     "name": "stdout",
     "output_type": "stream",
     "text": [
      "\n",
      "✅ Détection d'événements terminée!\n"
     ]
    },
    {
     "name": "stderr",
     "output_type": "stream",
     "text": [
      "\n"
     ]
    }
   ],
   "source": [
    "# Traiter toutes les phrases\n",
    "for idx in tqdm(df.index, desc=\"Detecting events\"):\n",
    "    row = df.loc[idx]\n",
    "    text = row['text']\n",
    "    \n",
    "    # 1. Cicatrice de Harry\n",
    "    scar_result = detect_scar_touch(text, row.get('entities_persons'))\n",
    "    df.at[idx, 'event_scar_touch'] = scar_result['detected']\n",
    "    df.at[idx, 'event_scar_score'] = scar_result['score']\n",
    "    \n",
    "    # 2. Hermione dit \"Mais\"\n",
    "    mais_result = detect_hermione_mais(text, row.get('speaker'), row.get('is_dialogue', False))\n",
    "    df.at[idx, 'event_hermione_mais'] = mais_result['detected']\n",
    "    df.at[idx, 'event_hermione_mais_count'] = mais_result['count']\n",
    "    \n",
    "    # 3. Dumbledore interventions\n",
    "    dumb_result = detect_dumbledore_intervention(text, row.get('entities_persons'))\n",
    "    df.at[idx, 'event_dumbledore_intervention'] = dumb_result['detected']\n",
    "    df.at[idx, 'event_dumbledore_type'] = dumb_result['type']\n",
    "    \n",
    "    # 4. Rogue mystérieux\n",
    "    snape_result = detect_snape_dark(text, row.get('entities_persons'))\n",
    "    df.at[idx, 'event_snape_dark'] = snape_result['detected']\n",
    "    df.at[idx, 'event_snape_sentiment'] = snape_result['sentiment']\n",
    "    \n",
    "    # 5. Actes répréhensibles\n",
    "    acts_result = detect_questionable_acts(text)\n",
    "    df.at[idx, 'event_questionable_act'] = acts_result['detected']\n",
    "    df.at[idx, 'event_questionable_categories'] = ','.join(acts_result['categories']) if acts_result['categories'] else None\n",
    "    df.at[idx, 'event_questionable_count'] = acts_result['count']\n",
    "\n",
    "print(\"\\n✅ Détection d'événements terminée!\")"
   ]
  },
  {
   "cell_type": "code",
   "execution_count": 10,
   "metadata": {
    "execution": {
     "iopub.execute_input": "2025-10-16T14:36:41.470233Z",
     "iopub.status.busy": "2025-10-16T14:36:41.470233Z",
     "iopub.status.idle": "2025-10-16T14:36:41.483528Z",
     "shell.execute_reply": "2025-10-16T14:36:41.483528Z"
    }
   },
   "outputs": [
    {
     "name": "stdout",
     "output_type": "stream",
     "text": [
      "\n",
      "📊 Statistiques des événements détectés:\n",
      "  Cicatrice de Harry: 88\n",
      "  Hermione dit 'Mais': 554 (total: 579)\n",
      "  Interventions Dumbledore: 42\n",
      "  Rogue mystérieux: 41\n",
      "  Actes répréhensibles: 1,987\n",
      "\n",
      "📈 Par livre:\n",
      "                         event_scar_touch  event_hermione_mais  \\\n",
      "book_title                                                       \n",
      "L'Ordre du Phénix                      19                  172   \n",
      "L'École des Sorciers                    4                   19   \n",
      "La Chambre des Secrets                  1                   32   \n",
      "La Coupe de Feu                        17                   72   \n",
      "Le Prince de Sang-Mêlé                  1                   55   \n",
      "Le Prisonnier d'Azkaban                 1                   47   \n",
      "Les Reliques de la Mort                45                  157   \n",
      "\n",
      "                         event_dumbledore_intervention  event_snape_dark  \\\n",
      "book_title                                                                 \n",
      "L'Ordre du Phénix                                    6                10   \n",
      "L'École des Sorciers                                 2                 2   \n",
      "La Chambre des Secrets                               4                 5   \n",
      "La Coupe de Feu                                      5                 7   \n",
      "Le Prince de Sang-Mêlé                              13                 7   \n",
      "Le Prisonnier d'Azkaban                              2                 5   \n",
      "Les Reliques de la Mort                             10                 5   \n",
      "\n",
      "                         event_questionable_act  \n",
      "book_title                                       \n",
      "L'Ordre du Phénix                           468  \n",
      "L'École des Sorciers                        166  \n",
      "La Chambre des Secrets                      172  \n",
      "La Coupe de Feu                             315  \n",
      "Le Prince de Sang-Mêlé                      297  \n",
      "Le Prisonnier d'Azkaban                     195  \n",
      "Les Reliques de la Mort                     374  \n"
     ]
    }
   ],
   "source": [
    "# Statistiques globales\n",
    "print(\"\\n📊 Statistiques des événements détectés:\")\n",
    "print(f\"  Cicatrice de Harry: {df['event_scar_touch'].sum():,}\")\n",
    "print(f\"  Hermione dit 'Mais': {df['event_hermione_mais'].sum():,} (total: {df['event_hermione_mais_count'].sum():,})\")\n",
    "print(f\"  Interventions Dumbledore: {df['event_dumbledore_intervention'].sum():,}\")\n",
    "print(f\"  Rogue mystérieux: {df['event_snape_dark'].sum():,}\")\n",
    "print(f\"  Actes répréhensibles: {df['event_questionable_act'].sum():,}\")\n",
    "\n",
    "print(\"\\n📈 Par livre:\")\n",
    "print(df.groupby('book_title')[[col for col in df.columns if col.startswith('event_') and not col.endswith(('_count', '_score', '_type', '_sentiment', '_categories'))]].sum())"
   ]
  },
  {
   "cell_type": "markdown",
   "metadata": {},
   "source": [
    "## 7. Export des événements"
   ]
  },
  {
   "cell_type": "code",
   "execution_count": 11,
   "metadata": {
    "execution": {
     "iopub.execute_input": "2025-10-16T14:36:41.483528Z",
     "iopub.status.busy": "2025-10-16T14:36:41.483528Z",
     "iopub.status.idle": "2025-10-16T14:36:41.557089Z",
     "shell.execute_reply": "2025-10-16T14:36:41.557089Z"
    }
   },
   "outputs": [
    {
     "name": "stdout",
     "output_type": "stream",
     "text": [
      "✅ Événements exportés: C:\\Users\\julie\\src\\School\\Workshop\\workshop-poudlard-epsi\\projects\\22-proces-jk-rowling\\hp_nlp\\data\\events.parquet\n",
      "   Taille: 5.00 MB\n"
     ]
    }
   ],
   "source": [
    "# Exporter le corpus avec événements\n",
    "output_path = DATA_DIR / 'events.parquet'\n",
    "df.to_parquet(output_path, index=False)\n",
    "print(f\"✅ Événements exportés: {output_path}\")\n",
    "print(f\"   Taille: {output_path.stat().st_size / 1024 / 1024:.2f} MB\")"
   ]
  },
  {
   "cell_type": "code",
   "execution_count": 12,
   "metadata": {
    "execution": {
     "iopub.execute_input": "2025-10-16T14:36:41.559104Z",
     "iopub.status.busy": "2025-10-16T14:36:41.558104Z",
     "iopub.status.idle": "2025-10-16T14:36:41.574582Z",
     "shell.execute_reply": "2025-10-16T14:36:41.574582Z"
    }
   },
   "outputs": [
    {
     "name": "stdout",
     "output_type": "stream",
     "text": [
      "\n",
      "📋 Phrases avec au moins un événement: 2,668\n",
      "   (4.5% du corpus)\n",
      "\n",
      "✅ Résumé événements exporté: C:\\Users\\julie\\src\\School\\Workshop\\workshop-poudlard-epsi\\projects\\22-proces-jk-rowling\\hp_nlp\\data\\events_summary.parquet\n"
     ]
    }
   ],
   "source": [
    "# Exporter aussi un résumé des événements seulement\n",
    "events_only = df[df[[col for col in df.columns if col.startswith('event_') and not col.endswith(('_count', '_score', '_type', '_sentiment', '_categories'))]].any(axis=1)].copy()\n",
    "\n",
    "print(f\"\\n📋 Phrases avec au moins un événement: {len(events_only):,}\")\n",
    "print(f\"   ({len(events_only)/len(df)*100:.1f}% du corpus)\")\n",
    "\n",
    "events_summary_path = DATA_DIR / 'events_summary.parquet'\n",
    "events_only.to_parquet(events_summary_path, index=False)\n",
    "print(f\"\\n✅ Résumé événements exporté: {events_summary_path}\")"
   ]
  },
  {
   "cell_type": "markdown",
   "metadata": {},
   "source": [
    "## ✅ Résumé\n",
    "\n",
    "Ce notebook a:\n",
    "1. ✅ Détecté les moments où Harry touche sa cicatrice\n",
    "2. ✅ Compté les \"Mais\" d'Hermione dans ses dialogues\n",
    "3. ✅ Identifié les interventions de Dumbledore\n",
    "4. ✅ Repéré les moments où Rogue est mystérieux\n",
    "5. ✅ Classifié les actes répréhensibles par catégorie\n",
    "6. ✅ Exporté les événements détectés\n",
    "\n",
    "**Notes:**\n",
    "- Les détecteurs utilisent une combinaison de patterns regex et d'heuristiques\n",
    "- Pour améliorer: utiliser des modèles zero-shot NLI (transformers)\n",
    "- Les scores peuvent être ajustés selon les besoins\n",
    "\n",
    "**Prochaine étape**: Notebook 04 - Agrégation des résultats et visualisations"
   ]
  }
 ],
 "metadata": {
  "kernelspec": {
   "display_name": "Python 3",
   "language": "python",
   "name": "python3"
  },
  "language_info": {
   "codemirror_mode": {
    "name": "ipython",
    "version": 3
   },
   "file_extension": ".py",
   "mimetype": "text/x-python",
   "name": "python",
   "nbconvert_exporter": "python",
   "pygments_lexer": "ipython3",
   "version": "3.11.9"
  }
 },
 "nbformat": 4,
 "nbformat_minor": 4
}
